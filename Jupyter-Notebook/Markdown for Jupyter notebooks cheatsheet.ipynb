{
 "cells": [
  {
   "cell_type": "markdown",
   "metadata": {
    "toc": true
   },
   "source": [
    "<h1>Table of Contents<span class=\"tocSkip\"></span></h1>\n",
    "<div class=\"toc\"><ul class=\"toc-item\"><li><span><a href=\"#标题（Headings）\" data-toc-modified-id=\"标题（Headings）-1\"><span class=\"toc-item-num\">1&nbsp;&nbsp;</span>标题（Headings）</a></span></li><li><span><a href=\"#强调（Emphasis）\" data-toc-modified-id=\"强调（Emphasis）-2\"><span class=\"toc-item-num\">2&nbsp;&nbsp;</span>强调（Emphasis）</a></span></li><li><span><a href=\"#数学公式（Mathematical-symbols）\" data-toc-modified-id=\"数学公式（Mathematical-symbols）-3\"><span class=\"toc-item-num\">3&nbsp;&nbsp;</span>数学公式（Mathematical symbols）</a></span></li><li><span><a href=\"#等宽字体（Monospace-font）\" data-toc-modified-id=\"等宽字体（Monospace-font）-4\"><span class=\"toc-item-num\">4&nbsp;&nbsp;</span>等宽字体（Monospace font）</a></span></li><li><span><a href=\"#强制换行（Line-breaks）\" data-toc-modified-id=\"强制换行（Line-breaks）-5\"><span class=\"toc-item-num\">5&nbsp;&nbsp;</span>强制换行（Line breaks）</a></span></li><li><span><a href=\"#缩进（引用，Indenting）\" data-toc-modified-id=\"缩进（引用，Indenting）-6\"><span class=\"toc-item-num\">6&nbsp;&nbsp;</span>缩进（引用，Indenting）</a></span></li><li><span><a href=\"#子弹头（无序列表，Bullets）\" data-toc-modified-id=\"子弹头（无序列表，Bullets）-7\"><span class=\"toc-item-num\">7&nbsp;&nbsp;</span>子弹头（无序列表，Bullets）</a></span></li><li><span><a href=\"#有序列表（Numbered-lists）\" data-toc-modified-id=\"有序列表（Numbered-lists）-8\"><span class=\"toc-item-num\">8&nbsp;&nbsp;</span>有序列表（Numbered lists）</a></span></li><li><span><a href=\"#彩色便签盒（Colored-note-boxes）\" data-toc-modified-id=\"彩色便签盒（Colored-note-boxes）-9\"><span class=\"toc-item-num\">9&nbsp;&nbsp;</span>彩色便签盒（Colored note boxes）</a></span><ul class=\"toc-item\"><li><span><a href=\"#蓝色（警示---信息）（Blue-boxes-(alert-info)）\" data-toc-modified-id=\"蓝色（警示---信息）（Blue-boxes-(alert-info)）-9.1\"><span class=\"toc-item-num\">9.1&nbsp;&nbsp;</span>蓝色（警示 - 信息）（Blue boxes (alert-info)）</a></span></li><li><span><a href=\"#黄色（警示---警告）（Yellow-boxes-(alert-warning)-）\" data-toc-modified-id=\"黄色（警示---警告）（Yellow-boxes-(alert-warning)-）-9.2\"><span class=\"toc-item-num\">9.2&nbsp;&nbsp;</span>黄色（警示 - 警告）（Yellow boxes (alert-warning) ）</a></span></li><li><span><a href=\"#绿色（警示---成功）（Green-boxes-(alert-success)）\" data-toc-modified-id=\"绿色（警示---成功）（Green-boxes-(alert-success)）-9.3\"><span class=\"toc-item-num\">9.3&nbsp;&nbsp;</span>绿色（警示 - 成功）（Green boxes (alert-success)）</a></span></li><li><span><a href=\"#红色（警示---危险）（Red-boxes-(alert-danger)）\" data-toc-modified-id=\"红色（警示---危险）（Red-boxes-(alert-danger)）-9.4\"><span class=\"toc-item-num\">9.4&nbsp;&nbsp;</span>红色（警示 - 危险）（Red boxes (alert-danger)）</a></span></li></ul></li><li><span><a href=\"#图像（Graphics）\" data-toc-modified-id=\"图像（Graphics）-10\"><span class=\"toc-item-num\">10&nbsp;&nbsp;</span>图像（Graphics）</a></span></li><li><span><a href=\"#几何图形（Geometric-shapes）\" data-toc-modified-id=\"几何图形（Geometric-shapes）-11\"><span class=\"toc-item-num\">11&nbsp;&nbsp;</span>几何图形（Geometric shapes）</a></span></li><li><span><a href=\"#水平线（Horizontal-lines）\" data-toc-modified-id=\"水平线（Horizontal-lines）-12\"><span class=\"toc-item-num\">12&nbsp;&nbsp;</span>水平线（Horizontal lines）</a></span></li><li><span><a href=\"#内链（Internal-links）\" data-toc-modified-id=\"内链（Internal-links）-13\"><span class=\"toc-item-num\">13&nbsp;&nbsp;</span>内链（Internal links）</a></span></li><li><span><a href=\"#外链（External-links）\" data-toc-modified-id=\"外链（External-links）-14\"><span class=\"toc-item-num\">14&nbsp;&nbsp;</span>外链（External links）</a></span></li><li><span><a href=\"#其他\" data-toc-modified-id=\"其他-15\"><span class=\"toc-item-num\">15&nbsp;&nbsp;</span>其他</a></span></li></ul></div>"
   ]
  },
  {
   "cell_type": "markdown",
   "metadata": {},
   "source": [
    "前言：由于频繁使用 Jupyter Notebook 的 Markdown 语法，便从网上找到相关语法文档。原网址没有简中版，因此，个人便试着翻译或重组。\n",
    "\n",
    "原网址：[Markdown for Jupyter notebooks cheatsheet](https://www.ibm.com/support/knowledgecenter/en/SSGNPV_1.1.3/dsx/markd-jupyter.html)"
   ]
  },
  {
   "cell_type": "markdown",
   "metadata": {},
   "source": [
    "## 标题（Headings）"
   ]
  },
  {
   "cell_type": "markdown",
   "metadata": {},
   "source": [
    "标准的 Markdown 语法，# 加一个空格，构成标题。标题大小从一级到六级。\n",
    "\n",
    "也可使用快捷键：选中单元格 → 数字 1~6 分别对应一到六级标题。"
   ]
  },
  {
   "cell_type": "markdown",
   "metadata": {},
   "source": [
    "# 一级标题"
   ]
  },
  {
   "cell_type": "markdown",
   "metadata": {},
   "source": [
    "## 二级标题"
   ]
  },
  {
   "cell_type": "markdown",
   "metadata": {},
   "source": [
    "### 三级标题"
   ]
  },
  {
   "cell_type": "markdown",
   "metadata": {},
   "source": [
    "#### 四级标题"
   ]
  },
  {
   "cell_type": "markdown",
   "metadata": {},
   "source": [
    "##### 五级标题"
   ]
  },
  {
   "cell_type": "markdown",
   "metadata": {},
   "source": [
    "###### 六级标题"
   ]
  },
  {
   "cell_type": "markdown",
   "metadata": {},
   "source": [
    "- \\# 一级标题\n",
    "- \\## 二级标题\n",
    "- \\### 三级标题\n",
    "- \\#### 四级标题\n",
    "- \\##### 五级标题\n",
    "- \\###### 六级标题"
   ]
  },
  {
   "cell_type": "markdown",
   "metadata": {},
   "source": [
    "## 强调（Emphasis）"
   ]
  },
  {
   "cell_type": "markdown",
   "metadata": {},
   "source": [
    "使用下划线 _ 或者星号 * 。"
   ]
  },
  {
   "cell_type": "markdown",
   "metadata": {},
   "source": [
    "效果：\n",
    "- 加粗：__加粗__ 或者 **加粗**\n",
    "- 斜体：_斜体_ 或者 *斜体*\n",
    "***\n",
    "语法：\n",
    "- 加粗：\\_\\_加粗\\_\\_ 或者 \\*\\*加粗\\*\\*\n",
    "- 斜体：\\_斜体\\_ 或者 \\*斜体\\*"
   ]
  },
  {
   "cell_type": "markdown",
   "metadata": {},
   "source": [
    "## 数学公式（Mathematical symbols）"
   ]
  },
  {
   "cell_type": "markdown",
   "metadata": {},
   "source": [
    "$ mathematical symbols $"
   ]
  },
  {
   "cell_type": "markdown",
   "metadata": {},
   "source": [
    "## 等宽字体（Monospace font）"
   ]
  },
  {
   "cell_type": "markdown",
   "metadata": {},
   "source": [
    "效果：`等宽字体`。\n",
    "\n",
    "个人一般用作代码标记，如`data.head()`。\n",
    "***\n",
    "语法：在文字前后使用  `  :"
   ]
  },
  {
   "cell_type": "markdown",
   "metadata": {},
   "source": [
    "`string`"
   ]
  },
  {
   "cell_type": "markdown",
   "metadata": {},
   "source": [
    "## 强制换行（Line breaks）"
   ]
  },
  {
   "cell_type": "markdown",
   "metadata": {},
   "source": [
    "<br>"
   ]
  },
  {
   "cell_type": "markdown",
   "metadata": {},
   "source": [
    "## 缩进（引用，Indenting）"
   ]
  },
  {
   "cell_type": "markdown",
   "metadata": {},
   "source": [
    "效果：\n",
    "> 那一天我二十一岁，在我一生的黄金时代。我有好多奢望。我想爱，想吃，还想再一瞬间变成天上半明半暗的云。我来我才知道，生活就是个缓慢受锤的过程，人一天天老下去，奢望也一天天消失，最后变得像挨了锤的牛一样。可是我过二十一岁生日时没有预见到这一点。我觉得自己会永远生猛下去，什么也锤不了我。—— from 王小波\n",
    "***\n",
    "语法："
   ]
  },
  {
   "cell_type": "markdown",
   "metadata": {},
   "source": [
    "> 那一天我二十一岁，在我一生的黄金时代。我有好多奢望。我想爱，想吃，还想再一瞬间变成天上半明半暗的云。我来我才知道，生活就是个缓慢受锤的过程，人一天天老下去，奢望也一天天消失，最后变得像挨了锤的牛一样。可是我过二十一岁生日时没有预见到这一点。我觉得自己会永远生猛下去，什么也锤不了我。—— from 王小波\n",
    "\n",
    "如果是多级引用，则使用多个 > 即可。"
   ]
  },
  {
   "cell_type": "markdown",
   "metadata": {},
   "source": [
    "## 子弹头（无序列表，Bullets）"
   ]
  },
  {
   "cell_type": "markdown",
   "metadata": {},
   "source": [
    "使用连字符（-）或星号（\\*）加空格（ ）。若想生成不同等级列表，可使用缩进满足需求。\n",
    "\n",
    "效果：\n",
    "-  一级子弹头\n",
    " - 二级子弹头\n",
    "    * 三级子弹头\n",
    "***\n",
    "语法：\n",
    "\n",
    "\\-  一级子弹头\n",
    "\n",
    " \\- 二级子弹头\n",
    " \n",
    "    * 三级子弹头"
   ]
  },
  {
   "cell_type": "markdown",
   "metadata": {},
   "source": [
    "## 有序列表（Numbered lists）"
   ]
  },
  {
   "cell_type": "markdown",
   "metadata": {},
   "source": [
    "效果：\n",
    "1. 一\n",
    "1. 二\n",
    "***\n",
    "语法：输入`1.`加` `（空格）。"
   ]
  },
  {
   "cell_type": "markdown",
   "metadata": {},
   "source": [
    "1. 一\n",
    "1. 二"
   ]
  },
  {
   "cell_type": "markdown",
   "metadata": {},
   "source": [
    "## 彩色便签盒（Colored note boxes）"
   ]
  },
  {
   "cell_type": "markdown",
   "metadata": {},
   "source": [
    "使用&lt;div>标签实现彩色便签盒。"
   ]
  },
  {
   "cell_type": "markdown",
   "metadata": {},
   "source": [
    "<div class=\"alert alert-block alert-danger\">\n",
    "<b>限制规定：</b><br>不是所有的 Markdown 代码都会正确显示`<dig>`标签。因此，请小心检查你的彩色便签盒。比如说，为了加粗某个词，使用 HTML 语法（&lt;b>加粗&lt;\\b>），而不是使用 Markdown 语法。\n",
    "</div>"
   ]
  },
  {
   "cell_type": "markdown",
   "metadata": {},
   "source": [
    "### 蓝色（警示 - 信息）（Blue boxes (alert-info)）"
   ]
  },
  {
   "cell_type": "markdown",
   "metadata": {},
   "source": [
    "效果：\n",
    "<div class=\"alert alert-block alert-info\">\n",
    "<b>Tip:</b> Use blue boxes (alert-info) for tips and notes. \n",
    "If it’s a note, you don’t have to include the word “Note”.\n",
    "</div>\n",
    "\n",
    "***\n",
    "语法："
   ]
  },
  {
   "cell_type": "markdown",
   "metadata": {},
   "source": [
    "<div class=\"alert alert-block alert-info\">\n",
    "<b>Tip:</b> Use blue boxes (alert-info) for tips and notes. \n",
    "If it’s a note, you don’t have to include the word “Note”.\n",
    "</div>"
   ]
  },
  {
   "cell_type": "markdown",
   "metadata": {},
   "source": [
    "### 黄色（警示 - 警告）（Yellow boxes (alert-warning) ）"
   ]
  },
  {
   "cell_type": "markdown",
   "metadata": {},
   "source": [
    "效果：\n",
    "<div class=\"alert alert-block alert-warning\">\n",
    "<b>Example:</b> Use yellow boxes for examples that are not \n",
    "inside code cells, or use for mathematical formulas if needed.\n",
    "</div>\n",
    "\n",
    "***\n",
    "语法："
   ]
  },
  {
   "cell_type": "markdown",
   "metadata": {},
   "source": [
    "<div class=\"alert alert-block alert-warning\">\n",
    "<b>Example:</b> Use yellow boxes for examples that are not \n",
    "inside code cells, or use for mathematical formulas if needed.\n",
    "</div>"
   ]
  },
  {
   "cell_type": "markdown",
   "metadata": {},
   "source": [
    "### 绿色（警示 - 成功）（Green boxes (alert-success)）"
   ]
  },
  {
   "cell_type": "markdown",
   "metadata": {},
   "source": [
    "效果：\n",
    "<div class=\"alert alert-block alert-success\">\n",
    "<b>Up to you:</b> Use green boxes sparingly, and only for some specific \n",
    "purpose that the other boxes can't cover. For example, if you have a lot \n",
    "of related content to link to, maybe you decide to use green boxes for \n",
    "related links from each section of a notebook.\n",
    "</div>\n",
    "\n",
    "***\n",
    "语法："
   ]
  },
  {
   "cell_type": "markdown",
   "metadata": {},
   "source": [
    "<div class=\"alert alert-block alert-success\">\n",
    "<b>Up to you:</b> Use green boxes sparingly, and only for some specific \n",
    "purpose that the other boxes can't cover. For example, if you have a lot \n",
    "of related content to link to, maybe you decide to use green boxes for \n",
    "related links from each section of a notebook.\n",
    "</div>"
   ]
  },
  {
   "cell_type": "markdown",
   "metadata": {},
   "source": [
    "### 红色（警示 - 危险）（Red boxes (alert-danger)）"
   ]
  },
  {
   "cell_type": "markdown",
   "metadata": {},
   "source": [
    "效果：\n",
    "<div class=\"alert alert-block alert-danger\">\n",
    "<b>Just don't:</b> In general, avoid the red boxes. These should only be\n",
    "used for actions that might cause data loss or another major issue.\n",
    "</div>\n",
    "\n",
    "***\n",
    "语法："
   ]
  },
  {
   "cell_type": "markdown",
   "metadata": {},
   "source": [
    "<div class=\"alert alert-block alert-danger\">\n",
    "<b>Just don't:</b> In general, avoid the red boxes. These should only be\n",
    "used for actions that might cause data loss or another major issue.\n",
    "</div>"
   ]
  },
  {
   "cell_type": "markdown",
   "metadata": {},
   "source": [
    "## 图像（Graphics）"
   ]
  },
  {
   "attachments": {},
   "cell_type": "markdown",
   "metadata": {},
   "source": [
    "导入图片的方式：\n",
    "1. 直接将图片拽入单元格；\n",
    "1. 使用 Markdown 语法添加图片；\n",
    "1. 使用&lt;img>标签添加图片。\n",
    "\n",
    "前两种方法，无法调整图片属性，只能按图片原始尺寸插入单元格。使用&lt;img>标签添加图片的话，可以手动调整图片属性，包括图片高度、宽度、标题等等。"
   ]
  },
  {
   "cell_type": "markdown",
   "metadata": {},
   "source": [
    "<img src=\"url.gif\" alt=\"Alt text that describes the graphic\" title=\"Title text\" />"
   ]
  },
  {
   "cell_type": "markdown",
   "metadata": {},
   "source": [
    "如果想调整图片的大小，可使用如下语法："
   ]
  },
  {
   "cell_type": "markdown",
   "metadata": {},
   "source": [
    "<img src=\"url.jpg\" style=\"width:500px\">\n",
    "\n",
    "width:500px 即是手动设置图片的宽度。"
   ]
  },
  {
   "cell_type": "markdown",
   "metadata": {},
   "source": [
    "<div class=\"alert alert-block alert-danger\">不能在标题中添加图片！</div>"
   ]
  },
  {
   "cell_type": "markdown",
   "metadata": {},
   "source": [
    "## 几何图形（Geometric shapes）"
   ]
  },
  {
   "cell_type": "markdown",
   "metadata": {},
   "source": [
    "效果：\n",
    "\n",
    "&#9634;\n",
    "\n",
    "&#9635;\n",
    "***\n",
    "语法：\n",
    "&#Dec_number;\n",
    "\n",
    "几何图形相关链接：[HTML Unicode UTF-8](https://www.w3schools.com/charsets/ref_utf_geometric.asp)"
   ]
  },
  {
   "cell_type": "markdown",
   "metadata": {},
   "source": [
    "## 水平线（Horizontal lines）"
   ]
  },
  {
   "cell_type": "markdown",
   "metadata": {},
   "source": [
    "效果：\n",
    "***\n",
    "\n",
    "***\n",
    "语法：\n",
    "\\***"
   ]
  },
  {
   "cell_type": "markdown",
   "metadata": {},
   "source": [
    "## 内链（Internal links）"
   ]
  },
  {
   "cell_type": "markdown",
   "metadata": {},
   "source": [
    "如果想链接 notebook 中的标题，可使用如下代码：\n",
    "\n",
    "[点击这个会跳到“图像”部分](#图像)"
   ]
  },
  {
   "cell_type": "markdown",
   "metadata": {},
   "source": [
    "<div class=\"alert alert-block alert-warning\">\n",
    "    Each ID in the notebook must be unique.\n",
    "</div>"
   ]
  },
  {
   "cell_type": "markdown",
   "metadata": {},
   "source": [
    "## 外链（External links）"
   ]
  },
  {
   "cell_type": "markdown",
   "metadata": {},
   "source": [
    "__[link text](http://url)__"
   ]
  },
  {
   "cell_type": "markdown",
   "metadata": {},
   "source": [
    "__[Home / Twitter](https://twitter.com/home)__"
   ]
  },
  {
   "cell_type": "markdown",
   "metadata": {},
   "source": [
    "## 其他"
   ]
  },
  {
   "cell_type": "markdown",
   "metadata": {},
   "source": [
    "Jupyter Notebook 的官方文档手册：[Jupyter Notebook Users Manual.ipynb](https://jupyter.brynmawr.edu/services/public/dblank/Jupyter%20Notebook%20Users%20Manual.ipynb#4.3.5-Notebook-Internal-Links)"
   ]
  }
 ],
 "metadata": {
  "kernelspec": {
   "display_name": "Python 3",
   "language": "python",
   "name": "python3"
  },
  "language_info": {
   "codemirror_mode": {
    "name": "ipython",
    "version": 3
   },
   "file_extension": ".py",
   "mimetype": "text/x-python",
   "name": "python",
   "nbconvert_exporter": "python",
   "pygments_lexer": "ipython3",
   "version": "3.7.4"
  },
  "toc": {
   "base_numbering": 1,
   "nav_menu": {},
   "number_sections": true,
   "sideBar": true,
   "skip_h1_title": false,
   "title_cell": "Table of Contents",
   "title_sidebar": "Contents",
   "toc_cell": true,
   "toc_position": {},
   "toc_section_display": true,
   "toc_window_display": true
  },
  "varInspector": {
   "cols": {
    "lenName": 16,
    "lenType": 16,
    "lenVar": 40
   },
   "kernels_config": {
    "python": {
     "delete_cmd_postfix": "",
     "delete_cmd_prefix": "del ",
     "library": "var_list.py",
     "varRefreshCmd": "print(var_dic_list())"
    },
    "r": {
     "delete_cmd_postfix": ") ",
     "delete_cmd_prefix": "rm(",
     "library": "var_list.r",
     "varRefreshCmd": "cat(var_dic_list()) "
    }
   },
   "types_to_exclude": [
    "module",
    "function",
    "builtin_function_or_method",
    "instance",
    "_Feature"
   ],
   "window_display": false
  }
 },
 "nbformat": 4,
 "nbformat_minor": 2
}
