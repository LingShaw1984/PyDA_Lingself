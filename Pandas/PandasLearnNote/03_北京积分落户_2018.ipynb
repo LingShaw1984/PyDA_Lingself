{
 "cells": [
  {
   "cell_type": "markdown",
   "metadata": {},
   "source": [
    "## 简述"
   ]
  },
  {
   "cell_type": "markdown",
   "metadata": {},
   "source": [
    "本数据集来自互联网，其内容是关于 2018 年北京落户的数据。\n",
    "\n",
    "字段包括：\n",
    "\n",
    "- id：编号\n",
    "\n",
    "- name：姓名\n",
    "\n",
    "- birthday：出生日期\n",
    "\n",
    "- company：所属公司\n",
    "\n",
    "- score：积分"
   ]
  },
  {
   "cell_type": "markdown",
   "metadata": {},
   "source": [
    "### 分析目的"
   ]
  },
  {
   "cell_type": "markdown",
   "metadata": {},
   "source": [
    "- 分析落户者的年龄分布\n",
    "\n",
    "\n",
    "- 分析落户者的公司分布"
   ]
  },
  {
   "cell_type": "markdown",
   "metadata": {},
   "source": [
    "## 分析数据"
   ]
  },
  {
   "cell_type": "code",
   "execution_count": 79,
   "metadata": {},
   "outputs": [
    {
     "data": {
      "text/html": [
       "<div>\n",
       "<style scoped>\n",
       "    .dataframe tbody tr th:only-of-type {\n",
       "        vertical-align: middle;\n",
       "    }\n",
       "\n",
       "    .dataframe tbody tr th {\n",
       "        vertical-align: top;\n",
       "    }\n",
       "\n",
       "    .dataframe thead th {\n",
       "        text-align: right;\n",
       "    }\n",
       "</style>\n",
       "<table border=\"1\" class=\"dataframe\">\n",
       "  <thead>\n",
       "    <tr style=\"text-align: right;\">\n",
       "      <th></th>\n",
       "      <th>id</th>\n",
       "      <th>name</th>\n",
       "      <th>birthday</th>\n",
       "      <th>company</th>\n",
       "      <th>score</th>\n",
       "    </tr>\n",
       "  </thead>\n",
       "  <tbody>\n",
       "    <tr>\n",
       "      <td>0</td>\n",
       "      <td>1</td>\n",
       "      <td>杨效丰</td>\n",
       "      <td>1972-12</td>\n",
       "      <td>北京利德华福电气技术有限公司</td>\n",
       "      <td>122.59</td>\n",
       "    </tr>\n",
       "    <tr>\n",
       "      <td>1</td>\n",
       "      <td>2</td>\n",
       "      <td>纪丰伟</td>\n",
       "      <td>1974-12</td>\n",
       "      <td>北京航天数据股份有限公司</td>\n",
       "      <td>121.25</td>\n",
       "    </tr>\n",
       "    <tr>\n",
       "      <td>2</td>\n",
       "      <td>3</td>\n",
       "      <td>王永</td>\n",
       "      <td>1974-05</td>\n",
       "      <td>品牌联盟(北京)咨询股份公司</td>\n",
       "      <td>118.96</td>\n",
       "    </tr>\n",
       "    <tr>\n",
       "      <td>3</td>\n",
       "      <td>4</td>\n",
       "      <td>杨静</td>\n",
       "      <td>1975-07</td>\n",
       "      <td>中科专利商标代理有限责任公司</td>\n",
       "      <td>118.21</td>\n",
       "    </tr>\n",
       "    <tr>\n",
       "      <td>4</td>\n",
       "      <td>5</td>\n",
       "      <td>张凯江</td>\n",
       "      <td>1974-11</td>\n",
       "      <td>北京阿里巴巴云计算技术有限公司</td>\n",
       "      <td>117.79</td>\n",
       "    </tr>\n",
       "  </tbody>\n",
       "</table>\n",
       "</div>"
      ],
      "text/plain": [
       "   id name birthday          company   score\n",
       "0   1  杨效丰  1972-12   北京利德华福电气技术有限公司  122.59\n",
       "1   2  纪丰伟  1974-12     北京航天数据股份有限公司  121.25\n",
       "2   3   王永  1974-05   品牌联盟(北京)咨询股份公司  118.96\n",
       "3   4   杨静  1975-07   中科专利商标代理有限责任公司  118.21\n",
       "4   5  张凯江  1974-11  北京阿里巴巴云计算技术有限公司  117.79"
      ]
     },
     "execution_count": 79,
     "metadata": {},
     "output_type": "execute_result"
    }
   ],
   "source": [
    "import pandas as pd\n",
    "import numpy as np\n",
    "import matplotlib as mpl\n",
    "import matplotlib.pyplot as plt\n",
    "import seaborn as sns\n",
    "\n",
    "sns.set(style='darkgrid', font='SimHei', rc={'axes.unicode_minus':False})\n",
    "\n",
    "raw_data = pd.read_csv(\"../20191018_2018年北京积分落户数据分析.csv\")\n",
    "\n",
    "raw_data.head()"
   ]
  },
  {
   "cell_type": "markdown",
   "metadata": {},
   "source": [
    "### 数据预处理"
   ]
  },
  {
   "cell_type": "markdown",
   "metadata": {},
   "source": [
    "#### 缺失值"
   ]
  },
  {
   "cell_type": "code",
   "execution_count": 5,
   "metadata": {},
   "outputs": [
    {
     "name": "stdout",
     "output_type": "stream",
     "text": [
      "<class 'pandas.core.frame.DataFrame'>\n",
      "RangeIndex: 6019 entries, 0 to 6018\n",
      "Data columns (total 5 columns):\n",
      "id          6019 non-null int64\n",
      "name        6019 non-null object\n",
      "birthday    6019 non-null object\n",
      "company     6019 non-null object\n",
      "score       6019 non-null float64\n",
      "dtypes: float64(1), int64(1), object(3)\n",
      "memory usage: 235.2+ KB\n"
     ]
    }
   ],
   "source": [
    "raw_data.info()\n",
    "\n",
    "# 检测结果：没有缺失值"
   ]
  },
  {
   "cell_type": "markdown",
   "metadata": {},
   "source": [
    "#### 重复值检测"
   ]
  },
  {
   "cell_type": "code",
   "execution_count": 18,
   "metadata": {},
   "outputs": [
    {
     "data": {
      "text/html": [
       "<div>\n",
       "<style scoped>\n",
       "    .dataframe tbody tr th:only-of-type {\n",
       "        vertical-align: middle;\n",
       "    }\n",
       "\n",
       "    .dataframe tbody tr th {\n",
       "        vertical-align: top;\n",
       "    }\n",
       "\n",
       "    .dataframe thead th {\n",
       "        text-align: right;\n",
       "    }\n",
       "</style>\n",
       "<table border=\"1\" class=\"dataframe\">\n",
       "  <thead>\n",
       "    <tr style=\"text-align: right;\">\n",
       "      <th></th>\n",
       "      <th>id</th>\n",
       "      <th>name</th>\n",
       "      <th>birthday</th>\n",
       "      <th>company</th>\n",
       "      <th>score</th>\n",
       "    </tr>\n",
       "  </thead>\n",
       "  <tbody>\n",
       "  </tbody>\n",
       "</table>\n",
       "</div>"
      ],
      "text/plain": [
       "Empty DataFrame\n",
       "Columns: [id, name, birthday, company, score]\n",
       "Index: []"
      ]
     },
     "execution_count": 18,
     "metadata": {},
     "output_type": "execute_result"
    }
   ],
   "source": [
    " raw_data[raw_data.duplicated()]\n",
    "\n",
    "# 检测结果：没有重复值"
   ]
  },
  {
   "cell_type": "markdown",
   "metadata": {},
   "source": [
    "#### 异常值检测"
   ]
  },
  {
   "cell_type": "code",
   "execution_count": 9,
   "metadata": {},
   "outputs": [
    {
     "data": {
      "text/html": [
       "<div>\n",
       "<style scoped>\n",
       "    .dataframe tbody tr th:only-of-type {\n",
       "        vertical-align: middle;\n",
       "    }\n",
       "\n",
       "    .dataframe tbody tr th {\n",
       "        vertical-align: top;\n",
       "    }\n",
       "\n",
       "    .dataframe thead th {\n",
       "        text-align: right;\n",
       "    }\n",
       "</style>\n",
       "<table border=\"1\" class=\"dataframe\">\n",
       "  <thead>\n",
       "    <tr style=\"text-align: right;\">\n",
       "      <th></th>\n",
       "      <th>id</th>\n",
       "      <th>score</th>\n",
       "    </tr>\n",
       "  </thead>\n",
       "  <tbody>\n",
       "    <tr>\n",
       "      <td>count</td>\n",
       "      <td>6019.000000</td>\n",
       "      <td>6019.000000</td>\n",
       "    </tr>\n",
       "    <tr>\n",
       "      <td>mean</td>\n",
       "      <td>3010.000000</td>\n",
       "      <td>95.654552</td>\n",
       "    </tr>\n",
       "    <tr>\n",
       "      <td>std</td>\n",
       "      <td>1737.679967</td>\n",
       "      <td>4.354445</td>\n",
       "    </tr>\n",
       "    <tr>\n",
       "      <td>min</td>\n",
       "      <td>1.000000</td>\n",
       "      <td>90.750000</td>\n",
       "    </tr>\n",
       "    <tr>\n",
       "      <td>25%</td>\n",
       "      <td>1505.500000</td>\n",
       "      <td>92.330000</td>\n",
       "    </tr>\n",
       "    <tr>\n",
       "      <td>50%</td>\n",
       "      <td>3010.000000</td>\n",
       "      <td>94.460000</td>\n",
       "    </tr>\n",
       "    <tr>\n",
       "      <td>75%</td>\n",
       "      <td>4514.500000</td>\n",
       "      <td>97.750000</td>\n",
       "    </tr>\n",
       "    <tr>\n",
       "      <td>max</td>\n",
       "      <td>6019.000000</td>\n",
       "      <td>122.590000</td>\n",
       "    </tr>\n",
       "  </tbody>\n",
       "</table>\n",
       "</div>"
      ],
      "text/plain": [
       "                id        score\n",
       "count  6019.000000  6019.000000\n",
       "mean   3010.000000    95.654552\n",
       "std    1737.679967     4.354445\n",
       "min       1.000000    90.750000\n",
       "25%    1505.500000    92.330000\n",
       "50%    3010.000000    94.460000\n",
       "75%    4514.500000    97.750000\n",
       "max    6019.000000   122.590000"
      ]
     },
     "execution_count": 9,
     "metadata": {},
     "output_type": "execute_result"
    }
   ],
   "source": [
    "raw_data.describe()\n",
    "\n",
    "# 基本没法发现异常值"
   ]
  },
  {
   "cell_type": "code",
   "execution_count": 12,
   "metadata": {},
   "outputs": [
    {
     "data": {
      "text/plain": [
       "<matplotlib.axes._subplots.AxesSubplot at 0x1c63b93bb38>"
      ]
     },
     "execution_count": 12,
     "metadata": {},
     "output_type": "execute_result"
    },
    {
     "data": {
      "image/png": "[encoded data removed]",
      "text/plain": [
       "<Figure size 1080x720 with 1 Axes>"
      ]
     },
     "metadata": {},
     "output_type": "display_data"
    }
   ],
   "source": [
    "# 使用箱型图检测\n",
    "plt.figure(figsize=(15,10))\n",
    "plt.xticks(rotation=45, fontsize=15)\n",
    "sns.boxplot(data=raw_data.score)"
   ]
  },
  {
   "cell_type": "code",
   "execution_count": 17,
   "metadata": {},
   "outputs": [
    {
     "data": {
      "text/html": [
       "<div>\n",
       "<style scoped>\n",
       "    .dataframe tbody tr th:only-of-type {\n",
       "        vertical-align: middle;\n",
       "    }\n",
       "\n",
       "    .dataframe tbody tr th {\n",
       "        vertical-align: top;\n",
       "    }\n",
       "\n",
       "    .dataframe thead th {\n",
       "        text-align: right;\n",
       "    }\n",
       "</style>\n",
       "<table border=\"1\" class=\"dataframe\">\n",
       "  <thead>\n",
       "    <tr style=\"text-align: right;\">\n",
       "      <th></th>\n",
       "      <th>id</th>\n",
       "      <th>name</th>\n",
       "      <th>birthday</th>\n",
       "      <th>company</th>\n",
       "      <th>score</th>\n",
       "    </tr>\n",
       "  </thead>\n",
       "  <tbody>\n",
       "    <tr>\n",
       "      <td>0</td>\n",
       "      <td>1</td>\n",
       "      <td>杨效丰</td>\n",
       "      <td>1972-12</td>\n",
       "      <td>北京利德华福电气技术有限公司</td>\n",
       "      <td>122.59</td>\n",
       "    </tr>\n",
       "    <tr>\n",
       "      <td>1</td>\n",
       "      <td>2</td>\n",
       "      <td>纪丰伟</td>\n",
       "      <td>1974-12</td>\n",
       "      <td>北京航天数据股份有限公司</td>\n",
       "      <td>121.25</td>\n",
       "    </tr>\n",
       "    <tr>\n",
       "      <td>2</td>\n",
       "      <td>3</td>\n",
       "      <td>王永</td>\n",
       "      <td>1974-05</td>\n",
       "      <td>品牌联盟(北京)咨询股份公司</td>\n",
       "      <td>118.96</td>\n",
       "    </tr>\n",
       "    <tr>\n",
       "      <td>3</td>\n",
       "      <td>4</td>\n",
       "      <td>杨静</td>\n",
       "      <td>1975-07</td>\n",
       "      <td>中科专利商标代理有限责任公司</td>\n",
       "      <td>118.21</td>\n",
       "    </tr>\n",
       "    <tr>\n",
       "      <td>4</td>\n",
       "      <td>5</td>\n",
       "      <td>张凯江</td>\n",
       "      <td>1974-11</td>\n",
       "      <td>北京阿里巴巴云计算技术有限公司</td>\n",
       "      <td>117.79</td>\n",
       "    </tr>\n",
       "    <tr>\n",
       "      <td>...</td>\n",
       "      <td>...</td>\n",
       "      <td>...</td>\n",
       "      <td>...</td>\n",
       "      <td>...</td>\n",
       "      <td>...</td>\n",
       "    </tr>\n",
       "    <tr>\n",
       "      <td>188</td>\n",
       "      <td>189</td>\n",
       "      <td>徐洪菲</td>\n",
       "      <td>1973-07</td>\n",
       "      <td>诺和诺德（中国）制药有限公司北京分公司</td>\n",
       "      <td>106.12</td>\n",
       "    </tr>\n",
       "    <tr>\n",
       "      <td>189</td>\n",
       "      <td>190</td>\n",
       "      <td>郭亚飞</td>\n",
       "      <td>1975-11</td>\n",
       "      <td>人民网股份有限公司</td>\n",
       "      <td>106.08</td>\n",
       "    </tr>\n",
       "    <tr>\n",
       "      <td>190</td>\n",
       "      <td>191</td>\n",
       "      <td>王梦良</td>\n",
       "      <td>1974-09</td>\n",
       "      <td>上海市对外服务有限公司北京人力资源分公司</td>\n",
       "      <td>106.08</td>\n",
       "    </tr>\n",
       "    <tr>\n",
       "      <td>191</td>\n",
       "      <td>192</td>\n",
       "      <td>贾莉</td>\n",
       "      <td>1972-05</td>\n",
       "      <td>清华大学</td>\n",
       "      <td>106.05</td>\n",
       "    </tr>\n",
       "    <tr>\n",
       "      <td>192</td>\n",
       "      <td>193</td>\n",
       "      <td>安伟</td>\n",
       "      <td>1974-07</td>\n",
       "      <td>北京同仁堂健康药业股份有限公司</td>\n",
       "      <td>106.04</td>\n",
       "    </tr>\n",
       "  </tbody>\n",
       "</table>\n",
       "<p>193 rows × 5 columns</p>\n",
       "</div>"
      ],
      "text/plain": [
       "      id name birthday               company   score\n",
       "0      1  杨效丰  1972-12        北京利德华福电气技术有限公司  122.59\n",
       "1      2  纪丰伟  1974-12          北京航天数据股份有限公司  121.25\n",
       "2      3   王永  1974-05        品牌联盟(北京)咨询股份公司  118.96\n",
       "3      4   杨静  1975-07        中科专利商标代理有限责任公司  118.21\n",
       "4      5  张凯江  1974-11       北京阿里巴巴云计算技术有限公司  117.79\n",
       "..   ...  ...      ...                   ...     ...\n",
       "188  189  徐洪菲  1973-07   诺和诺德（中国）制药有限公司北京分公司  106.12\n",
       "189  190  郭亚飞  1975-11             人民网股份有限公司  106.08\n",
       "190  191  王梦良  1974-09  上海市对外服务有限公司北京人力资源分公司  106.08\n",
       "191  192   贾莉  1972-05                  清华大学  106.05\n",
       "192  193   安伟  1974-07       北京同仁堂健康药业股份有限公司  106.04\n",
       "\n",
       "[193 rows x 5 columns]"
      ]
     },
     "execution_count": 17,
     "metadata": {},
     "output_type": "execute_result"
    }
   ],
   "source": [
    "# 根据箱型图，可大致发现：“异常值”都是大于 106 的值\n",
    "# 列出“异常值”\n",
    "raw_data[raw_data['score'] > 106]\n",
    "\n",
    "# 一共 193 条数据\n",
    "# 暂时保留这些异常值，不作处理"
   ]
  },
  {
   "cell_type": "markdown",
   "metadata": {},
   "source": [
    "#### 数据类型转换"
   ]
  },
  {
   "cell_type": "code",
   "execution_count": 19,
   "metadata": {},
   "outputs": [
    {
     "name": "stdout",
     "output_type": "stream",
     "text": [
      "<class 'pandas.core.frame.DataFrame'>\n",
      "RangeIndex: 6019 entries, 0 to 6018\n",
      "Data columns (total 5 columns):\n",
      "id          6019 non-null int64\n",
      "name        6019 non-null object\n",
      "birthday    6019 non-null object\n",
      "company     6019 non-null object\n",
      "score       6019 non-null float64\n",
      "dtypes: float64(1), int64(1), object(3)\n",
      "memory usage: 235.2+ KB\n"
     ]
    }
   ],
   "source": [
    "raw_data.info()\n",
    "\n",
    "# 检测结果：无需转换"
   ]
  },
  {
   "cell_type": "markdown",
   "metadata": {},
   "source": [
    "#### 重置索引"
   ]
  },
  {
   "cell_type": "code",
   "execution_count": 21,
   "metadata": {
    "scrolled": false
   },
   "outputs": [
    {
     "data": {
      "text/html": [
       "<div>\n",
       "<style scoped>\n",
       "    .dataframe tbody tr th:only-of-type {\n",
       "        vertical-align: middle;\n",
       "    }\n",
       "\n",
       "    .dataframe tbody tr th {\n",
       "        vertical-align: top;\n",
       "    }\n",
       "\n",
       "    .dataframe thead th {\n",
       "        text-align: right;\n",
       "    }\n",
       "</style>\n",
       "<table border=\"1\" class=\"dataframe\">\n",
       "  <thead>\n",
       "    <tr style=\"text-align: right;\">\n",
       "      <th></th>\n",
       "      <th>id</th>\n",
       "      <th>name</th>\n",
       "      <th>birthday</th>\n",
       "      <th>company</th>\n",
       "      <th>score</th>\n",
       "    </tr>\n",
       "  </thead>\n",
       "  <tbody>\n",
       "    <tr>\n",
       "      <td>0</td>\n",
       "      <td>1</td>\n",
       "      <td>杨效丰</td>\n",
       "      <td>1972-12</td>\n",
       "      <td>北京利德华福电气技术有限公司</td>\n",
       "      <td>122.59</td>\n",
       "    </tr>\n",
       "    <tr>\n",
       "      <td>1</td>\n",
       "      <td>2</td>\n",
       "      <td>纪丰伟</td>\n",
       "      <td>1974-12</td>\n",
       "      <td>北京航天数据股份有限公司</td>\n",
       "      <td>121.25</td>\n",
       "    </tr>\n",
       "    <tr>\n",
       "      <td>2</td>\n",
       "      <td>3</td>\n",
       "      <td>王永</td>\n",
       "      <td>1974-05</td>\n",
       "      <td>品牌联盟(北京)咨询股份公司</td>\n",
       "      <td>118.96</td>\n",
       "    </tr>\n",
       "    <tr>\n",
       "      <td>3</td>\n",
       "      <td>4</td>\n",
       "      <td>杨静</td>\n",
       "      <td>1975-07</td>\n",
       "      <td>中科专利商标代理有限责任公司</td>\n",
       "      <td>118.21</td>\n",
       "    </tr>\n",
       "    <tr>\n",
       "      <td>4</td>\n",
       "      <td>5</td>\n",
       "      <td>张凯江</td>\n",
       "      <td>1974-11</td>\n",
       "      <td>北京阿里巴巴云计算技术有限公司</td>\n",
       "      <td>117.79</td>\n",
       "    </tr>\n",
       "  </tbody>\n",
       "</table>\n",
       "</div>"
      ],
      "text/plain": [
       "   id name birthday          company   score\n",
       "0   1  杨效丰  1972-12   北京利德华福电气技术有限公司  122.59\n",
       "1   2  纪丰伟  1974-12     北京航天数据股份有限公司  121.25\n",
       "2   3   王永  1974-05   品牌联盟(北京)咨询股份公司  118.96\n",
       "3   4   杨静  1975-07   中科专利商标代理有限责任公司  118.21\n",
       "4   5  张凯江  1974-11  北京阿里巴巴云计算技术有限公司  117.79"
      ]
     },
     "execution_count": 21,
     "metadata": {},
     "output_type": "execute_result"
    }
   ],
   "source": [
    "raw_data.head()\n",
    "\n",
    "# 检测结果：无需重置索引"
   ]
  },
  {
   "cell_type": "markdown",
   "metadata": {},
   "source": [
    "### 数据分析"
   ]
  },
  {
   "cell_type": "markdown",
   "metadata": {
    "heading_collapsed": true
   },
   "source": [
    "#### 分析落户者的年龄分布"
   ]
  },
  {
   "cell_type": "code",
   "execution_count": 80,
   "metadata": {
    "hidden": true
   },
   "outputs": [
    {
     "data": {
      "text/html": [
       "<div>\n",
       "<style scoped>\n",
       "    .dataframe tbody tr th:only-of-type {\n",
       "        vertical-align: middle;\n",
       "    }\n",
       "\n",
       "    .dataframe tbody tr th {\n",
       "        vertical-align: top;\n",
       "    }\n",
       "\n",
       "    .dataframe thead th {\n",
       "        text-align: right;\n",
       "    }\n",
       "</style>\n",
       "<table border=\"1\" class=\"dataframe\">\n",
       "  <thead>\n",
       "    <tr style=\"text-align: right;\">\n",
       "      <th></th>\n",
       "      <th>id</th>\n",
       "      <th>name</th>\n",
       "      <th>birthday</th>\n",
       "      <th>company</th>\n",
       "      <th>score</th>\n",
       "    </tr>\n",
       "  </thead>\n",
       "  <tbody>\n",
       "    <tr>\n",
       "      <td>2489</td>\n",
       "      <td>2490</td>\n",
       "      <td>宋玉印</td>\n",
       "      <td>1958-07</td>\n",
       "      <td>中矿资源勘探股份有限公司</td>\n",
       "      <td>95.37</td>\n",
       "    </tr>\n",
       "    <tr>\n",
       "      <td>3362</td>\n",
       "      <td>3363</td>\n",
       "      <td>白利光</td>\n",
       "      <td>1959-09</td>\n",
       "      <td>北京国华电力有限责任公司</td>\n",
       "      <td>93.88</td>\n",
       "    </tr>\n",
       "    <tr>\n",
       "      <td>4494</td>\n",
       "      <td>4495</td>\n",
       "      <td>徐振山</td>\n",
       "      <td>1960-09</td>\n",
       "      <td>北京国华电力有限责任公司</td>\n",
       "      <td>92.34</td>\n",
       "    </tr>\n",
       "    <tr>\n",
       "      <td>3307</td>\n",
       "      <td>3308</td>\n",
       "      <td>邓幼强</td>\n",
       "      <td>1961-09</td>\n",
       "      <td>北京迈威机械有限责任公司</td>\n",
       "      <td>93.96</td>\n",
       "    </tr>\n",
       "    <tr>\n",
       "      <td>1604</td>\n",
       "      <td>1605</td>\n",
       "      <td>李翎</td>\n",
       "      <td>1963-09</td>\n",
       "      <td>施乐辉医用产品国际贸易（上海）有限公司北京分公司</td>\n",
       "      <td>97.46</td>\n",
       "    </tr>\n",
       "    <tr>\n",
       "      <td>...</td>\n",
       "      <td>...</td>\n",
       "      <td>...</td>\n",
       "      <td>...</td>\n",
       "      <td>...</td>\n",
       "      <td>...</td>\n",
       "    </tr>\n",
       "    <tr>\n",
       "      <td>5895</td>\n",
       "      <td>5896</td>\n",
       "      <td>王成法</td>\n",
       "      <td>1984-09</td>\n",
       "      <td>百度在线网络技术（北京）有限公司</td>\n",
       "      <td>90.87</td>\n",
       "    </tr>\n",
       "    <tr>\n",
       "      <td>2723</td>\n",
       "      <td>2724</td>\n",
       "      <td>杨在申</td>\n",
       "      <td>1984-11</td>\n",
       "      <td>百度时代网络技术（北京）有限公司</td>\n",
       "      <td>94.96</td>\n",
       "    </tr>\n",
       "    <tr>\n",
       "      <td>2831</td>\n",
       "      <td>2832</td>\n",
       "      <td>聂愿愿</td>\n",
       "      <td>1985-01</td>\n",
       "      <td>北京华为数字技术有限公司</td>\n",
       "      <td>94.75</td>\n",
       "    </tr>\n",
       "    <tr>\n",
       "      <td>5179</td>\n",
       "      <td>5180</td>\n",
       "      <td>廉峰哲</td>\n",
       "      <td>1985-08</td>\n",
       "      <td>北京戴德梁行物业管理有限公司</td>\n",
       "      <td>91.62</td>\n",
       "    </tr>\n",
       "    <tr>\n",
       "      <td>2744</td>\n",
       "      <td>2745</td>\n",
       "      <td>陈钟</td>\n",
       "      <td>1985-09</td>\n",
       "      <td>北京字节跳动科技有限公司</td>\n",
       "      <td>94.91</td>\n",
       "    </tr>\n",
       "  </tbody>\n",
       "</table>\n",
       "<p>6019 rows × 5 columns</p>\n",
       "</div>"
      ],
      "text/plain": [
       "        id name birthday                   company  score\n",
       "2489  2490  宋玉印  1958-07              中矿资源勘探股份有限公司  95.37\n",
       "3362  3363  白利光  1959-09              北京国华电力有限责任公司  93.88\n",
       "4494  4495  徐振山  1960-09              北京国华电力有限责任公司  92.34\n",
       "3307  3308  邓幼强  1961-09              北京迈威机械有限责任公司  93.96\n",
       "1604  1605   李翎  1963-09  施乐辉医用产品国际贸易（上海）有限公司北京分公司  97.46\n",
       "...    ...  ...      ...                       ...    ...\n",
       "5895  5896  王成法  1984-09          百度在线网络技术（北京）有限公司  90.87\n",
       "2723  2724  杨在申  1984-11          百度时代网络技术（北京）有限公司  94.96\n",
       "2831  2832  聂愿愿  1985-01              北京华为数字技术有限公司  94.75\n",
       "5179  5180  廉峰哲  1985-08            北京戴德梁行物业管理有限公司  91.62\n",
       "2744  2745   陈钟  1985-09              北京字节跳动科技有限公司  94.91\n",
       "\n",
       "[6019 rows x 5 columns]"
      ]
     },
     "execution_count": 80,
     "metadata": {},
     "output_type": "execute_result"
    }
   ],
   "source": [
    "# 查看年龄最大和最小的前五\n",
    "raw_data.sort_values(by='birthday')"
   ]
  },
  {
   "cell_type": "code",
   "execution_count": 83,
   "metadata": {
    "hidden": true
   },
   "outputs": [],
   "source": [
    "# 创建新列，计算年龄\n",
    "\n",
    "# 首先进行数据类型转换\n",
    "raw_data['birthday'] = pd.to_datetime(raw_data['birthday'])\n",
    "# 输入当前时间\n",
    "now = pd.Timestamp('now')\n",
    "# 创建新列\n",
    "raw_data['age'] = (now - raw_data['birthday']).astype('<m8[Y]')"
   ]
  },
  {
   "cell_type": "code",
   "execution_count": 85,
   "metadata": {
    "hidden": true,
    "scrolled": true
   },
   "outputs": [
    {
     "data": {
      "text/html": [
       "<div>\n",
       "<style scoped>\n",
       "    .dataframe tbody tr th:only-of-type {\n",
       "        vertical-align: middle;\n",
       "    }\n",
       "\n",
       "    .dataframe tbody tr th {\n",
       "        vertical-align: top;\n",
       "    }\n",
       "\n",
       "    .dataframe thead th {\n",
       "        text-align: right;\n",
       "    }\n",
       "</style>\n",
       "<table border=\"1\" class=\"dataframe\">\n",
       "  <thead>\n",
       "    <tr style=\"text-align: right;\">\n",
       "      <th></th>\n",
       "      <th>id</th>\n",
       "      <th>name</th>\n",
       "      <th>birthday</th>\n",
       "      <th>company</th>\n",
       "      <th>score</th>\n",
       "      <th>age</th>\n",
       "    </tr>\n",
       "  </thead>\n",
       "  <tbody>\n",
       "    <tr>\n",
       "      <td>5179</td>\n",
       "      <td>5180</td>\n",
       "      <td>廉峰哲</td>\n",
       "      <td>1985-08-01</td>\n",
       "      <td>北京戴德梁行物业管理有限公司</td>\n",
       "      <td>91.62</td>\n",
       "      <td>34.0</td>\n",
       "    </tr>\n",
       "    <tr>\n",
       "      <td>2831</td>\n",
       "      <td>2832</td>\n",
       "      <td>聂愿愿</td>\n",
       "      <td>1985-01-01</td>\n",
       "      <td>北京华为数字技术有限公司</td>\n",
       "      <td>94.75</td>\n",
       "      <td>34.0</td>\n",
       "    </tr>\n",
       "    <tr>\n",
       "      <td>2744</td>\n",
       "      <td>2745</td>\n",
       "      <td>陈钟</td>\n",
       "      <td>1985-09-01</td>\n",
       "      <td>北京字节跳动科技有限公司</td>\n",
       "      <td>94.91</td>\n",
       "      <td>34.0</td>\n",
       "    </tr>\n",
       "    <tr>\n",
       "      <td>2723</td>\n",
       "      <td>2724</td>\n",
       "      <td>杨在申</td>\n",
       "      <td>1984-11-01</td>\n",
       "      <td>百度时代网络技术（北京）有限公司</td>\n",
       "      <td>94.96</td>\n",
       "      <td>35.0</td>\n",
       "    </tr>\n",
       "    <tr>\n",
       "      <td>4300</td>\n",
       "      <td>4301</td>\n",
       "      <td>许玲</td>\n",
       "      <td>1984-02-01</td>\n",
       "      <td>北京阿里巴巴云计算技术有限公司</td>\n",
       "      <td>92.59</td>\n",
       "      <td>35.0</td>\n",
       "    </tr>\n",
       "    <tr>\n",
       "      <td>...</td>\n",
       "      <td>...</td>\n",
       "      <td>...</td>\n",
       "      <td>...</td>\n",
       "      <td>...</td>\n",
       "      <td>...</td>\n",
       "      <td>...</td>\n",
       "    </tr>\n",
       "    <tr>\n",
       "      <td>1604</td>\n",
       "      <td>1605</td>\n",
       "      <td>李翎</td>\n",
       "      <td>1963-09-01</td>\n",
       "      <td>施乐辉医用产品国际贸易（上海）有限公司北京分公司</td>\n",
       "      <td>97.46</td>\n",
       "      <td>56.0</td>\n",
       "    </tr>\n",
       "    <tr>\n",
       "      <td>3307</td>\n",
       "      <td>3308</td>\n",
       "      <td>邓幼强</td>\n",
       "      <td>1961-09-01</td>\n",
       "      <td>北京迈威机械有限责任公司</td>\n",
       "      <td>93.96</td>\n",
       "      <td>58.0</td>\n",
       "    </tr>\n",
       "    <tr>\n",
       "      <td>4494</td>\n",
       "      <td>4495</td>\n",
       "      <td>徐振山</td>\n",
       "      <td>1960-09-01</td>\n",
       "      <td>北京国华电力有限责任公司</td>\n",
       "      <td>92.34</td>\n",
       "      <td>59.0</td>\n",
       "    </tr>\n",
       "    <tr>\n",
       "      <td>3362</td>\n",
       "      <td>3363</td>\n",
       "      <td>白利光</td>\n",
       "      <td>1959-09-01</td>\n",
       "      <td>北京国华电力有限责任公司</td>\n",
       "      <td>93.88</td>\n",
       "      <td>60.0</td>\n",
       "    </tr>\n",
       "    <tr>\n",
       "      <td>2489</td>\n",
       "      <td>2490</td>\n",
       "      <td>宋玉印</td>\n",
       "      <td>1958-07-01</td>\n",
       "      <td>中矿资源勘探股份有限公司</td>\n",
       "      <td>95.37</td>\n",
       "      <td>61.0</td>\n",
       "    </tr>\n",
       "  </tbody>\n",
       "</table>\n",
       "<p>6019 rows × 6 columns</p>\n",
       "</div>"
      ],
      "text/plain": [
       "        id name   birthday                   company  score   age\n",
       "5179  5180  廉峰哲 1985-08-01            北京戴德梁行物业管理有限公司  91.62  34.0\n",
       "2831  2832  聂愿愿 1985-01-01              北京华为数字技术有限公司  94.75  34.0\n",
       "2744  2745   陈钟 1985-09-01              北京字节跳动科技有限公司  94.91  34.0\n",
       "2723  2724  杨在申 1984-11-01          百度时代网络技术（北京）有限公司  94.96  35.0\n",
       "4300  4301   许玲 1984-02-01           北京阿里巴巴云计算技术有限公司  92.59  35.0\n",
       "...    ...  ...        ...                       ...    ...   ...\n",
       "1604  1605   李翎 1963-09-01  施乐辉医用产品国际贸易（上海）有限公司北京分公司  97.46  56.0\n",
       "3307  3308  邓幼强 1961-09-01              北京迈威机械有限责任公司  93.96  58.0\n",
       "4494  4495  徐振山 1960-09-01              北京国华电力有限责任公司  92.34  59.0\n",
       "3362  3363  白利光 1959-09-01              北京国华电力有限责任公司  93.88  60.0\n",
       "2489  2490  宋玉印 1958-07-01              中矿资源勘探股份有限公司  95.37  61.0\n",
       "\n",
       "[6019 rows x 6 columns]"
      ]
     },
     "execution_count": 85,
     "metadata": {},
     "output_type": "execute_result"
    }
   ],
   "source": [
    "# 年龄分布预览\n",
    "raw_data.sort_values(by='age')"
   ]
  },
  {
   "cell_type": "code",
   "execution_count": 90,
   "metadata": {
    "hidden": true
   },
   "outputs": [
    {
     "data": {
      "text/plain": [
       "age_grade\n",
       "青年    4918\n",
       "中年    1099\n",
       "老年       2\n",
       "Name: name, dtype: int64"
      ]
     },
     "execution_count": 90,
     "metadata": {},
     "output_type": "execute_result"
    }
   ],
   "source": [
    "# 使用 cut 函数对各年龄层进行分类\n",
    "# 使用世界卫生组织的年龄分段标准\n",
    "bins = [0,45,59,74]\n",
    "labels = [\"青年\",\"中年\", \"老年\"]\n",
    "\n",
    "raw_data[\"age_grade\"] = pd.cut(x=raw_data.age,\n",
    "                               bins=bins,\n",
    "                               labels=labels)\n",
    "\n",
    "# 统计各个年龄段的人数\n",
    "raw_data.groupby(by='age_grade')['name'].count()"
   ]
  },
  {
   "cell_type": "code",
   "execution_count": 97,
   "metadata": {
    "hidden": true
   },
   "outputs": [
    {
     "data": {
      "text/plain": [
       "<matplotlib.axes._subplots.AxesSubplot at 0x1c63c56c940>"
      ]
     },
     "execution_count": 97,
     "metadata": {},
     "output_type": "execute_result"
    },
    {
     "data": {
      "image/png": "[encoded data removed]",
      "text/plain": [
       "<Figure size 432x288 with 1 Axes>"
      ]
     },
     "metadata": {},
     "output_type": "display_data"
    }
   ],
   "source": [
    "# 简单可视化\n",
    "raw_data.groupby(by='age_grade')['name'].count().plot(kind='bar', alpha=1, rot=0)"
   ]
  },
  {
   "cell_type": "markdown",
   "metadata": {
    "hidden": true
   },
   "source": [
    "事实上，还是青年人落户的居多，老年人几乎没有可能在北京落户。\n",
    "\n",
    "至于背后的原因，暂时无法得知。"
   ]
  },
  {
   "cell_type": "markdown",
   "metadata": {},
   "source": [
    "#### 分析公司分布情况"
   ]
  },
  {
   "cell_type": "code",
   "execution_count": 44,
   "metadata": {},
   "outputs": [
    {
     "data": {
      "text/html": [
       "<div>\n",
       "<style scoped>\n",
       "    .dataframe tbody tr th:only-of-type {\n",
       "        vertical-align: middle;\n",
       "    }\n",
       "\n",
       "    .dataframe tbody tr th {\n",
       "        vertical-align: top;\n",
       "    }\n",
       "\n",
       "    .dataframe thead th {\n",
       "        text-align: right;\n",
       "    }\n",
       "</style>\n",
       "<table border=\"1\" class=\"dataframe\">\n",
       "  <thead>\n",
       "    <tr style=\"text-align: right;\">\n",
       "      <th></th>\n",
       "      <th>name</th>\n",
       "      <th>company</th>\n",
       "    </tr>\n",
       "  </thead>\n",
       "  <tbody>\n",
       "    <tr>\n",
       "      <td>1081</td>\n",
       "      <td>137</td>\n",
       "      <td>北京华为数字技术有限公司</td>\n",
       "    </tr>\n",
       "    <tr>\n",
       "      <td>312</td>\n",
       "      <td>73</td>\n",
       "      <td>中央电视台</td>\n",
       "    </tr>\n",
       "    <tr>\n",
       "      <td>2457</td>\n",
       "      <td>57</td>\n",
       "      <td>北京首钢建设集团有限公司</td>\n",
       "    </tr>\n",
       "    <tr>\n",
       "      <td>3082</td>\n",
       "      <td>55</td>\n",
       "      <td>百度在线网络技术（北京）有限公司</td>\n",
       "    </tr>\n",
       "    <tr>\n",
       "      <td>3194</td>\n",
       "      <td>48</td>\n",
       "      <td>联想（北京）有限公司</td>\n",
       "    </tr>\n",
       "    <tr>\n",
       "      <td>214</td>\n",
       "      <td>40</td>\n",
       "      <td>中国民生银行股份有限公司</td>\n",
       "    </tr>\n",
       "    <tr>\n",
       "      <td>2648</td>\n",
       "      <td>39</td>\n",
       "      <td>国际商业机器（中国）投资有限公司</td>\n",
       "    </tr>\n",
       "    <tr>\n",
       "      <td>1334</td>\n",
       "      <td>39</td>\n",
       "      <td>北京外企人力资源服务有限公司</td>\n",
       "    </tr>\n",
       "    <tr>\n",
       "      <td>174</td>\n",
       "      <td>29</td>\n",
       "      <td>中国国际技术智力合作有限公司</td>\n",
       "    </tr>\n",
       "    <tr>\n",
       "      <td>2514</td>\n",
       "      <td>27</td>\n",
       "      <td>华为技术有限公司北京研究所</td>\n",
       "    </tr>\n",
       "  </tbody>\n",
       "</table>\n",
       "</div>"
      ],
      "text/plain": [
       "      name           company\n",
       "1081   137      北京华为数字技术有限公司\n",
       "312     73             中央电视台\n",
       "2457    57      北京首钢建设集团有限公司\n",
       "3082    55  百度在线网络技术（北京）有限公司\n",
       "3194    48        联想（北京）有限公司\n",
       "214     40      中国民生银行股份有限公司\n",
       "2648    39  国际商业机器（中国）投资有限公司\n",
       "1334    39    北京外企人力资源服务有限公司\n",
       "174     29    中国国际技术智力合作有限公司\n",
       "2514    27     华为技术有限公司北京研究所"
      ]
     },
     "execution_count": 44,
     "metadata": {},
     "output_type": "execute_result"
    }
   ],
   "source": [
    "# 统计各个公司落户数量\n",
    "company_counts = raw_data.groupby(by='company', as_index=False).count()[['name','company']]\n",
    "company_counts.sort_values(by='name',ascending=False).head(10)"
   ]
  },
  {
   "cell_type": "code",
   "execution_count": 45,
   "metadata": {},
   "outputs": [],
   "source": [
    "# 保存数据\n",
    "company_counts.to_csv(\"new_output/03_company_counts.csv\")"
   ]
  },
  {
   "cell_type": "markdown",
   "metadata": {},
   "source": [
    "由于公司数量过多，如果选择可视化，则必然要进行转换，比如说，按入户数量再分区后可视化。这里就不再展开。"
   ]
  },
  {
   "cell_type": "code",
   "execution_count": 54,
   "metadata": {},
   "outputs": [
    {
     "data": {
      "text/html": [
       "<div>\n",
       "<style scoped>\n",
       "    .dataframe tbody tr th:only-of-type {\n",
       "        vertical-align: middle;\n",
       "    }\n",
       "\n",
       "    .dataframe tbody tr th {\n",
       "        vertical-align: top;\n",
       "    }\n",
       "\n",
       "    .dataframe thead th {\n",
       "        text-align: right;\n",
       "    }\n",
       "</style>\n",
       "<table border=\"1\" class=\"dataframe\">\n",
       "  <thead>\n",
       "    <tr style=\"text-align: right;\">\n",
       "      <th></th>\n",
       "      <th>name</th>\n",
       "      <th>company</th>\n",
       "    </tr>\n",
       "  </thead>\n",
       "  <tbody>\n",
       "    <tr>\n",
       "      <td>1081</td>\n",
       "      <td>137</td>\n",
       "      <td>北京华为数字技术有限公司</td>\n",
       "    </tr>\n",
       "    <tr>\n",
       "      <td>2514</td>\n",
       "      <td>27</td>\n",
       "      <td>华为技术有限公司北京研究所</td>\n",
       "    </tr>\n",
       "    <tr>\n",
       "      <td>2515</td>\n",
       "      <td>1</td>\n",
       "      <td>华为海洋网络有限公司北京科技分公司</td>\n",
       "    </tr>\n",
       "  </tbody>\n",
       "</table>\n",
       "</div>"
      ],
      "text/plain": [
       "      name            company\n",
       "1081   137       北京华为数字技术有限公司\n",
       "2514    27      华为技术有限公司北京研究所\n",
       "2515     1  华为海洋网络有限公司北京科技分公司"
      ]
     },
     "execution_count": 54,
     "metadata": {},
     "output_type": "execute_result"
    }
   ],
   "source": [
    "# 查找公司名字里面包括“华为”的数据\n",
    "company_name = \"华为\"\n",
    "company_counts[company_counts.company.str.contains(company_name)]"
   ]
  },
  {
   "cell_type": "code",
   "execution_count": 57,
   "metadata": {},
   "outputs": [
    {
     "data": {
      "text/html": [
       "<div>\n",
       "<style scoped>\n",
       "    .dataframe tbody tr th:only-of-type {\n",
       "        vertical-align: middle;\n",
       "    }\n",
       "\n",
       "    .dataframe tbody tr th {\n",
       "        vertical-align: top;\n",
       "    }\n",
       "\n",
       "    .dataframe thead th {\n",
       "        text-align: right;\n",
       "    }\n",
       "</style>\n",
       "<table border=\"1\" class=\"dataframe\">\n",
       "  <thead>\n",
       "    <tr style=\"text-align: right;\">\n",
       "      <th></th>\n",
       "      <th>name</th>\n",
       "      <th>company</th>\n",
       "    </tr>\n",
       "  </thead>\n",
       "  <tbody>\n",
       "    <tr>\n",
       "      <td>5</td>\n",
       "      <td>2</td>\n",
       "      <td>《中国企业报》股份有限公司</td>\n",
       "    </tr>\n",
       "    <tr>\n",
       "      <td>311</td>\n",
       "      <td>2</td>\n",
       "      <td>中央数字电视传媒有限公司</td>\n",
       "    </tr>\n",
       "    <tr>\n",
       "      <td>312</td>\n",
       "      <td>73</td>\n",
       "      <td>中央电视台</td>\n",
       "    </tr>\n",
       "    <tr>\n",
       "      <td>2617</td>\n",
       "      <td>1</td>\n",
       "      <td>国家工业信息安全发展研究中心</td>\n",
       "    </tr>\n",
       "    <tr>\n",
       "      <td>2618</td>\n",
       "      <td>1</td>\n",
       "      <td>国家开发投资集团有限公司</td>\n",
       "    </tr>\n",
       "    <tr>\n",
       "      <td>2619</td>\n",
       "      <td>1</td>\n",
       "      <td>国家开放大学出版社有限公司</td>\n",
       "    </tr>\n",
       "    <tr>\n",
       "      <td>2620</td>\n",
       "      <td>1</td>\n",
       "      <td>国家新闻出版广电总局出版产品质量监督检测中心</td>\n",
       "    </tr>\n",
       "    <tr>\n",
       "      <td>2621</td>\n",
       "      <td>3</td>\n",
       "      <td>国家珠宝玉石质量监督检验中心实验室有限公司</td>\n",
       "    </tr>\n",
       "    <tr>\n",
       "      <td>2622</td>\n",
       "      <td>1</td>\n",
       "      <td>国家电网公司直流建设分公司</td>\n",
       "    </tr>\n",
       "    <tr>\n",
       "      <td>2623</td>\n",
       "      <td>1</td>\n",
       "      <td>国家知识产权局机关服务中心</td>\n",
       "    </tr>\n",
       "    <tr>\n",
       "      <td>2624</td>\n",
       "      <td>1</td>\n",
       "      <td>国家金融信息中心有限责任公司</td>\n",
       "    </tr>\n",
       "    <tr>\n",
       "      <td>2625</td>\n",
       "      <td>1</td>\n",
       "      <td>国家食品药品监督管理总局药品审评中心</td>\n",
       "    </tr>\n",
       "  </tbody>\n",
       "</table>\n",
       "</div>"
      ],
      "text/plain": [
       "      name                 company\n",
       "5        2           《中国企业报》股份有限公司\n",
       "311      2            中央数字电视传媒有限公司\n",
       "312     73                   中央电视台\n",
       "2617     1          国家工业信息安全发展研究中心\n",
       "2618     1            国家开发投资集团有限公司\n",
       "2619     1           国家开放大学出版社有限公司\n",
       "2620     1  国家新闻出版广电总局出版产品质量监督检测中心\n",
       "2621     3   国家珠宝玉石质量监督检验中心实验室有限公司\n",
       "2622     1           国家电网公司直流建设分公司\n",
       "2623     1           国家知识产权局机关服务中心\n",
       "2624     1          国家金融信息中心有限责任公司\n",
       "2625     1      国家食品药品监督管理总局药品审评中心"
      ]
     },
     "execution_count": 57,
     "metadata": {},
     "output_type": "execute_result"
    }
   ],
   "source": [
    "# 查找公司名字里面包括“中央”的数据\n",
    "company_counts[company_counts.company.str.contains(\"中央|国企|国家\")]"
   ]
  },
  {
   "cell_type": "markdown",
   "metadata": {},
   "source": [
    "国企还没有华为公司落户人口数量多，不知道这里面到底是什么原因：华为提供的工资高？华为员工申请的人数多？还是其他原因。由于缺乏其他数据，所以这里不知道背后的原因是什么。"
   ]
  },
  {
   "cell_type": "markdown",
   "metadata": {},
   "source": [
    "## 总结"
   ]
  },
  {
   "cell_type": "markdown",
   "metadata": {},
   "source": [
    "由于该份数据有限，能够分析的东西暂时只有这么多。如果想要继续分析，则必然要更多的数据，比如说为什么华为公司能有这么多员工落户北京？和哪些因素有关？这些因素的背后又是什么？这些都可以深挖。但由于时间关系，个人就不做深挖。\n",
    "\n",
    "数据可视化，不是每份分析结果都适合直接可视化，比如说分析公司分布情况。如果想数据可视化，则必然还要对结果进行整理，比如说按落户数量分区、离散化，然后再做数据可视化。"
   ]
  }
 ],
 "metadata": {
  "kernelspec": {
   "display_name": "Python 3",
   "language": "python",
   "name": "python3"
  },
  "language_info": {
   "codemirror_mode": {
    "name": "ipython",
    "version": 3
   },
   "file_extension": ".py",
   "mimetype": "text/x-python",
   "name": "python",
   "nbconvert_exporter": "python",
   "pygments_lexer": "ipython3",
   "version": "3.6.5"
  },
  "latex_envs": {
   "LaTeX_envs_menu_present": true,
   "autoclose": true,
   "autocomplete": true,
   "bibliofile": "biblio.bib",
   "cite_by": "apalike",
   "current_citInitial": 1,
   "eqLabelWithNumbers": true,
   "eqNumInitial": 1,
   "hotkeys": {
    "equation": "Ctrl-E",
    "itemize": "Ctrl-I"
   },
   "labels_anchors": false,
   "latex_user_defs": false,
   "report_style_numbering": true,
   "user_envs_cfg": false
  },
  "toc": {
   "base_numbering": 1,
   "nav_menu": {},
   "number_sections": true,
   "sideBar": true,
   "skip_h1_title": false,
   "title_cell": "Table of Contents",
   "title_sidebar": "Contents",
   "toc_cell": false,
   "toc_position": {
    "height": "calc(100% - 180px)",
    "left": "10px",
    "top": "150px",
    "width": "256px"
   },
   "toc_section_display": true,
   "toc_window_display": true
  },
  "varInspector": {
   "cols": {
    "lenName": 16,
    "lenType": 16,
    "lenVar": 40
   },
   "kernels_config": {
    "python": {
     "delete_cmd_postfix": "",
     "delete_cmd_prefix": "del ",
     "library": "var_list.py",
     "varRefreshCmd": "print(var_dic_list())"
    },
    "r": {
     "delete_cmd_postfix": ") ",
     "delete_cmd_prefix": "rm(",
     "library": "var_list.r",
     "varRefreshCmd": "cat(var_dic_list()) "
    }
   },
   "types_to_exclude": [
    "module",
    "function",
    "builtin_function_or_method",
    "instance",
    "_Feature"
   ],
   "window_display": false
  }
 },
 "nbformat": 4,
 "nbformat_minor": 2
}
