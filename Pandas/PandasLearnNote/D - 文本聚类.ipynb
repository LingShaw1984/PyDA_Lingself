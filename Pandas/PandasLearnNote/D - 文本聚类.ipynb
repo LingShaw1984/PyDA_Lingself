{
 "cells": [
  {
   "cell_type": "markdown",
   "metadata": {
    "toc": true
   },
   "source": [
    "<h1>Table of Contents<span class=\"tocSkip\"></span></h1>\n",
    "<div class=\"toc\"><ul class=\"toc-item\"></ul></div>"
   ]
  },
  {
   "cell_type": "code",
   "execution_count": 17,
   "metadata": {
    "ExecuteTime": {
     "end_time": "2019-12-01T08:02:27.331356Z",
     "start_time": "2019-12-01T08:02:26.624371Z"
    }
   },
   "outputs": [
    {
     "name": "stdout",
     "output_type": "stream",
     "text": [
      "大     1.668889\n",
      "严重    0.466825\n",
      "微软    0.423979\n",
      "聪明    0.393579\n",
      "高     0.000000\n",
      "dtype: float64\n"
     ]
    }
   ],
   "source": [
    "# 导入库\n",
    "import numpy as np\n",
    "import pandas as pd\n",
    "from sklearn.feature_extraction.text import TfidfVectorizer\n",
    "from sklearn.cluster import KMeans\n",
    "import jieba.posseg as pseg\n",
    "\n",
    "\n",
    "def jieba_cut(comment):\n",
    "    seg_list = pseg.cut(comment)  # 精确模式分词[默认模式]\n",
    "    # 只选择形容词追加到列表中\n",
    "    word_list = [i.word for i in seg_list if i.flag in ['a', 'ag', 'an']]\n",
    "    return word_list\n",
    "\n",
    "\n",
    "# 读取数据文件\n",
    "with open('./别让自己“墙”了自己.txt', encoding='utf-8') as fn:\n",
    "    comment_list = fn.readlines()  # 读取文件内容为列表\n",
    "\n",
    "stop_words = ['…', '。', '，', '？', '！', '+', ' ',\n",
    "              '、', '：', '；', '（', '）', '.', '-']  # 定义停用词\n",
    "\n",
    "vectorizer = TfidfVectorizer(stop_words=stop_words,\n",
    "                             tokenizer=jieba_cut,\n",
    "                             use_idf=True)  # 创建词向量模型\n",
    "\n",
    "X = vectorizer.fit_transform(comment_list)  # 将评论关键字列表转换为词向量空间模型\n",
    "\n",
    "# K均值聚类\n",
    "model_kmeans = KMeans(n_clusters=3)  # 创建聚类模型对象\n",
    "model_kmeans.fit(X)  # 训练模型\n",
    "\n",
    "# 聚类结果汇总\n",
    "cluster_labels = model_kmeans.labels_  # 聚类标签结果\n",
    "word_vectors = vectorizer.get_feature_names()  # 词向量\n",
    "word_values = X.toarray()  # 向量值\n",
    "# 将向量值和标签值合并为新的矩阵\n",
    "comment_matrix = np.hstack((word_values,\n",
    "                            cluster_labels.reshape(word_values.shape[0], 1)))\n",
    "word_vectors.append('cluster_labels')  # 将新的聚类标签列表追加到词向量后面\n",
    "comment_pd = pd.DataFrame(comment_matrix,\n",
    "                          columns=word_vectors)  # 创建包含词向量和聚类标签的数据框\n",
    "\n",
    "# 聚类结果分析\n",
    "# 选择聚类标签值为2的数据，并删除最后一列\n",
    "comment_cluster1 = comment_pd[comment_pd['cluster_labels'] == 2].drop('cluster_labels', axis=1)\n",
    "word_importance = np.sum(comment_cluster1, axis=0)  # 按照词向量做汇总统计\n",
    "\n",
    "# 按汇总统计的值做逆序排序并打印输出前5个词\n",
    "print(word_importance.sort_values(ascending=False).head())"
   ]
  }
 ],
 "metadata": {
  "kernelspec": {
   "display_name": "Python 3",
   "language": "python",
   "name": "python3"
  },
  "language_info": {
   "codemirror_mode": {
    "name": "ipython",
    "version": 3
   },
   "file_extension": ".py",
   "mimetype": "text/x-python",
   "name": "python",
   "nbconvert_exporter": "python",
   "pygments_lexer": "ipython3",
   "version": "3.7.4"
  },
  "toc": {
   "base_numbering": 1,
   "nav_menu": {},
   "number_sections": true,
   "sideBar": true,
   "skip_h1_title": false,
   "title_cell": "Table of Contents",
   "title_sidebar": "Contents",
   "toc_cell": true,
   "toc_position": {},
   "toc_section_display": true,
   "toc_window_display": true
  },
  "varInspector": {
   "cols": {
    "lenName": 16,
    "lenType": 16,
    "lenVar": 40
   },
   "kernels_config": {
    "python": {
     "delete_cmd_postfix": "",
     "delete_cmd_prefix": "del ",
     "library": "var_list.py",
     "varRefreshCmd": "print(var_dic_list())"
    },
    "r": {
     "delete_cmd_postfix": ") ",
     "delete_cmd_prefix": "rm(",
     "library": "var_list.r",
     "varRefreshCmd": "cat(var_dic_list()) "
    }
   },
   "types_to_exclude": [
    "module",
    "function",
    "builtin_function_or_method",
    "instance",
    "_Feature"
   ],
   "window_display": false
  }
 },
 "nbformat": 4,
 "nbformat_minor": 2
}
