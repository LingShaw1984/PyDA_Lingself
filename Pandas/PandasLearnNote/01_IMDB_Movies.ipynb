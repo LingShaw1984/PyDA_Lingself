{
 "cells": [
  {
   "cell_type": "markdown",
   "metadata": {},
   "source": [
    "# 分析目的"
   ]
  },
  {
   "cell_type": "markdown",
   "metadata": {},
   "source": [
    "- 探索票房与导演、主演之间的关系\n",
    "- 评分趋势\n",
    "- 电影产量与年份之间的关系\n",
    "- 电影类型与票房的关系"
   ]
  },
  {
   "cell_type": "markdown",
   "metadata": {},
   "source": [
    "## 数据预处理"
   ]
  },
  {
   "cell_type": "code",
   "execution_count": 175,
   "metadata": {},
   "outputs": [],
   "source": [
    "import pandas as pd\n",
    "import numpy as np\n",
    "import matplotlib as mpt\n",
    "from matplotlib import pyplot as plt\n",
    "import seaborn as sns\n",
    "\n",
    "movie_row_data = pd.read_csv(r'../20191016_IMDB Movies_MetaData.csv', sep=',')"
   ]
  },
  {
   "cell_type": "markdown",
   "metadata": {},
   "source": [
    "### 数据预览"
   ]
  },
  {
   "cell_type": "code",
   "execution_count": 44,
   "metadata": {},
   "outputs": [
    {
     "data": {
      "text/html": [
       "<div>\n",
       "<style scoped>\n",
       "    .dataframe tbody tr th:only-of-type {\n",
       "        vertical-align: middle;\n",
       "    }\n",
       "\n",
       "    .dataframe tbody tr th {\n",
       "        vertical-align: top;\n",
       "    }\n",
       "\n",
       "    .dataframe thead th {\n",
       "        text-align: right;\n",
       "    }\n",
       "</style>\n",
       "<table border=\"1\" class=\"dataframe\">\n",
       "  <thead>\n",
       "    <tr style=\"text-align: right;\">\n",
       "      <th></th>\n",
       "      <th>color</th>\n",
       "      <th>director_name</th>\n",
       "      <th>num_critic_for_reviews</th>\n",
       "      <th>duration</th>\n",
       "      <th>director_facebook_likes</th>\n",
       "      <th>actor_3_facebook_likes</th>\n",
       "      <th>actor_2_name</th>\n",
       "      <th>actor_1_facebook_likes</th>\n",
       "      <th>gross</th>\n",
       "      <th>genres</th>\n",
       "      <th>...</th>\n",
       "      <th>num_user_for_reviews</th>\n",
       "      <th>language</th>\n",
       "      <th>country</th>\n",
       "      <th>content_rating</th>\n",
       "      <th>budget</th>\n",
       "      <th>title_year</th>\n",
       "      <th>actor_2_facebook_likes</th>\n",
       "      <th>imdb_score</th>\n",
       "      <th>aspect_ratio</th>\n",
       "      <th>movie_facebook_likes</th>\n",
       "    </tr>\n",
       "  </thead>\n",
       "  <tbody>\n",
       "    <tr>\n",
       "      <td>0</td>\n",
       "      <td>Color</td>\n",
       "      <td>James Cameron</td>\n",
       "      <td>723.0</td>\n",
       "      <td>178.0</td>\n",
       "      <td>0.0</td>\n",
       "      <td>855.0</td>\n",
       "      <td>Joel David Moore</td>\n",
       "      <td>1000.0</td>\n",
       "      <td>760505847.0</td>\n",
       "      <td>Action|Adventure|Fantasy|Sci-Fi</td>\n",
       "      <td>...</td>\n",
       "      <td>3054.0</td>\n",
       "      <td>English</td>\n",
       "      <td>USA</td>\n",
       "      <td>PG-13</td>\n",
       "      <td>237000000.0</td>\n",
       "      <td>2009.0</td>\n",
       "      <td>936.0</td>\n",
       "      <td>7.9</td>\n",
       "      <td>1.78</td>\n",
       "      <td>33000</td>\n",
       "    </tr>\n",
       "    <tr>\n",
       "      <td>1</td>\n",
       "      <td>Color</td>\n",
       "      <td>Gore Verbinski</td>\n",
       "      <td>302.0</td>\n",
       "      <td>169.0</td>\n",
       "      <td>563.0</td>\n",
       "      <td>1000.0</td>\n",
       "      <td>Orlando Bloom</td>\n",
       "      <td>40000.0</td>\n",
       "      <td>309404152.0</td>\n",
       "      <td>Action|Adventure|Fantasy</td>\n",
       "      <td>...</td>\n",
       "      <td>1238.0</td>\n",
       "      <td>English</td>\n",
       "      <td>USA</td>\n",
       "      <td>PG-13</td>\n",
       "      <td>300000000.0</td>\n",
       "      <td>2007.0</td>\n",
       "      <td>5000.0</td>\n",
       "      <td>7.1</td>\n",
       "      <td>2.35</td>\n",
       "      <td>0</td>\n",
       "    </tr>\n",
       "    <tr>\n",
       "      <td>2</td>\n",
       "      <td>Color</td>\n",
       "      <td>Sam Mendes</td>\n",
       "      <td>602.0</td>\n",
       "      <td>148.0</td>\n",
       "      <td>0.0</td>\n",
       "      <td>161.0</td>\n",
       "      <td>Rory Kinnear</td>\n",
       "      <td>11000.0</td>\n",
       "      <td>200074175.0</td>\n",
       "      <td>Action|Adventure|Thriller</td>\n",
       "      <td>...</td>\n",
       "      <td>994.0</td>\n",
       "      <td>English</td>\n",
       "      <td>UK</td>\n",
       "      <td>PG-13</td>\n",
       "      <td>245000000.0</td>\n",
       "      <td>2015.0</td>\n",
       "      <td>393.0</td>\n",
       "      <td>6.8</td>\n",
       "      <td>2.35</td>\n",
       "      <td>85000</td>\n",
       "    </tr>\n",
       "    <tr>\n",
       "      <td>3</td>\n",
       "      <td>Color</td>\n",
       "      <td>Christopher Nolan</td>\n",
       "      <td>813.0</td>\n",
       "      <td>164.0</td>\n",
       "      <td>22000.0</td>\n",
       "      <td>23000.0</td>\n",
       "      <td>Christian Bale</td>\n",
       "      <td>27000.0</td>\n",
       "      <td>448130642.0</td>\n",
       "      <td>Action|Thriller</td>\n",
       "      <td>...</td>\n",
       "      <td>2701.0</td>\n",
       "      <td>English</td>\n",
       "      <td>USA</td>\n",
       "      <td>PG-13</td>\n",
       "      <td>250000000.0</td>\n",
       "      <td>2012.0</td>\n",
       "      <td>23000.0</td>\n",
       "      <td>8.5</td>\n",
       "      <td>2.35</td>\n",
       "      <td>164000</td>\n",
       "    </tr>\n",
       "    <tr>\n",
       "      <td>4</td>\n",
       "      <td>NaN</td>\n",
       "      <td>Doug Walker</td>\n",
       "      <td>NaN</td>\n",
       "      <td>NaN</td>\n",
       "      <td>131.0</td>\n",
       "      <td>NaN</td>\n",
       "      <td>Rob Walker</td>\n",
       "      <td>131.0</td>\n",
       "      <td>NaN</td>\n",
       "      <td>Documentary</td>\n",
       "      <td>...</td>\n",
       "      <td>NaN</td>\n",
       "      <td>NaN</td>\n",
       "      <td>NaN</td>\n",
       "      <td>NaN</td>\n",
       "      <td>NaN</td>\n",
       "      <td>NaN</td>\n",
       "      <td>12.0</td>\n",
       "      <td>7.1</td>\n",
       "      <td>NaN</td>\n",
       "      <td>0</td>\n",
       "    </tr>\n",
       "  </tbody>\n",
       "</table>\n",
       "<p>5 rows × 28 columns</p>\n",
       "</div>"
      ],
      "text/plain": [
       "   color      director_name  num_critic_for_reviews  duration  \\\n",
       "0  Color      James Cameron                   723.0     178.0   \n",
       "1  Color     Gore Verbinski                   302.0     169.0   \n",
       "2  Color         Sam Mendes                   602.0     148.0   \n",
       "3  Color  Christopher Nolan                   813.0     164.0   \n",
       "4    NaN        Doug Walker                     NaN       NaN   \n",
       "\n",
       "   director_facebook_likes  actor_3_facebook_likes      actor_2_name  \\\n",
       "0                      0.0                   855.0  Joel David Moore   \n",
       "1                    563.0                  1000.0     Orlando Bloom   \n",
       "2                      0.0                   161.0      Rory Kinnear   \n",
       "3                  22000.0                 23000.0    Christian Bale   \n",
       "4                    131.0                     NaN        Rob Walker   \n",
       "\n",
       "   actor_1_facebook_likes        gross                           genres  ...  \\\n",
       "0                  1000.0  760505847.0  Action|Adventure|Fantasy|Sci-Fi  ...   \n",
       "1                 40000.0  309404152.0         Action|Adventure|Fantasy  ...   \n",
       "2                 11000.0  200074175.0        Action|Adventure|Thriller  ...   \n",
       "3                 27000.0  448130642.0                  Action|Thriller  ...   \n",
       "4                   131.0          NaN                      Documentary  ...   \n",
       "\n",
       "  num_user_for_reviews language  country  content_rating       budget  \\\n",
       "0               3054.0  English      USA           PG-13  237000000.0   \n",
       "1               1238.0  English      USA           PG-13  300000000.0   \n",
       "2                994.0  English       UK           PG-13  245000000.0   \n",
       "3               2701.0  English      USA           PG-13  250000000.0   \n",
       "4                  NaN      NaN      NaN             NaN          NaN   \n",
       "\n",
       "   title_year actor_2_facebook_likes imdb_score  aspect_ratio  \\\n",
       "0      2009.0                  936.0        7.9          1.78   \n",
       "1      2007.0                 5000.0        7.1          2.35   \n",
       "2      2015.0                  393.0        6.8          2.35   \n",
       "3      2012.0                23000.0        8.5          2.35   \n",
       "4         NaN                   12.0        7.1           NaN   \n",
       "\n",
       "  movie_facebook_likes  \n",
       "0                33000  \n",
       "1                    0  \n",
       "2                85000  \n",
       "3               164000  \n",
       "4                    0  \n",
       "\n",
       "[5 rows x 28 columns]"
      ]
     },
     "execution_count": 44,
     "metadata": {},
     "output_type": "execute_result"
    }
   ],
   "source": [
    "movie_row_data.head()"
   ]
  },
  {
   "cell_type": "markdown",
   "metadata": {},
   "source": [
    "### 缺失值处理"
   ]
  },
  {
   "cell_type": "code",
   "execution_count": 45,
   "metadata": {},
   "outputs": [
    {
     "name": "stdout",
     "output_type": "stream",
     "text": [
      "<class 'pandas.core.frame.DataFrame'>\n",
      "RangeIndex: 5043 entries, 0 to 5042\n",
      "Data columns (total 28 columns):\n",
      "color                        5024 non-null object\n",
      "director_name                4939 non-null object\n",
      "num_critic_for_reviews       4993 non-null float64\n",
      "duration                     5028 non-null float64\n",
      "director_facebook_likes      4939 non-null float64\n",
      "actor_3_facebook_likes       5020 non-null float64\n",
      "actor_2_name                 5030 non-null object\n",
      "actor_1_facebook_likes       5036 non-null float64\n",
      "gross                        4159 non-null float64\n",
      "genres                       5043 non-null object\n",
      "actor_1_name                 5036 non-null object\n",
      "movie_title                  5043 non-null object\n",
      "num_voted_users              5043 non-null int64\n",
      "cast_total_facebook_likes    5043 non-null int64\n",
      "actor_3_name                 5020 non-null object\n",
      "facenumber_in_poster         5030 non-null float64\n",
      "plot_keywords                4890 non-null object\n",
      "movie_imdb_link              5043 non-null object\n",
      "num_user_for_reviews         5022 non-null float64\n",
      "language                     5031 non-null object\n",
      "country                      5038 non-null object\n",
      "content_rating               4740 non-null object\n",
      "budget                       4551 non-null float64\n",
      "title_year                   4935 non-null float64\n",
      "actor_2_facebook_likes       5030 non-null float64\n",
      "imdb_score                   5043 non-null float64\n",
      "aspect_ratio                 4714 non-null float64\n",
      "movie_facebook_likes         5043 non-null int64\n",
      "dtypes: float64(13), int64(3), object(12)\n",
      "memory usage: 1.1+ MB\n"
     ]
    }
   ],
   "source": [
    "movie_row_data.info()"
   ]
  },
  {
   "cell_type": "markdown",
   "metadata": {},
   "source": [
    "根据所得信息，了解到有缺失数据。\n",
    "\n",
    "由于此处数据是从他处直接获得，因此无法了解缺失数据的原因，也无法对缺失数据进行探索。为了方便，在此将有缺失的数据全部删除。"
   ]
  },
  {
   "cell_type": "code",
   "execution_count": 46,
   "metadata": {},
   "outputs": [],
   "source": [
    "movie_row_data.dropna(how='any',inplace=True)"
   ]
  },
  {
   "cell_type": "code",
   "execution_count": 47,
   "metadata": {
    "scrolled": true
   },
   "outputs": [
    {
     "name": "stdout",
     "output_type": "stream",
     "text": [
      "<class 'pandas.core.frame.DataFrame'>\n",
      "Int64Index: 3756 entries, 0 to 5042\n",
      "Data columns (total 28 columns):\n",
      "color                        3756 non-null object\n",
      "director_name                3756 non-null object\n",
      "num_critic_for_reviews       3756 non-null float64\n",
      "duration                     3756 non-null float64\n",
      "director_facebook_likes      3756 non-null float64\n",
      "actor_3_facebook_likes       3756 non-null float64\n",
      "actor_2_name                 3756 non-null object\n",
      "actor_1_facebook_likes       3756 non-null float64\n",
      "gross                        3756 non-null float64\n",
      "genres                       3756 non-null object\n",
      "actor_1_name                 3756 non-null object\n",
      "movie_title                  3756 non-null object\n",
      "num_voted_users              3756 non-null int64\n",
      "cast_total_facebook_likes    3756 non-null int64\n",
      "actor_3_name                 3756 non-null object\n",
      "facenumber_in_poster         3756 non-null float64\n",
      "plot_keywords                3756 non-null object\n",
      "movie_imdb_link              3756 non-null object\n",
      "num_user_for_reviews         3756 non-null float64\n",
      "language                     3756 non-null object\n",
      "country                      3756 non-null object\n",
      "content_rating               3756 non-null object\n",
      "budget                       3756 non-null float64\n",
      "title_year                   3756 non-null float64\n",
      "actor_2_facebook_likes       3756 non-null float64\n",
      "imdb_score                   3756 non-null float64\n",
      "aspect_ratio                 3756 non-null float64\n",
      "movie_facebook_likes         3756 non-null int64\n",
      "dtypes: float64(13), int64(3), object(12)\n",
      "memory usage: 851.0+ KB\n"
     ]
    }
   ],
   "source": [
    "movie_row_data.info()"
   ]
  },
  {
   "cell_type": "markdown",
   "metadata": {},
   "source": [
    "### 重复值处理"
   ]
  },
  {
   "cell_type": "code",
   "execution_count": 48,
   "metadata": {},
   "outputs": [],
   "source": [
    "movie_row_data.drop_duplicates(inplace=True)"
   ]
  },
  {
   "cell_type": "code",
   "execution_count": 49,
   "metadata": {
    "scrolled": true
   },
   "outputs": [
    {
     "name": "stdout",
     "output_type": "stream",
     "text": [
      "<class 'pandas.core.frame.DataFrame'>\n",
      "Int64Index: 3723 entries, 0 to 5042\n",
      "Data columns (total 28 columns):\n",
      "color                        3723 non-null object\n",
      "director_name                3723 non-null object\n",
      "num_critic_for_reviews       3723 non-null float64\n",
      "duration                     3723 non-null float64\n",
      "director_facebook_likes      3723 non-null float64\n",
      "actor_3_facebook_likes       3723 non-null float64\n",
      "actor_2_name                 3723 non-null object\n",
      "actor_1_facebook_likes       3723 non-null float64\n",
      "gross                        3723 non-null float64\n",
      "genres                       3723 non-null object\n",
      "actor_1_name                 3723 non-null object\n",
      "movie_title                  3723 non-null object\n",
      "num_voted_users              3723 non-null int64\n",
      "cast_total_facebook_likes    3723 non-null int64\n",
      "actor_3_name                 3723 non-null object\n",
      "facenumber_in_poster         3723 non-null float64\n",
      "plot_keywords                3723 non-null object\n",
      "movie_imdb_link              3723 non-null object\n",
      "num_user_for_reviews         3723 non-null float64\n",
      "language                     3723 non-null object\n",
      "country                      3723 non-null object\n",
      "content_rating               3723 non-null object\n",
      "budget                       3723 non-null float64\n",
      "title_year                   3723 non-null float64\n",
      "actor_2_facebook_likes       3723 non-null float64\n",
      "imdb_score                   3723 non-null float64\n",
      "aspect_ratio                 3723 non-null float64\n",
      "movie_facebook_likes         3723 non-null int64\n",
      "dtypes: float64(13), int64(3), object(12)\n",
      "memory usage: 843.5+ KB\n"
     ]
    }
   ],
   "source": [
    "movie_row_data.info()"
   ]
  },
  {
   "cell_type": "code",
   "execution_count": 50,
   "metadata": {},
   "outputs": [],
   "source": [
    "movie_row_data.to_csv('new_output/movie_row_data.csv')"
   ]
  },
  {
   "cell_type": "markdown",
   "metadata": {},
   "source": [
    "### 处理异常值"
   ]
  },
  {
   "cell_type": "markdown",
   "metadata": {},
   "source": [
    "发现异常值，一般有两种方式：一是利用业务经验，查看是否存在异常数据；二是利用箱型分布或者正态分布，利用数据分布，查看是否存在异常值。\n",
    "\n",
    "箱型分布的话，`cut`和`qcut`函数可以实现分箱离散化。\n",
    "\n",
    "业务经验其实就是对数据的了解程度。比方说，简单些，该电影数据中‘title_year’出现‘2020’这个数字，这就是异常数据。如果对数据没有相当了解，比较难以依靠业务经验发现异常值。\n",
    "\n",
    "另一个就是绘制箱型图或者正态分布图，查看数据分布是否有明显异常。此处在数据分析时再详细使用。"
   ]
  },
  {
   "cell_type": "markdown",
   "metadata": {},
   "source": [
    "### 数据类型转换"
   ]
  },
  {
   "cell_type": "markdown",
   "metadata": {},
   "source": [
    "做不同的数据分析可能会需要不同的数据类型，而数据在某一刻只能有一种数据类型，因此，在做具体数据分析时，可能会按需求对数据类型进行转换。"
   ]
  },
  {
   "cell_type": "markdown",
   "metadata": {},
   "source": [
    "## 实际分析"
   ]
  },
  {
   "cell_type": "markdown",
   "metadata": {},
   "source": [
    "在对数据进行分析时，应该只获取目标数据，其余的数据都属于冗余数据，冗余数据会拖慢数据处理速度。"
   ]
  },
  {
   "cell_type": "markdown",
   "metadata": {},
   "source": [
    "### 票房与导演、主演之间的关系"
   ]
  },
  {
   "cell_type": "code",
   "execution_count": 51,
   "metadata": {},
   "outputs": [
    {
     "data": {
      "text/html": [
       "<div>\n",
       "<style scoped>\n",
       "    .dataframe tbody tr th:only-of-type {\n",
       "        vertical-align: middle;\n",
       "    }\n",
       "\n",
       "    .dataframe tbody tr th {\n",
       "        vertical-align: top;\n",
       "    }\n",
       "\n",
       "    .dataframe thead th {\n",
       "        text-align: right;\n",
       "    }\n",
       "</style>\n",
       "<table border=\"1\" class=\"dataframe\">\n",
       "  <thead>\n",
       "    <tr style=\"text-align: right;\">\n",
       "      <th></th>\n",
       "      <th>director_name</th>\n",
       "      <th>gross</th>\n",
       "      <th>actor_1_name</th>\n",
       "    </tr>\n",
       "  </thead>\n",
       "  <tbody>\n",
       "    <tr>\n",
       "      <td>0</td>\n",
       "      <td>James Cameron</td>\n",
       "      <td>760505847.0</td>\n",
       "      <td>CCH Pounder</td>\n",
       "    </tr>\n",
       "    <tr>\n",
       "      <td>1</td>\n",
       "      <td>Gore Verbinski</td>\n",
       "      <td>309404152.0</td>\n",
       "      <td>Johnny Depp</td>\n",
       "    </tr>\n",
       "    <tr>\n",
       "      <td>2</td>\n",
       "      <td>Sam Mendes</td>\n",
       "      <td>200074175.0</td>\n",
       "      <td>Christoph Waltz</td>\n",
       "    </tr>\n",
       "    <tr>\n",
       "      <td>3</td>\n",
       "      <td>Christopher Nolan</td>\n",
       "      <td>448130642.0</td>\n",
       "      <td>Tom Hardy</td>\n",
       "    </tr>\n",
       "    <tr>\n",
       "      <td>5</td>\n",
       "      <td>Andrew Stanton</td>\n",
       "      <td>73058679.0</td>\n",
       "      <td>Daryl Sabara</td>\n",
       "    </tr>\n",
       "  </tbody>\n",
       "</table>\n",
       "</div>"
      ],
      "text/plain": [
       "       director_name        gross     actor_1_name\n",
       "0      James Cameron  760505847.0      CCH Pounder\n",
       "1     Gore Verbinski  309404152.0      Johnny Depp\n",
       "2         Sam Mendes  200074175.0  Christoph Waltz\n",
       "3  Christopher Nolan  448130642.0        Tom Hardy\n",
       "5     Andrew Stanton   73058679.0     Daryl Sabara"
      ]
     },
     "execution_count": 51,
     "metadata": {},
     "output_type": "execute_result"
    }
   ],
   "source": [
    "# 获取票房、导演、主演的数据\n",
    "movie_analysis_01 = movie_row_data.loc[:,['director_name', 'gross', 'actor_1_name']]\n",
    "movie_analysis_01.head()"
   ]
  },
  {
   "cell_type": "code",
   "execution_count": 181,
   "metadata": {},
   "outputs": [
    {
     "data": {
      "text/plain": [
       "director_name\n",
       "Steven Spielberg     4.114233e+09\n",
       "Peter Jackson        2.289968e+09\n",
       "Michael Bay          2.231243e+09\n",
       "Tim Burton           2.071275e+09\n",
       "Sam Raimi            2.049549e+09\n",
       "James Cameron        1.948126e+09\n",
       "Christopher Nolan    1.813228e+09\n",
       "George Lucas         1.741418e+09\n",
       "Robert Zemeckis      1.619309e+09\n",
       "Chris Columbus       1.618708e+09\n",
       "Name: gross, dtype: float64"
      ]
     },
     "execution_count": 181,
     "metadata": {},
     "output_type": "execute_result"
    }
   ],
   "source": [
    "# 查看各导演的票房总收入\n",
    "movie_analysis_01.groupby(by='director_name')['gross'].sum().sort_values(ascending=False).head(10)"
   ]
  },
  {
   "cell_type": "code",
   "execution_count": 53,
   "metadata": {},
   "outputs": [
    {
     "data": {
      "text/plain": [
       "actor_1_name\n",
       "Johnny Depp          3.683191e+09\n",
       "Harrison Ford        3.391556e+09\n",
       "Tom Hanks            3.264559e+09\n",
       "Tom Cruise           2.987622e+09\n",
       "J.K. Simmons         2.856407e+09\n",
       "Will Smith           2.762618e+09\n",
       "Leonardo DiCaprio    2.640582e+09\n",
       "Robert Downey Jr.    2.456990e+09\n",
       "Jennifer Lawrence    2.367856e+09\n",
       "Robin Williams       2.296964e+09\n",
       "Name: gross, dtype: float64"
      ]
     },
     "execution_count": 53,
     "metadata": {},
     "output_type": "execute_result"
    }
   ],
   "source": [
    "# 查看各主演的票房总收入\n",
    "movie_analysis_01.groupby(by='actor_1_name')['gross'].sum().sort_values(ascending=False).head(10)"
   ]
  },
  {
   "cell_type": "markdown",
   "metadata": {},
   "source": [
    "### 评分趋势"
   ]
  },
  {
   "cell_type": "code",
   "execution_count": 54,
   "metadata": {
    "scrolled": true
   },
   "outputs": [
    {
     "data": {
      "text/plain": [
       "imdb_score\n",
       "6.7    175\n",
       "6.6    161\n",
       "6.5    152\n",
       "6.4    146\n",
       "6.8    142\n",
       "6.1    142\n",
       "7.1    140\n",
       "7.0    138\n",
       "7.2    137\n",
       "6.9    135\n",
       "Name: movie_title, dtype: int64"
      ]
     },
     "execution_count": 54,
     "metadata": {},
     "output_type": "execute_result"
    }
   ],
   "source": [
    "# 查看电影与评分之间的关系\n",
    "# 获取目标数据\n",
    "movie_analysis_02 = movie_row_data.loc[:, ['imdb_score', 'movie_title']]\n",
    "movie_analysis_02.groupby(by='imdb_score')['movie_title'].count().sort_values(ascending=False).head(10)"
   ]
  },
  {
   "cell_type": "code",
   "execution_count": 55,
   "metadata": {},
   "outputs": [
    {
     "data": {
      "text/plain": [
       "imdb_score\n",
       "6.7    175\n",
       "6.6    161\n",
       "6.5    152\n",
       "6.4    146\n",
       "6.8    142\n",
       "Name: director_name, dtype: int64"
      ]
     },
     "execution_count": 55,
     "metadata": {},
     "output_type": "execute_result"
    }
   ],
   "source": [
    "# 查看导演与评分之间的关系\n",
    "movie_analysis_03 = movie_row_data.loc[:, ['director_name', 'imdb_score']]\n",
    "movie_analysis_03.groupby(by='imdb_score')['director_name'].count().sort_values(ascending=False).head()"
   ]
  },
  {
   "cell_type": "markdown",
   "metadata": {},
   "source": [
    "### 电影产量与年份之间的关系"
   ]
  },
  {
   "cell_type": "code",
   "execution_count": 80,
   "metadata": {
    "scrolled": false
   },
   "outputs": [
    {
     "data": {
      "text/plain": [
       "title_year\n",
       "2006.0    188\n",
       "2002.0    186\n",
       "2008.0    182\n",
       "2005.0    182\n",
       "2009.0    181\n",
       "2004.0    178\n",
       "2001.0    176\n",
       "2011.0    168\n",
       "2010.0    167\n",
       "2013.0    162\n",
       "Name: movie_title, dtype: int64"
      ]
     },
     "execution_count": 80,
     "metadata": {},
     "output_type": "execute_result"
    }
   ],
   "source": [
    "# 获取目标数据\n",
    "movie_analysis_04 = movie_row_data.loc[:, ['title_year', 'movie_title']]\n",
    "movie_analysis_04.groupby(by='title_year')['movie_title'].count().sort_values(ascending=False).head(10)"
   ]
  },
  {
   "cell_type": "code",
   "execution_count": 161,
   "metadata": {},
   "outputs": [
    {
     "name": "stdout",
     "output_type": "stream",
     "text": [
      "转换前的数据类型： int32\n",
      "转换后的数据类型： int32\n"
     ]
    }
   ],
   "source": [
    "# 可以明显看到上面的‘title_year’列的数据类型有误，本应该是日期类型，结果却是浮点类型\n",
    "print(\"转换前的数据类型：\", movie_analysis_04.title_year.dtype)\n",
    "\n",
    "# 对该列数据进行类型转换\n",
    "movie_analysis_04.title_year = movie_analysis_04.title_year.values.astype('int32')\n",
    "\n",
    "print(\"转换后的数据类型：\", movie_analysis_04.title_year.dtype)"
   ]
  },
  {
   "cell_type": "code",
   "execution_count": 82,
   "metadata": {},
   "outputs": [
    {
     "data": {
      "text/plain": [
       "title_year\n",
       "2006    188\n",
       "2002    186\n",
       "2008    182\n",
       "2005    182\n",
       "2009    181\n",
       "2004    178\n",
       "2001    176\n",
       "2011    168\n",
       "2010    167\n",
       "2013    162\n",
       "Name: movie_title, dtype: int64"
      ]
     },
     "execution_count": 82,
     "metadata": {},
     "output_type": "execute_result"
    }
   ],
   "source": [
    "# 重新显示结果\n",
    "movie_analysis_04.groupby(by='title_year')['movie_title'].count().sort_values(ascending=False).head(10)"
   ]
  },
  {
   "cell_type": "markdown",
   "metadata": {},
   "source": [
    "### 电影类型与票房的关系"
   ]
  },
  {
   "cell_type": "code",
   "execution_count": 174,
   "metadata": {
    "scrolled": true
   },
   "outputs": [
    {
     "data": {
      "text/plain": [
       "genre\n",
       "Adventure    7.764312e+10\n",
       "Comedy       7.510514e+10\n",
       "Action       7.357374e+10\n",
       "Drama        7.140817e+10\n",
       "Thriller     5.414381e+10\n",
       "Fantasy      4.408405e+10\n",
       "Family       4.120049e+10\n",
       "Sci-Fi       4.093102e+10\n",
       "Romance      3.869760e+10\n",
       "Crime        2.767865e+10\n",
       "Name: gross, dtype: float64"
      ]
     },
     "execution_count": 174,
     "metadata": {},
     "output_type": "execute_result"
    }
   ],
   "source": [
    "# 获取相关数据\n",
    "movie_analysis_05 = movie_row_data.loc[:, ['genres', 'gross']]\n",
    "movie_analysis_05.to_csv('new_output/genres_gross.csv')\n",
    "\n",
    "# 重置索引\n",
    "movie_analysis_05.index = range(movie_analysis_05.shape[0])\n",
    "\n",
    "# 尝试分割目标数据\n",
    "# 方法笨拙，不过这是个人目前能想到的唯一解决办法，日后熟悉使用 Python 后，说不定能写出其他的解决方案\n",
    "genre_list = []\n",
    "gross_list = []\n",
    "for i in range(movie_analysis_05.shape[0]):\n",
    "    genre_list.append(movie_analysis_05.genres[i].split(\"|\"))\n",
    "    gross_list.append(movie_analysis_05.gross[i])\n",
    "    \n",
    "new_genre_list = []\n",
    "new_gross_list = []\n",
    "for j in range(len(genre_list)):\n",
    "    for k in range(len(genre_list[j])):\n",
    "        new_genre_list.append(genre_list[j][k])\n",
    "        new_gross_list.append(gross_list[j])\n",
    "        \n",
    "movie_analysis_06 = pd.DataFrame(list(zip(new_genre_list, new_gross_list)))\n",
    "movie_analysis_06.columns = ['genre', 'gross']\n",
    "movie_analysis_06.groupby(by='genre')['gross'].sum().sort_values(ascending=False).head(10)"
   ]
  },
  {
   "cell_type": "markdown",
   "metadata": {},
   "source": [
    "# 总结"
   ]
  },
  {
   "cell_type": "markdown",
   "metadata": {},
   "source": [
    "## 回顾"
   ]
  },
  {
   "cell_type": "markdown",
   "metadata": {},
   "source": [
    "实际上，可以写一个函数来代替上面的所有聚合代码。"
   ]
  },
  {
   "cell_type": "code",
   "execution_count": 172,
   "metadata": {},
   "outputs": [],
   "source": [
    "def groupby_funtion(raw_data_name, data_name, by_column_name, calculate_column_name):\n",
    "    data_name = raw_data_name.loc[:, [by_column_name, calculate_column_name]]\n",
    "    return data_name.groupby(by=by_column_name)[calculate_column_name].count().sort_values(ascending=False).head(10)"
   ]
  },
  {
   "cell_type": "markdown",
   "metadata": {},
   "source": [
    "## 数据处理操作相关"
   ]
  },
  {
   "cell_type": "markdown",
   "metadata": {},
   "source": [
    "\n",
    "处理<u>缺失值</u>时，首先应该观察数据，了解到缺失数据的特点，而后再决定如何处置。\n",
    "\n",
    "比如说，假如某行缺乏数据，但不影响数据处理，那时就可以考虑保留该行数据，使用`dropna(how=\"all\")`，或者，`fillna(\"数据缺失\")`。\n",
    "\n",
    "又或者如果缺失的数据属于数字类型，那时便可以考虑使用平均值、前值、后值或者 0 填充。"
   ]
  },
  {
   "cell_type": "markdown",
   "metadata": {},
   "source": [
    "处理<u>重复值</u>时，可以考虑按照多列重复来删除数据。"
   ]
  },
  {
   "cell_type": "markdown",
   "metadata": {},
   "source": [
    "<u>异常值，就是不符合预期的值。</u>发现异常值的方式，大致有两种。但这两种其实都离不开对业务的理解。比如说，假如数据符合正态分布或者箱型分布，但是一看，明显和实际业务不符，此时肯定要深究。数据分析离不开对业务的理解。\n",
    "\n",
    "而对异常值的处理，可以删除、替换，或者研究异常值出现的原因。根据个人这些天对数据分析的了解，或许**研究异常值**可能会是最佳选择。数据只是行为的结果，出现异常数据，那么很有可能是因为行为有异。"
   ]
  },
  {
   "cell_type": "markdown",
   "metadata": {},
   "source": [
    "另外，数据处理后，注意索引值，如果需要重新序列化索引，那就必须重新序列化索引。"
   ]
  },
  {
   "cell_type": "markdown",
   "metadata": {},
   "source": [
    "## 其他"
   ]
  },
  {
   "cell_type": "markdown",
   "metadata": {},
   "source": [
    "实际上这个数据分析案例完全不合。\n",
    "\n",
    "一是只分析单一变量之间的分析，未考虑到其他变量。比如说导演和票房之间的关系，未考虑到预算、电影数量等其他因素。因此，不能说某导演票房高，因此他就每部都卖座。从数据本身是能看到不少东西，但数据看不到所有。典型的如大鹏，大鹏的第一部电影《煎饼侠》的票房很高，但是第二部《缝纫机乐队》就扑街。还有就是吴京的《战狼》系列电影，谁能想到后面情势一变，使《战狼 2》成为中国历史票房最高的电影呢？这些从数据怎么看？看不到的。数据都是历史，如果能根据数据来预测，那就非常棒。可惜，从个人现在所自学的东西来看，绝大部分都是教人怎么处理数据（历史），而不是根据数据来结合现实（业务）来预测收益（未来）。\n",
    "\n",
    "二是数据命名混乱，或者说，缺乏对数据集的介绍。\n",
    "\n",
    "三是数据量太小，导致分析结果无用。\n",
    "\n",
    "该数据分析案例纯粹就是用来练习各种数据分析基本操作，无其他太大用处。\n",
    "\n",
    "所谓“数据分析”，个人理解就是利用数据（历史），结合实际（业务），使用合理工具（算法、模型？），对未来（收益）进行预测。\n",
    "\n",
    "数据是行为的结果，而不是原因。我想，还是要根据数据分析的结果去找原因，找到原因后才能指导业务，进而获得收益。\n",
    "\n",
    "今后的个人重点或许会是算法与业务。"
   ]
  }
 ],
 "metadata": {
  "kernelspec": {
   "display_name": "Python 3",
   "language": "python",
   "name": "python3"
  },
  "language_info": {
   "codemirror_mode": {
    "name": "ipython",
    "version": 3
   },
   "file_extension": ".py",
   "mimetype": "text/x-python",
   "name": "python",
   "nbconvert_exporter": "python",
   "pygments_lexer": "ipython3",
   "version": "3.6.5"
  },
  "latex_envs": {
   "LaTeX_envs_menu_present": true,
   "autoclose": true,
   "autocomplete": true,
   "bibliofile": "biblio.bib",
   "cite_by": "apalike",
   "current_citInitial": 1,
   "eqLabelWithNumbers": true,
   "eqNumInitial": 1,
   "hotkeys": {
    "equation": "Ctrl-E",
    "itemize": "Ctrl-I"
   },
   "labels_anchors": false,
   "latex_user_defs": false,
   "report_style_numbering": true,
   "user_envs_cfg": false
  },
  "toc": {
   "base_numbering": 1,
   "nav_menu": {},
   "number_sections": true,
   "sideBar": true,
   "skip_h1_title": false,
   "title_cell": "Table of Contents",
   "title_sidebar": "Contents",
   "toc_cell": false,
   "toc_position": {
    "height": "calc(100% - 180px)",
    "left": "10px",
    "top": "150px",
    "width": "295px"
   },
   "toc_section_display": true,
   "toc_window_display": true
  },
  "varInspector": {
   "cols": {
    "lenName": 16,
    "lenType": 16,
    "lenVar": 40
   },
   "kernels_config": {
    "python": {
     "delete_cmd_postfix": "",
     "delete_cmd_prefix": "del ",
     "library": "var_list.py",
     "varRefreshCmd": "print(var_dic_list())"
    },
    "r": {
     "delete_cmd_postfix": ") ",
     "delete_cmd_prefix": "rm(",
     "library": "var_list.r",
     "varRefreshCmd": "cat(var_dic_list()) "
    }
   },
   "types_to_exclude": [
    "module",
    "function",
    "builtin_function_or_method",
    "instance",
    "_Feature"
   ],
   "window_display": false
  }
 },
 "nbformat": 4,
 "nbformat_minor": 2
}
