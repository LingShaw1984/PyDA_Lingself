{
 "cells": [
  {
   "cell_type": "markdown",
   "metadata": {
    "toc": true
   },
   "source": [
    "<h1>Table of Contents<span class=\"tocSkip\"></span></h1>\n",
    "<div class=\"toc\"><ul class=\"toc-item\"></ul></div>"
   ]
  },
  {
   "cell_type": "markdown",
   "metadata": {},
   "source": [
    "使用`jieba`库中的`posseg`方法对数据词性标注，步骤如下：\n",
    "1. 读取数据；\n",
    "1. 使用`jieba.posseg`分词、磁性标注；\n",
    "1. 使用 pandas 的 groupby 分类汇总；\n",
    "1. 选择词性展示相关词。"
   ]
  },
  {
   "cell_type": "code",
   "execution_count": 19,
   "metadata": {
    "ExecuteTime": {
     "end_time": "2019-12-01T07:33:38.351237Z",
     "start_time": "2019-12-01T07:33:37.290193Z"
    },
    "scrolled": false
   },
   "outputs": [
    {
     "name": "stdout",
     "output_type": "stream",
     "text": [
      "            word type\n",
      "271           IT  eng\n",
      "292           Go  eng\n",
      "304         Java  eng\n",
      "307         Java  eng\n",
      "431         Java  eng\n",
      "688         Java  eng\n",
      "690       Python  eng\n",
      "692        Shell  eng\n",
      "697   Javascript  eng\n",
      "724       Docker  eng\n",
      "726           Go  eng\n",
      "728          K8S  eng\n",
      "770      Youtube  eng\n",
      "776       github  eng\n",
      "780        issue  eng\n",
      "782         pull  eng\n",
      "784      request  eng\n",
      "1295         PHP  eng\n",
      "1300      Discuz  eng\n",
      "1310        Java  eng\n",
      "1314        Java  eng\n",
      "1361         TCP  eng\n",
      "1365           C  eng\n",
      "1372      Docker  eng\n",
      "1374          Go  eng\n",
      "1459    Facebook  eng\n",
      "1527    Leetcode  eng\n",
      "1600        Bing  eng\n",
      "1615       Azure  eng\n",
      "1624         k8s  eng\n",
      "1628          co  eng\n",
      "1630     founder  eng\n",
      "1632     Brendan  eng\n",
      "1634       Burns  eng\n",
      "1764     Windows  eng\n",
      "2001      Amazon  eng\n",
      "2019         AWS  eng\n",
      "2097    kingbase  eng\n",
      "2171      Hadoop  eng\n",
      "2197         AWS  eng\n",
      "2204         AWS  eng\n",
      "2206      Aurora  eng\n",
      "2211         AWS  eng\n",
      "2221       MySQL  eng\n",
      "2233   Principle  eng\n",
      "2235    Software  eng\n",
      "2237    Engineer  eng\n",
      "2957       share  eng\n"
     ]
    }
   ],
   "source": [
    "# 导入库\n",
    "import jieba.posseg as pseg\n",
    "import pandas as pd\n",
    "\n",
    "# 读取数据\n",
    "with open('./别让自己“墙”了自己.txt', encoding='utf-8') as fn:\n",
    "    string_data = fn.read()  # 使用read方法读取整段文本\n",
    "\n",
    "# 分词&词性标注\n",
    "words = pseg.cut(string_data)  # 分词\n",
    "words_pd = pd.DataFrame(words, columns=['word', 'type'])  # 创建结果数据框\n",
    "\n",
    "# 词性分类汇总-两列分类\n",
    "words_gb = words_pd.groupby(['type', 'word'])['word'].count()\n",
    "\n",
    "# 词性分类汇总-单列分类\n",
    "words_gb2 = words_pd.groupby('type').count()\n",
    "words_gb2 = words_gb2.sort_values(by='word', ascending=False)\n",
    "\n",
    "# 选择特定类型词语做展示\n",
    "words_pd_index = words_pd['type'].isin(['eng'])\n",
    "words_pd_select = words_pd[words_pd_index]\n",
    "print(words_pd_select)"
   ]
  }
 ],
 "metadata": {
  "kernelspec": {
   "display_name": "Python 3",
   "language": "python",
   "name": "python3"
  },
  "language_info": {
   "codemirror_mode": {
    "name": "ipython",
    "version": 3
   },
   "file_extension": ".py",
   "mimetype": "text/x-python",
   "name": "python",
   "nbconvert_exporter": "python",
   "pygments_lexer": "ipython3",
   "version": "3.7.4"
  },
  "toc": {
   "base_numbering": 1,
   "nav_menu": {},
   "number_sections": true,
   "sideBar": true,
   "skip_h1_title": false,
   "title_cell": "Table of Contents",
   "title_sidebar": "Contents",
   "toc_cell": true,
   "toc_position": {},
   "toc_section_display": true,
   "toc_window_display": true
  },
  "varInspector": {
   "cols": {
    "lenName": 16,
    "lenType": 16,
    "lenVar": 40
   },
   "kernels_config": {
    "python": {
     "delete_cmd_postfix": "",
     "delete_cmd_prefix": "del ",
     "library": "var_list.py",
     "varRefreshCmd": "print(var_dic_list())"
    },
    "r": {
     "delete_cmd_postfix": ") ",
     "delete_cmd_prefix": "rm(",
     "library": "var_list.r",
     "varRefreshCmd": "cat(var_dic_list()) "
    }
   },
   "types_to_exclude": [
    "module",
    "function",
    "builtin_function_or_method",
    "instance",
    "_Feature"
   ],
   "window_display": false
  }
 },
 "nbformat": 4,
 "nbformat_minor": 2
}
