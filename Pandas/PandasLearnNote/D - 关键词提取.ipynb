{
 "cells": [
  {
   "cell_type": "markdown",
   "metadata": {
    "toc": true
   },
   "source": [
    "<h1>Table of Contents<span class=\"tocSkip\"></span></h1>\n",
    "<div class=\"toc\"><ul class=\"toc-item\"><li><span><a href=\"#使用-TF-IDF-算法\" data-toc-modified-id=\"使用-TF-IDF-算法-1\"><span class=\"toc-item-num\">1&nbsp;&nbsp;</span>使用 TF-IDF 算法</a></span></li><li><span><a href=\"#其他资料\" data-toc-modified-id=\"其他资料-2\"><span class=\"toc-item-num\">2&nbsp;&nbsp;</span>其他资料</a></span></li></ul></div>"
   ]
  },
  {
   "cell_type": "markdown",
   "metadata": {},
   "source": [
    "## 使用 TF-IDF 算法"
   ]
  },
  {
   "cell_type": "markdown",
   "metadata": {},
   "source": [
    "关键词提取，使用 jieba 库的`analyse.extract_tags`方法。其功能是：使用 TF-IDF 算法从文本提取关键词。\n",
    "\n",
    "该方法的相关参数如下：\n",
    "    - topK：返回 TF-IDF 权重最大的关键词数量，None 则全部返回。默认为 20。\n",
    "    - withWeight：是否返回关键词权重。如果为 True，返回`(词, 权重)`列表；如果为 False，返回只包含词的列表。\n",
    "    - allowPOS：仅包括指定词性的词，如果相关词的词性不在词性列表中，则被过滤。默认不筛选。\n",
    "    - withFlag：只在`allowPOS`不为空时生效。如果为 True，返回的数据格式为`pair(词, 权重)`列表；如果为 False，返回`(词, 权重)`列表。"
   ]
  },
  {
   "cell_type": "code",
   "execution_count": 47,
   "metadata": {
    "ExecuteTime": {
     "end_time": "2019-12-01T06:25:58.723465Z",
     "start_time": "2019-12-01T06:25:58.141471Z"
    }
   },
   "outputs": [
    {
     "data": {
      "text/html": [
       "<div>\n",
       "<style scoped>\n",
       "    .dataframe tbody tr th:only-of-type {\n",
       "        vertical-align: middle;\n",
       "    }\n",
       "\n",
       "    .dataframe tbody tr th {\n",
       "        vertical-align: top;\n",
       "    }\n",
       "\n",
       "    .dataframe thead th {\n",
       "        text-align: right;\n",
       "    }\n",
       "</style>\n",
       "<table border=\"1\" class=\"dataframe\">\n",
       "  <thead>\n",
       "    <tr style=\"text-align: right;\">\n",
       "      <th></th>\n",
       "      <th>word</th>\n",
       "      <th>flags</th>\n",
       "      <th>weight</th>\n",
       "    </tr>\n",
       "  </thead>\n",
       "  <tbody>\n",
       "    <tr>\n",
       "      <td>0</td>\n",
       "      <td>维度</td>\n",
       "      <td>ns</td>\n",
       "      <td>0.218090</td>\n",
       "    </tr>\n",
       "    <tr>\n",
       "      <td>1</td>\n",
       "      <td>限制</td>\n",
       "      <td>v</td>\n",
       "      <td>0.154668</td>\n",
       "    </tr>\n",
       "    <tr>\n",
       "      <td>2</td>\n",
       "      <td>技术</td>\n",
       "      <td>n</td>\n",
       "      <td>0.154048</td>\n",
       "    </tr>\n",
       "    <tr>\n",
       "      <td>3</td>\n",
       "      <td>能力</td>\n",
       "      <td>n</td>\n",
       "      <td>0.109837</td>\n",
       "    </tr>\n",
       "    <tr>\n",
       "      <td>4</td>\n",
       "      <td>学习</td>\n",
       "      <td>v</td>\n",
       "      <td>0.085714</td>\n",
       "    </tr>\n",
       "  </tbody>\n",
       "</table>\n",
       "</div>"
      ],
      "text/plain": [
       "  word flags    weight\n",
       "0   维度    ns  0.218090\n",
       "1   限制     v  0.154668\n",
       "2   技术     n  0.154048\n",
       "3   能力     n  0.109837\n",
       "4   学习     v  0.085714"
      ]
     },
     "execution_count": 47,
     "metadata": {},
     "output_type": "execute_result"
    }
   ],
   "source": [
    "import jieba.analyse\n",
    "import pandas as pd\n",
    "# 读取文本数据\n",
    "with open('./别让自己“墙”了自己.txt', encoding='utf-8') as fn:\n",
    "    string_data = fn.read()\n",
    "# 关键字提取\n",
    "tags_pairs = jieba.analyse.extract_tags(string_data, topK=5,\n",
    "                                        withWeight=True,\n",
    "                                        allowPOS=['ns', 'n', 'vn', 'v', 'nr'],\n",
    "                                        withFlag=True)  # 提取关键字标签\n",
    "tags_list = [(i[0].word, i[0].flag, i[1]) for i in tags_pairs]\n",
    "tags_pd = pd.DataFrame(tags_list, columns=['word', 'flags', 'weight'])  # 创建数据框\n",
    "tags_pd  # 打印数据框"
   ]
  },
  {
   "cell_type": "markdown",
   "metadata": {},
   "source": [
    "## 其他资料"
   ]
  },
  {
   "cell_type": "markdown",
   "metadata": {},
   "source": [
    "汉语词性标记集：[计算所汉语词性标记集](http://ictclas.nlpir.org/nlpir/html/readme.htm)<br>\n",
    "结巴分词：[fxsjy/jieba: 结巴中文分词](https://github.com/fxsjy/jieba)<br>\n",
    "别让自己“墙”了自己：[别让自己\"墙\"了自己 | | 酷 壳 - CoolShell](https://coolshell.cn/articles/20276.html)"
   ]
  }
 ],
 "metadata": {
  "kernelspec": {
   "display_name": "Python 3",
   "language": "python",
   "name": "python3"
  },
  "language_info": {
   "codemirror_mode": {
    "name": "ipython",
    "version": 3
   },
   "file_extension": ".py",
   "mimetype": "text/x-python",
   "name": "python",
   "nbconvert_exporter": "python",
   "pygments_lexer": "ipython3",
   "version": "3.7.4"
  },
  "toc": {
   "base_numbering": 1,
   "nav_menu": {},
   "number_sections": true,
   "sideBar": true,
   "skip_h1_title": false,
   "title_cell": "Table of Contents",
   "title_sidebar": "Contents",
   "toc_cell": true,
   "toc_position": {
    "height": "calc(100% - 180px)",
    "left": "10px",
    "top": "150px",
    "width": "170.667px"
   },
   "toc_section_display": true,
   "toc_window_display": true
  },
  "varInspector": {
   "cols": {
    "lenName": 16,
    "lenType": 16,
    "lenVar": 40
   },
   "kernels_config": {
    "python": {
     "delete_cmd_postfix": "",
     "delete_cmd_prefix": "del ",
     "library": "var_list.py",
     "varRefreshCmd": "print(var_dic_list())"
    },
    "r": {
     "delete_cmd_postfix": ") ",
     "delete_cmd_prefix": "rm(",
     "library": "var_list.r",
     "varRefreshCmd": "cat(var_dic_list()) "
    }
   },
   "types_to_exclude": [
    "module",
    "function",
    "builtin_function_or_method",
    "instance",
    "_Feature"
   ],
   "window_display": false
  }
 },
 "nbformat": 4,
 "nbformat_minor": 2
}
