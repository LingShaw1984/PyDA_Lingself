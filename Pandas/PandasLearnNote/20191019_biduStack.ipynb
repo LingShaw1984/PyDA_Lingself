{
 "cells": [
  {
   "cell_type": "code",
   "execution_count": 24,
   "metadata": {},
   "outputs": [
    {
     "name": "stdout",
     "output_type": "stream",
     "text": [
      "close    9534.338029\n",
      "dtype: float64\n",
      "65\n",
      "65\n"
     ]
    }
   ],
   "source": [
    "# 加载数据，把date这一列设置为索引，简单起见，只用收盘价进行分析\n",
    "import numpy as np\n",
    "import pandas as pd\n",
    "\n",
    "# 导入数据\n",
    "df = pd.read_csv('./20191019_biduStack.csv', index_col='date', usecols=[0, 1])\n",
    "# df.head()\n",
    "\n",
    "# 将索引转换为 Datetime 形式\n",
    "df.index = pd.DatetimeIndex(df.index.str.strip(\"'\"))\n",
    "\n",
    "# 按照日期升序排序\n",
    "df.sort_index(inplace=True)\n",
    "\n",
    "df.describe()\n",
    "df.head()\n",
    "\n",
    "# 策略一：股价超出10日均线买入，跌破十日均线卖出\n",
    "# 使用窗函数计算10日均线数据\n",
    "ma10 = df.rolling(10).mean().dropna()\n",
    "\n",
    "# 买点\n",
    "ma10_model = df['close'] - ma10['close'] > 0\n",
    "ma10_model\n",
    "\n",
    "\n",
    "# 第一个值 False，第二个值是 True，在 True 时买入，需自定义移动窗口处理函数\n",
    "# 因为卖时还需定义类似函数，所以这里把这两个函数放在一起\n",
    "def get_deal_date(w, is_buy=True):\n",
    "    if is_buy == True:\n",
    "        return True if w[0] == False and w[1] == True else False\n",
    "    else :\n",
    "        return True if w[0] == True and w[1] == False else False\n",
    "\n",
    "# raw=False 没有的话会有警告信息\n",
    "# 如果删除 Na 值，会有缺失，所以这里用 0 填充，转换为 bool 值以便后面取值\n",
    "se_buy = ma10_model.rolling(2).apply(get_deal_date, raw=False).fillna(0).astype('bool')\n",
    "\n",
    "# apply 的 args 接受数组或者字典给自定义函数传参\n",
    "se_sale = ma10_model.rolling(2).apply(get_deal_date, raw=False, args=[False]).fillna(0).astype('bool')\n",
    "\n",
    "# 具体的买卖点\n",
    "buy_info = df[se_buy.values]\n",
    "sale_info = df[se_sale.values]\n",
    "# print(\"具体买点是：\", buy_info.head())\n",
    "# print(\"\\n\")\n",
    "# print(\"具体买点是：\",sale_info.head())\n",
    "\n",
    "# 买和卖的索引值不一样，不过数据都有 65 条，所以删除时间索引信息\n",
    "no_index_buy_info = buy_info.reset_index(drop=True)\n",
    "no_index_sale_info = sale_info.reset_index(drop=True)\n",
    "\n",
    "# 每次交易的盈利情况\n",
    "profit = no_index_sale_info - no_index_buy_info\n",
    "# print(profit)\n",
    "\n",
    "# 大体数据\n",
    "profit.describe()\n",
    "\n",
    "profit.sum()\n",
    "\n",
    "# 假如有 1w 美元，最终盈利是多少\n",
    "all_money = 10000\n",
    "remain = all_money\n",
    "for i in range(len(no_index_buy_info)):\n",
    "    buy_count = remain / no_index_buy_info.iloc[i]\n",
    "    remain = buy_count * no_index_sale_info.iloc[i]\n",
    "    # all_money = sale_total - all_money\n",
    "print(remain)\n",
    "\n",
    "\n",
    "# # 如果加上每次交易金额的万分之三手续费\n",
    "# all_money = 10000\n",
    "# remain = all_money\n",
    "# fee = 0.0003\n",
    "# for i in range(len(no_index_buy_info)):\n",
    "#     buy_count = remain / no_index_buy_info.iloc[i]\n",
    "#     remain = buy_count * no_index_sale_info.iloc[i] * (1 - fee)\n",
    "#     # all_money = sale_total - all_money\n",
    "#     print(remain)\n",
    "\n",
    "\n",
    "# 考虑一种边界情况，买了之后卖点到现在还没有出现（因为是先买的，所以不可能买点比卖点多）\n",
    "# 这种情况我们把当前的股价加到卖点数据中（也可以把买点数据删除）\n",
    "print(len(no_index_buy_info))\n",
    "print(len(no_index_sale_info))\n",
    "if (len(no_index_buy_info) > len(no_index_sale_info)):\n",
    "    # no_index_buy_info.drop(no_index_buy_info.index[-1], inplace=True)\n",
    "    no_index_sale_info.loc[len(no_index_sale_info)] = [df.iloc[-1, 0]]"
   ]
  },
  {
   "cell_type": "code",
   "execution_count": null,
   "metadata": {},
   "outputs": [],
   "source": []
  }
 ],
 "metadata": {
  "kernelspec": {
   "display_name": "Python 3",
   "language": "python",
   "name": "python3"
  },
  "language_info": {
   "codemirror_mode": {
    "name": "ipython",
    "version": 3
   },
   "file_extension": ".py",
   "mimetype": "text/x-python",
   "name": "python",
   "nbconvert_exporter": "python",
   "pygments_lexer": "ipython3",
   "version": "3.6.5"
  },
  "toc": {
   "base_numbering": 1,
   "nav_menu": {},
   "number_sections": true,
   "sideBar": true,
   "skip_h1_title": false,
   "title_cell": "Table of Contents",
   "title_sidebar": "Contents",
   "toc_cell": false,
   "toc_position": {},
   "toc_section_display": true,
   "toc_window_display": false
  },
  "varInspector": {
   "cols": {
    "lenName": 16,
    "lenType": 16,
    "lenVar": 40
   },
   "kernels_config": {
    "python": {
     "delete_cmd_postfix": "",
     "delete_cmd_prefix": "del ",
     "library": "var_list.py",
     "varRefreshCmd": "print(var_dic_list())"
    },
    "r": {
     "delete_cmd_postfix": ") ",
     "delete_cmd_prefix": "rm(",
     "library": "var_list.r",
     "varRefreshCmd": "cat(var_dic_list()) "
    }
   },
   "types_to_exclude": [
    "module",
    "function",
    "builtin_function_or_method",
    "instance",
    "_Feature"
   ],
   "window_display": false
  }
 },
 "nbformat": 4,
 "nbformat_minor": 2
}
