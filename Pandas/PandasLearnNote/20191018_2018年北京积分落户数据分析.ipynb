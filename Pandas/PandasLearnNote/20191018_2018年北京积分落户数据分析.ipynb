{
 "cells": [
  {
   "cell_type": "code",
   "execution_count": 39,
   "metadata": {},
   "outputs": [
    {
     "data": {
      "image/png": "[encoded data removed]",
      "text/plain": [
       "<Figure size 432x288 with 1 Axes>"
      ]
     },
     "metadata": {},
     "output_type": "display_data"
    },
    {
     "data": {
      "image/png": "[encoded data removed]",
      "text/plain": [
       "<Figure size 432x288 with 1 Axes>"
      ]
     },
     "metadata": {},
     "output_type": "display_data"
    }
   ],
   "source": [
    "# 导入所需库\n",
    "import pandas as pd\n",
    "import numpy as np\n",
    "import matplotlib as mpl\n",
    "from matplotlib import pyplot as plt\n",
    "\n",
    "# 读取文件\n",
    "bj = pd.read_csv('20191018_2018年北京积分落户数据分析.csv')\n",
    "# bj.head()\n",
    "\n",
    "# describe() 展示一些基本信息\n",
    "# bj.describe()\n",
    "# bj.info()\n",
    "\n",
    "# 按照 company 分组并计算每组个数\n",
    "# groupby默认会把by的这个列作为索引列返回，可以设置下as_index=False\n",
    "companyData = bj.groupby(by='company', as_index=False).count()[['company','name']]\n",
    "\n",
    "# 重命名 companyData 列名称\n",
    "companyData.rename(columns={'name': 'peopleCount'}, inplace=True)\n",
    "\n",
    "# 按照 peopleCount 列排序\n",
    "companyData = companyData.sort_values('peopleCount', ascending=False)\n",
    "companyData\n",
    "\n",
    "\n",
    "# 按条件过滤\n",
    "# 只有一人的公司\n",
    "companyData[companyData.peopleCount == 1]\n",
    "\n",
    "# 人数前 50 的公司\n",
    "companyData.head(50)\n",
    "\n",
    "# 分数分布\n",
    "# 按照步长 5 分桶统计下分数的分布\n",
    "bins = np.arange(90, 130, 5)\n",
    "bins = pd.cut(bj['score'], bins=bins)\n",
    "\n",
    "binsCounts = bj.score.groupby(by=bins).count()\n",
    "\n",
    "# 处理 index\n",
    "binsCounts.index = [ str(x.left) + '~' + str(x.right) for x in binsCounts.index]\n",
    "binsCounts.plot(kind='bar', alpha=1, rot=0, color='red')\n",
    "plt.show()\n",
    "\n",
    "# 年龄分布\n",
    "# 出生日期转为年龄\n",
    "bj['age'] = ((pd.to_datetime('2019/10/18') - pd.to_datetime(bj['birthday'])) / pd.Timedelta('365 days'))\n",
    "bj.describe()\n",
    "\n",
    "# 分数分布\n",
    "# 按照步长 5 分桶统计下分数的分布\n",
    "bins = np.arange(20, 70, 5)\n",
    "bins = pd.cut(bj['age'], bins)\n",
    "bin_counts = bj['age'].groupby(bins).count()\n",
    "\n",
    "bin_counts.index = [ str(x.left) + '~' + str(x.right) for x in bin_counts.index ]\n",
    "bin_counts.plot(kind='bar', alpha=1, rot=0)\n",
    "plt.show()"
   ]
  }
 ],
 "metadata": {
  "kernelspec": {
   "display_name": "Python 3",
   "language": "python",
   "name": "python3"
  },
  "language_info": {
   "codemirror_mode": {
    "name": "ipython",
    "version": 3
   },
   "file_extension": ".py",
   "mimetype": "text/x-python",
   "name": "python",
   "nbconvert_exporter": "python",
   "pygments_lexer": "ipython3",
   "version": "3.6.5"
  },
  "toc": {
   "base_numbering": 1,
   "nav_menu": {},
   "number_sections": true,
   "sideBar": true,
   "skip_h1_title": false,
   "title_cell": "Table of Contents",
   "title_sidebar": "Contents",
   "toc_cell": false,
   "toc_position": {},
   "toc_section_display": true,
   "toc_window_display": false
  },
  "varInspector": {
   "cols": {
    "lenName": 16,
    "lenType": 16,
    "lenVar": 40
   },
   "kernels_config": {
    "python": {
     "delete_cmd_postfix": "",
     "delete_cmd_prefix": "del ",
     "library": "var_list.py",
     "varRefreshCmd": "print(var_dic_list())"
    },
    "r": {
     "delete_cmd_postfix": ") ",
     "delete_cmd_prefix": "rm(",
     "library": "var_list.r",
     "varRefreshCmd": "cat(var_dic_list()) "
    }
   },
   "types_to_exclude": [
    "module",
    "function",
    "builtin_function_or_method",
    "instance",
    "_Feature"
   ],
   "window_display": false
  }
 },
 "nbformat": 4,
 "nbformat_minor": 2
}
