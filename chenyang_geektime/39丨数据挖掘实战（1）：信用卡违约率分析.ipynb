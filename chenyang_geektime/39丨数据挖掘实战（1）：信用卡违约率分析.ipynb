{
 "cells": [
  {
   "cell_type": "markdown",
   "metadata": {
    "toc": true
   },
   "source": [
    "<h1>Table of Contents<span class=\"tocSkip\"></span></h1>\n",
    "<div class=\"toc\"><ul class=\"toc-item\"><li><span><a href=\"#随机森林\" data-toc-modified-id=\"随机森林-1\"><span class=\"toc-item-num\">1&nbsp;&nbsp;</span>随机森林</a></span></li><li><span><a href=\"#使用-GridSearchCVC-工具\" data-toc-modified-id=\"使用-GridSearchCVC-工具-2\"><span class=\"toc-item-num\">2&nbsp;&nbsp;</span>使用 GridSearchCVC 工具</a></span></li><li><span><a href=\"#使用-Pipeline-管道机制进行流水线作业\" data-toc-modified-id=\"使用-Pipeline-管道机制进行流水线作业-3\"><span class=\"toc-item-num\">3&nbsp;&nbsp;</span>使用 Pipeline 管道机制进行流水线作业</a></span></li><li><span><a href=\"#分析信用卡违约率\" data-toc-modified-id=\"分析信用卡违约率-4\"><span class=\"toc-item-num\">4&nbsp;&nbsp;</span>分析信用卡违约率</a></span><ul class=\"toc-item\"><li><span><a href=\"#项目流程\" data-toc-modified-id=\"项目流程-4.1\"><span class=\"toc-item-num\">4.1&nbsp;&nbsp;</span>项目流程</a></span></li></ul></li><li><span><a href=\"#总结\" data-toc-modified-id=\"总结-5\"><span class=\"toc-item-num\">5&nbsp;&nbsp;</span>总结</a></span></li><li><span><a href=\"#练习\" data-toc-modified-id=\"练习-6\"><span class=\"toc-item-num\">6&nbsp;&nbsp;</span>练习</a></span></li></ul></div>"
   ]
  },
  {
   "cell_type": "markdown",
   "metadata": {},
   "source": [
    "1. 创建各种分类器；\n",
    "1. 掌握 GridSearchCVC 工具，优化算法模型的参数；\n",
    "1. 使用 PipeSearch 管道机制进行流水线作业。"
   ]
  },
  {
   "cell_type": "markdown",
   "metadata": {},
   "source": [
    "## 随机森林\n",
    "\n",
    "随机森林，Random Forest，RF。实际上是一个包含多个决策树的分类器，每一个分类器都是一颗 CART 分类回归树。因此，随机森林既可以做分类，也可以做回归。\n",
    "<br>\n",
    "做分类时，输出结果是每个子分类器的分类结果中最多的那个。\n",
    "<br>\n",
    "做回归时，输出结果是每棵 CART 树的回归结果的平均值。"
   ]
  },
  {
   "cell_type": "markdown",
   "metadata": {},
   "source": [
    "## 使用 GridSearchCVC 工具"
   ]
  },
  {
   "cell_type": "code",
   "execution_count": 3,
   "metadata": {
    "ExecuteTime": {
     "end_time": "2019-11-22T09:16:23.465225Z",
     "start_time": "2019-11-22T09:16:21.182541Z"
    }
   },
   "outputs": [
    {
     "name": "stdout",
     "output_type": "stream",
     "text": [
      " 最优分数：0.9667\n",
      " 最优参数： {'n_estimators': 5}\n"
     ]
    },
    {
     "name": "stderr",
     "output_type": "stream",
     "text": [
      "C:\\ProgramData\\Anaconda3\\lib\\site-packages\\sklearn\\model_selection\\_search.py:814: DeprecationWarning: The default of the `iid` parameter will change from True to False in version 0.22 and will be removed in 0.24. This will change numeric results when test-set sizes are unequal.\n",
      "  DeprecationWarning)\n"
     ]
    }
   ],
   "source": [
    "from sklearn.ensemble import RandomForestClassifier\n",
    "from sklearn.model_selection import GridSearchCV\n",
    "from sklearn.datasets import load_iris\n",
    "from warnings import simplefilter\n",
    "\n",
    "simplefilter(action='ignore', category=FutureWarning)\n",
    "\n",
    "rf = RandomForestClassifier()\n",
    "parameters = {\"n_estimators\": range(1, 11)}\n",
    "iris = load_iris()\n",
    "# print(parameters)\n",
    "clf = GridSearchCV(estimator=rf, param_grid=parameters)\n",
    "\n",
    "clf.fit(iris.data, iris.target)\n",
    "print(\" 最优分数：%.4lf\" %clf.best_score_)\n",
    "print(\" 最优参数：\", clf.best_params_)"
   ]
  },
  {
   "cell_type": "markdown",
   "metadata": {},
   "source": [
    "疑问：为何执行多次最优分数是一定的 0.9667 但是最优参数，n_estimators 每次都不一样，是什么原因？"
   ]
  },
  {
   "cell_type": "markdown",
   "metadata": {},
   "source": [
    "**注意：GridSearchCVC 本质是暴力搜索，穷举法，因此不适用于大数据。**"
   ]
  },
  {
   "cell_type": "markdown",
   "metadata": {},
   "source": [
    "## 使用 Pipeline 管道机制进行流水线作业"
   ]
  },
  {
   "cell_type": "markdown",
   "metadata": {},
   "source": [
    "Pipeline 管道机制：把每一步按顺序列下来，从而创造 Pipeline 流水线作业。每一步都采用（'名称', '步骤'）的方式来表示。\n",
    "\n",
    "代码如下："
   ]
  },
  {
   "cell_type": "markdown",
   "metadata": {},
   "source": [
    "1. 采用 StandardScaler 方法对数据规范化，即采用数据规范化为均值为 0，方差为 1 的正态分布；\n",
    "1. 采用 PCA 方法对数据进行降维；\n",
    "1. 采用随机森林进行分类。\n"
   ]
  },
  {
   "cell_type": "code",
   "execution_count": null,
   "metadata": {
    "ExecuteTime": {
     "end_time": "2019-11-22T08:55:25.495736Z",
     "start_time": "2019-11-22T08:55:25.295717Z"
    }
   },
   "outputs": [],
   "source": [
    "from sklearn.model_selection import GridSearchCV\n",
    "\n",
    "pipeline = Pipeline([\n",
    "    ('scaler', StandardScaler()),\n",
    "    ('pca', PCA()),\n",
    "    ('randomforestclassifier', RandomForestClassifier())\n",
    "])"
   ]
  },
  {
   "cell_type": "markdown",
   "metadata": {},
   "source": [
    "***\n",
    "实例："
   ]
  },
  {
   "cell_type": "code",
   "execution_count": null,
   "metadata": {
    "ExecuteTime": {
     "end_time": "2019-11-22T08:55:25.499740Z",
     "start_time": "2019-11-22T08:55:22.387Z"
    }
   },
   "outputs": [],
   "source": [
    "from sklearn.ensemble import RandomForestClassifier\n",
    "from sklearn.model_selection import GridSearchCV\n",
    "from sklearn.datasets import load_iris\n",
    "from sklearn.preprocessing import StandardScaler\n",
    "from sklearn.pipeline import Pipeline\n",
    "\n",
    "rf = RandomForestClassifier()\n",
    "parameters = {\"randomforestclassifier__n_estimators\": range(1,11)}\n",
    "iris = load_iris()\n",
    "pipeline = Pipeline([\n",
    "    ('scaler', StandardScaler()),\n",
    "    ('randomforestclassifier', rf)\n",
    "])\n",
    "\n",
    "clf = GridSearchCV(estimator=pipeline, param_grid=parameters)\n",
    "\n",
    "clf.fit(iris.data, iris.target)\n",
    "print(\" 最优分数：%.4lf\" %clf.best_score_)\n",
    "print(\" 最优参数：\", clf.best_params_)"
   ]
  },
  {
   "cell_type": "markdown",
   "metadata": {},
   "source": [
    "## 分析信用卡违约率"
   ]
  },
  {
   "cell_type": "markdown",
   "metadata": {},
   "source": [
    "信用卡数据："
   ]
  },
  {
   "cell_type": "markdown",
   "metadata": {},
   "source": [
    "<img src=\"https://static001.geekbang.org/resource/image/17/88/1730fb3a809c99950739e7f50e1a6988.jpg\" style=\"width:500px\">"
   ]
  },
  {
   "cell_type": "markdown",
   "metadata": {},
   "source": [
    "### 项目流程"
   ]
  },
  {
   "cell_type": "markdown",
   "metadata": {},
   "source": [
    "<img src=\"https://static001.geekbang.org/resource/image/92/a5/929c96584cbc25972f63ef39101c96a5.jpg\" style=\"width:500px\">"
   ]
  },
  {
   "cell_type": "markdown",
   "metadata": {},
   "source": [
    "1. 使用数据可视化探索数据；<br><br>\n",
    "1. 使用 train_test_split 划分数据集；<br><br>\n",
    "1. 使用 Pipeline 管道机制，将数据规范化设置为第一步，分类为第二步；<br><br>\n",
    "1. 由于不知道哪个分类器效果好，因此设置多个分类器，比如 SVM、决策树、随机森林和 KNN；<br><br>\n",
    "1. 通过 GridSearchCVC 工具，找到每个分类器的最优参数和最优分数；<br><br>\n",
    "1. 找到最适合这个项目的分类器和该分类器的参数。<br><br>"
   ]
  },
  {
   "cell_type": "code",
   "execution_count": 13,
   "metadata": {
    "ExecuteTime": {
     "end_time": "2019-11-22T12:50:16.379525Z",
     "start_time": "2019-11-22T12:45:15.473629Z"
    },
    "scrolled": true
   },
   "outputs": [
    {
     "name": "stdout",
     "output_type": "stream",
     "text": [
      "0    23364\n",
      "1     6636\n",
      "Name: default.payment.next.month, dtype: int64\n"
     ]
    },
    {
     "data": {
      "image/png": "[encoded data removed]",
      "text/plain": [
       "<Figure size 432x432 with 1 Axes>"
      ]
     },
     "metadata": {
      "needs_background": "light"
     },
     "output_type": "display_data"
    },
    {
     "name": "stdout",
     "output_type": "stream",
     "text": [
      "GridSearch 最优参数： {'svc__C': 1, 'svc__gamma': 0.01}\n",
      "GridSearch 最优分数： 0.8174\n",
      " 准确率 0.8172\n",
      "GridSearch 最优参数： {'decisiontreeclassifier__max_depth': 6}\n",
      "GridSearch 最优分数： 0.8186\n",
      " 准确率 0.8113\n",
      "GridSearch 最优参数： {'randomforestclassifier__n_estimators': 6}\n",
      "GridSearch 最优分数： 0.7998\n",
      " 准确率 0.7994\n",
      "GridSearch 最优参数： {'kneighborsclassifier__n_neighbors': 8}\n",
      "GridSearch 最优分数： 0.8040\n",
      " 准确率 0.8036\n",
      "GridSearch 最优参数： {'adaBoostClassifier__n_estimators': 10}\n",
      "GridSearch 最优分数： 0.8187\n",
      " 准确率 0.8129\n"
     ]
    }
   ],
   "source": [
    "import pandas as pd\n",
    "from sklearn.model_selection import learning_curve, train_test_split, GridSearchCV\n",
    "from sklearn.preprocessing import StandardScaler\n",
    "from sklearn.pipeline import Pipeline\n",
    "from sklearn.metrics import accuracy_score\n",
    "from sklearn.svm import SVC\n",
    "from sklearn.tree import DecisionTreeClassifier\n",
    "from sklearn.ensemble import RandomForestClassifier, AdaBoostClassifier\n",
    "from sklearn.neighbors import KNeighborsClassifier\n",
    "from matplotlib import pyplot as plt\n",
    "import seaborn as sns\n",
    "from warnings import simplefilter\n",
    "\n",
    "simplefilter(action='ignore', category=FutureWarning)\n",
    "\n",
    "data = pd.read_csv(\"./datasets/UCI_Credit_Card.csv\")\n",
    "\n",
    "# print(data.shape)\n",
    "# print(data.describe())\n",
    "\n",
    "next_month = data['default.payment.next.month'].value_counts()\n",
    "print(next_month)\n",
    "\n",
    "# 可视化违约与守约客户数据\n",
    "df = pd.DataFrame(\n",
    "    {'default.payment.next.month': next_month.index, 'values': next_month.values})\n",
    "plt.rcParams['font.sans-serif'] = ['SimHei']  # 设置中文字体\n",
    "plt.figure(figsize=(6, 6))  # 设置画布大小\n",
    "plt.title('信用卡违约率客户\\n （违约：1，守约：0）')  # 条形图标题\n",
    "sns.set_color_codes(\"pastel\")  # 设置颜色\n",
    "sns.barplot(x='default.payment.next.month', y=\"values\", data=df)  # 设置轴的取值\n",
    "locs, labels = plt.xticks()\n",
    "plt.show()\n",
    "\n",
    "# 选择特征\n",
    "data.drop(['ID'], inplace=True, axis=1)\n",
    "target = data['default.payment.next.month'].values\n",
    "columns = data.columns.tolist()\n",
    "columns.remove('default.payment.next.month')\n",
    "features = data[columns].values\n",
    "\n",
    "train_x, test_x, train_y, test_y = train_test_split(\n",
    "    features, target, test_size=0.30, stratify=target, random_state=1)\n",
    "# stratify:If not None, data is split in a stratified fashion, using this as the class labels.\n",
    "\n",
    "# 创建分类器\n",
    "classifiers = [\n",
    "    SVC(random_state=1, kernel='rbf'),  # 支持向量机算法，kernel='rbf'，核函数选择高斯核函数\n",
    "    # 决策树分类算法，criterion='gini'，选择 ID3 算法\n",
    "    DecisionTreeClassifier(random_state=1, criterion='gini'),\n",
    "    # 随机森林分类算法，criterion='gini'，选择 ID3 算法\n",
    "    RandomForestClassifier(random_state=1, criterion='gini'),\n",
    "    # K 临近分类算法，metric='minkowski'，计算距离的方式为闵可夫斯基距离\n",
    "    KNeighborsClassifier(metric='minkowski'),\n",
    "    # AdaBoost 分类算法\n",
    "    AdaBoostClassifier(random_state=1, algorithm='SAMME.R')\n",
    "]\n",
    "\n",
    "# 分类器名字\n",
    "classifier_names = [\n",
    "    'svc',\n",
    "    'decisiontreeclassifier',\n",
    "    'randomforestclassifier',\n",
    "    'kneighborsclassifier',\n",
    "    'adaBoostClassifier',\n",
    "]\n",
    "\n",
    "classifier_param_grid = [\n",
    "    {'svc__C': [1], 'svc__gamma':[0.01]},  # 惩罚系数为 1，核函数的系数为 0.01，即样本特征数为 100\n",
    "    {'decisiontreeclassifier__max_depth': [6, 9, 11]},  # 最大深度的取值\n",
    "    {'randomforestclassifier__n_estimators': [3, 5, 6]},  # 决策树个数\n",
    "    {'kneighborsclassifier__n_neighbors': [4, 6, 8]},  # 邻居的数量\n",
    "    {'adaBoostClassifier__n_estimators': [10, 50, 100]},\n",
    "]\n",
    "\n",
    "# 对具体的分类器进行 GridSearchCV 参数调优\n",
    "\n",
    "\n",
    "def GridSearchCV_work(pipeline, train_x, train_y, test_x, test_y, param_grid, score='accuracy'):\n",
    "    respose = {}\n",
    "    gridsearch = GridSearchCV(\n",
    "        estimator=pipeline, param_grid=param_grid, scoring=score)\n",
    "    # estimator，采用的分类器\n",
    "    # param_grid，优化目标，字典或列表形式\n",
    "    # scoring，准确度的评价标准，设置为 accuracy\n",
    "\n",
    "    search = gridsearch.fit(train_x, train_y)  # 拟合\n",
    "    print(\"GridSearch 最优参数：\", search.best_params_)  # 得到最优参数\n",
    "    print(\"GridSearch 最优分数： %0.4lf\" % search.best_score_)  # 得到最优分数\n",
    "    predict_y = gridsearch.predict(test_x)  # 根据 test_x 得到预测值\n",
    "    print(\" 准确率 %0.4lf\" % accuracy_score(test_y, predict_y))  # 得到准确率\n",
    "    respose['predict_y'] = predict_y  # 储存预测值\n",
    "    respose['accuracy_score'] = accuracy_score(test_y, predict_y)  # 储存准确率\n",
    "    return respose\n",
    "\n",
    "\n",
    "# 循环调用各类选择器\n",
    "for model, model_name, model_param_grid in zip(classifiers, classifier_names, classifier_param_grid):\n",
    "    # 创建 Pipeline 管道机制，使其流水线作业\n",
    "    pipeline = Pipeline([\n",
    "        # 采用 ('名称', '步骤') 的方式表示\n",
    "        ('scaler', StandardScaler()),\n",
    "        (model_name, model)\n",
    "    ])\n",
    "    result = GridSearchCV_work(\n",
    "        pipeline, train_x, train_y, test_x, test_y, model_param_grid, score='accuracy')"
   ]
  },
  {
   "cell_type": "markdown",
   "metadata": {},
   "source": [
    "## 总结"
   ]
  },
  {
   "cell_type": "markdown",
   "metadata": {},
   "source": [
    "![](https://static001.geekbang.org/resource/image/14/16/14f9cddc17d6cceb0b8cbc4381c65216.png)"
   ]
  },
  {
   "cell_type": "markdown",
   "metadata": {},
   "source": [
    "## 练习\n",
    "\n",
    "尝试编写代码使用 AdaBoost 分类器做分类，其中 n_estimators 的取值有 10、50、100 三种可能，使用 GridSearchCVC 运行看见最优参数是多少，测试准确率是多少。"
   ]
  },
  {
   "cell_type": "code",
   "execution_count": null,
   "metadata": {},
   "outputs": [],
   "source": []
  }
 ],
 "metadata": {
  "kernelspec": {
   "display_name": "Python 3",
   "language": "python",
   "name": "python3"
  },
  "language_info": {
   "codemirror_mode": {
    "name": "ipython",
    "version": 3
   },
   "file_extension": ".py",
   "mimetype": "text/x-python",
   "name": "python",
   "nbconvert_exporter": "python",
   "pygments_lexer": "ipython3",
   "version": "3.7.4"
  },
  "toc": {
   "base_numbering": 1,
   "nav_menu": {},
   "number_sections": true,
   "sideBar": true,
   "skip_h1_title": false,
   "title_cell": "Table of Contents",
   "title_sidebar": "Contents",
   "toc_cell": true,
   "toc_position": {
    "height": "calc(100% - 180px)",
    "left": "10px",
    "top": "150px",
    "width": "165px"
   },
   "toc_section_display": true,
   "toc_window_display": true
  },
  "varInspector": {
   "cols": {
    "lenName": 16,
    "lenType": 16,
    "lenVar": 40
   },
   "kernels_config": {
    "python": {
     "delete_cmd_postfix": "",
     "delete_cmd_prefix": "del ",
     "library": "var_list.py",
     "varRefreshCmd": "print(var_dic_list())"
    },
    "r": {
     "delete_cmd_postfix": ") ",
     "delete_cmd_prefix": "rm(",
     "library": "var_list.r",
     "varRefreshCmd": "cat(var_dic_list()) "
    }
   },
   "types_to_exclude": [
    "module",
    "function",
    "builtin_function_or_method",
    "instance",
    "_Feature"
   ],
   "window_display": false
  }
 },
 "nbformat": 4,
 "nbformat_minor": 2
}
