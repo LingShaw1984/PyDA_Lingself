{
 "cells": [
  {
   "cell_type": "markdown",
   "metadata": {
    "toc": true
   },
   "source": [
    "<h1>Table of Contents<span class=\"tocSkip\"></span></h1>\n",
    "<div class=\"toc\"><ul class=\"toc-item\"><li><span><a href=\"#HR-看项目经验的逻辑是什么？\" data-toc-modified-id=\"HR-看项目经验的逻辑是什么？-1\"><span class=\"toc-item-num\">1&nbsp;&nbsp;</span>HR 看项目经验的逻辑是什么？</a></span></li><li><span><a href=\"#如何完善简历中的项目经历\" data-toc-modified-id=\"如何完善简历中的项目经历-2\"><span class=\"toc-item-num\">2&nbsp;&nbsp;</span>如何完善简历中的项目经历</a></span></li><li><span><a href=\"#不一样项目经历和体会\" data-toc-modified-id=\"不一样项目经历和体会-3\"><span class=\"toc-item-num\">3&nbsp;&nbsp;</span>不一样项目经历和体会</a></span></li><li><span><a href=\"#总结\" data-toc-modified-id=\"总结-4\"><span class=\"toc-item-num\">4&nbsp;&nbsp;</span>总结</a></span></li></ul></div>"
   ]
  },
  {
   "cell_type": "markdown",
   "metadata": {},
   "source": [
    "1. HR 看项目经验的逻辑是什么？\n",
    "1. 如何快速定位要累计的内容，并通过实战和训练快速进行提成经验值？\n",
    "1. 如何在项目经验中融入自己的心得体会，让个人经验与众不同？"
   ]
  },
  {
   "cell_type": "markdown",
   "metadata": {},
   "source": [
    "## HR 看项目经验的逻辑是什么？"
   ]
  },
  {
   "cell_type": "markdown",
   "metadata": {},
   "source": [
    "HR 之所以要看项目经验，是要通过历史信息帮助他预测一个人相关的工作能力。\n",
    "\n",
    "因此，在经验累计上，要证明给 HR 看，我做过这样的项目，具备这样的能力。\n",
    "\n",
    "项目从哪里来？\n",
    "    1. 以往类似工作经历；\n",
    "    1. 个人做过类似项目。\n",
    "<br><br>\n",
    "简历项目重点：项目目标、解决方案、实现代码以及项目过程的总结体会。"
   ]
  },
  {
   "cell_type": "markdown",
   "metadata": {},
   "source": [
    "## 如何完善简历中的项目经历"
   ]
  },
  {
   "cell_type": "markdown",
   "metadata": {},
   "source": [
    "跑一遍项目代码，完整了解项目目标和解决方案。\n",
    "\n",
    "1. 乳腺癌检测：采用 SVM 方法，对美国威斯康星州的乳腺癌诊断数据集进行分类，最终实现一个针对乳腺癌检测的分类器：https://github.com/cystanford/breast_cancer_data<br><br>\n",
    "1. 内容抓取：通过 Python 爬虫对豆瓣电影中的电影数据和海报等信息进行抓取：https://github.com/cystanford/pachong<br><br>\n",
    "1. 邮件数据分析：通过 PageRank 算法分析邮件中的人物关系图谱，并针对邮件数量较大的情况筛选出重要的人物，进行绘制：https://github.com/cystanford/PageRank<br><br>\n",
    "1. 微博文档分类：采用朴素贝叶斯的方法，对微博的内容进行分类，最终实现一个简单的文档分类器：https://github.com/cystanford/text_classification<br><br>\n",
    "1. 电影数据集关联规则挖掘：采用 Apriori 算法，分析电影数据集中的导演和演员信息，从而发现导演和演员之间的频繁项集及关联规则：https://github.com/cystanford/Apriori<br><br>\n",
    "1. 歌词词云可视化：动态抓取指定明星的歌曲列表，保存歌词文件，去除歌词中的常用词，并对歌词进行词云展示，分析歌曲的作词风格：https://github.com/cystanford/word_cloud<br><br>\n",
    "1. 信用卡违约率分析：针对台湾某银行信用卡的数据，构建一个分析信用卡违约率的分类器。采用 Random Forest 算法，信用卡违约率识别率在 80% 左右：https://github.com/cystanford/credit_default<br><br>\n",
    "1. 信用卡欺诈分析：针对欧洲某银行信用卡交易数据，构建一个信用卡交易欺诈识别器。采用逻辑回归算法，通过数据可视化方式对混淆矩阵进行展示，统计模型的精确率，召回率和 F1 值，F1 值为 0.712，并绘制了精确率和召回率的曲线关系：https://github.com/cystanford/credit_fraud<br><br>\n",
    "1. 比特币走势分析：分析 2012 年 1 月 1 日到 2018 年 10 月 31 日的比特币价格数据，并采用时间序列方法，构建自回归滑动平均模型（ARMA 模型），预测未来 8 个月比特币的价格走势。预测结果表明比特币将在 8 个月内降低到 4000 美金左右，与实际比特币价格趋势吻合（实际最低降到 4000 美金以下）：https://github.com/cystanford/bitcoin"
   ]
  },
  {
   "cell_type": "markdown",
   "metadata": {},
   "source": [
    "## 不一样项目经历和体会"
   ]
  },
  {
   "cell_type": "markdown",
   "metadata": {},
   "source": [
    "比特币走势：对原始数据进行降维处理（按月为粒度），实际结果与按天进行统计的结果相差不大，但是数据量降到 1/30，大大提升效率。这就是数据降维的作用。\n",
    "\n",
    "信用卡欺诈：观察到数据集的分类样本不平衡，那么到底该采用哪个标准呢？为什么采用准确率作为评价标准会有问题？关于这方面的经验，可以简单做个说明。<br>这样，不光证明自己具备这种项目的经验，还能证明针对此类问题，都找到了哪些规律。"
   ]
  },
  {
   "cell_type": "markdown",
   "metadata": {},
   "source": [
    "## 总结"
   ]
  },
  {
   "cell_type": "markdown",
   "metadata": {},
   "source": [
    "1. 了解每个实战项目的目标；\n",
    "1. 理解每个算法的原理；\n",
    "1. 跑一遍项目代码，把运行结果放在 GitHub 上；\n",
    "1. 做项目的心得总结。\n",
    "\n",
    "![](https://static001.geekbang.org/resource/image/d4/66/d48bc67969a70475a66fba58c68b3a66.png)"
   ]
  }
 ],
 "metadata": {
  "kernelspec": {
   "display_name": "Python 3",
   "language": "python",
   "name": "python3"
  },
  "language_info": {
   "codemirror_mode": {
    "name": "ipython",
    "version": 3
   },
   "file_extension": ".py",
   "mimetype": "text/x-python",
   "name": "python",
   "nbconvert_exporter": "python",
   "pygments_lexer": "ipython3",
   "version": "3.7.4"
  },
  "toc": {
   "base_numbering": 1,
   "nav_menu": {},
   "number_sections": true,
   "sideBar": true,
   "skip_h1_title": false,
   "title_cell": "Table of Contents",
   "title_sidebar": "Contents",
   "toc_cell": true,
   "toc_position": {},
   "toc_section_display": true,
   "toc_window_display": true
  },
  "varInspector": {
   "cols": {
    "lenName": 16,
    "lenType": 16,
    "lenVar": 40
   },
   "kernels_config": {
    "python": {
     "delete_cmd_postfix": "",
     "delete_cmd_prefix": "del ",
     "library": "var_list.py",
     "varRefreshCmd": "print(var_dic_list())"
    },
    "r": {
     "delete_cmd_postfix": ") ",
     "delete_cmd_prefix": "rm(",
     "library": "var_list.r",
     "varRefreshCmd": "cat(var_dic_list()) "
    }
   },
   "types_to_exclude": [
    "module",
    "function",
    "builtin_function_or_method",
    "instance",
    "_Feature"
   ],
   "window_display": false
  }
 },
 "nbformat": 4,
 "nbformat_minor": 2
}
