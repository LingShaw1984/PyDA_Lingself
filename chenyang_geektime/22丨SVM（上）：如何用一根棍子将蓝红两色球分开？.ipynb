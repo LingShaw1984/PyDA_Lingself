{
 "cells": [
  {
   "cell_type": "markdown",
   "metadata": {
    "toc": true
   },
   "source": [
    "<h1>Table of Contents<span class=\"tocSkip\"></span></h1>\n",
    "<div class=\"toc\"><ul class=\"toc-item\"><li><span><a href=\"#基本概念\" data-toc-modified-id=\"基本概念-1\"><span class=\"toc-item-num\">1&nbsp;&nbsp;</span>基本概念</a></span></li><li><span><a href=\"#练习\" data-toc-modified-id=\"练习-2\"><span class=\"toc-item-num\">2&nbsp;&nbsp;</span>练习</a></span></li></ul></div>"
   ]
  },
  {
   "cell_type": "markdown",
   "metadata": {},
   "source": [
    "## 基本概念"
   ]
  },
  {
   "cell_type": "markdown",
   "metadata": {},
   "source": [
    "SVM : Support Vector Machine，支持向量机。\n",
    "\n",
    "分类间隔：margin，极限位置到最优决策面的距离。\n",
    "\n",
    "极限位置：如果越过该位置，就会产生分类错误。\n",
    "\n",
    "SVM 寻找的是拥有“最大间隔（max-margin）”的决策面。该决策面能将不同的样本划分开来，同时使得样本集中的点到这个分类超平面的最小距离（分类间隔）最大化。\n",
    "\n",
    "图例：\n",
    "<img src=\"https://static001.geekbang.org/resource/image/50/ea/506cc4b85a9206cca12048b29919a7ea.jpg\" style=\"width:400px\">\n",
    "B、A 就是极限位置，C 是最优决策面。"
   ]
  },
  {
   "cell_type": "markdown",
   "metadata": {},
   "source": [
    "超平面的数学公式：![](https://static001.geekbang.org/resource/image/76/28/765e87a2d9d6358f1274478dacbbce28.png)\n",
    "\n",
    "其中：\n",
    "- w：n 维空间里面的法向量，即垂直于平面的直线所表示的向量，决定超平面的方向；\n",
    "- x：n 维空间里面的函数变量。\n",
    "\n",
    "另，首先要对分类间隔的大小进行定义。"
   ]
  },
  {
   "cell_type": "markdown",
   "metadata": {},
   "source": [
    "***\n",
    "硬间隔：完全分类准确，不能存在分类错误的情况。\n",
    "\n",
    "软间隔：允许一定量的样本分类错误。\n",
    "\n",
    "如果数据完全线性可分，则该模型可称为硬间隔支持向量机（SVM），否则就是软间隔支持向量机（SVM）。\n",
    "\n",
    "核函数：将样本从原始空间映射到一个更高维的特质空间中，使得样本在新的空间中线性可分。常用的核函数包括：有线性核、多项式核、高斯核、拉普拉斯核、sigmoid 核以及组合核。"
   ]
  },
  {
   "cell_type": "markdown",
   "metadata": {},
   "source": [
    "## 练习"
   ]
  },
  {
   "cell_type": "markdown",
   "metadata": {},
   "source": [
    "有监督学习：给标记，让机器分类。\n",
    "\n",
    "无监督学习：不给标记，让及其自学标记并分类。\n",
    "\n",
    "硬间隔：完全线性可分，分类不存在噪音数据。\n",
    "\n",
    "软间隔：不完全线性可分，分类存在一定噪音数据。\n",
    "\n",
    "核函数：利用高维处理低维。"
   ]
  }
 ],
 "metadata": {
  "kernelspec": {
   "display_name": "Python 3",
   "language": "python",
   "name": "python3"
  },
  "language_info": {
   "codemirror_mode": {
    "name": "ipython",
    "version": 3
   },
   "file_extension": ".py",
   "mimetype": "text/x-python",
   "name": "python",
   "nbconvert_exporter": "python",
   "pygments_lexer": "ipython3",
   "version": "3.7.4"
  },
  "toc": {
   "base_numbering": 1,
   "nav_menu": {},
   "number_sections": true,
   "sideBar": true,
   "skip_h1_title": false,
   "title_cell": "Table of Contents",
   "title_sidebar": "Contents",
   "toc_cell": true,
   "toc_position": {
    "height": "calc(100% - 180px)",
    "left": "10px",
    "top": "150px",
    "width": "190.2px"
   },
   "toc_section_display": true,
   "toc_window_display": true
  },
  "varInspector": {
   "cols": {
    "lenName": 16,
    "lenType": 16,
    "lenVar": 40
   },
   "kernels_config": {
    "python": {
     "delete_cmd_postfix": "",
     "delete_cmd_prefix": "del ",
     "library": "var_list.py",
     "varRefreshCmd": "print(var_dic_list())"
    },
    "r": {
     "delete_cmd_postfix": ") ",
     "delete_cmd_prefix": "rm(",
     "library": "var_list.r",
     "varRefreshCmd": "cat(var_dic_list()) "
    }
   },
   "types_to_exclude": [
    "module",
    "function",
    "builtin_function_or_method",
    "instance",
    "_Feature"
   ],
   "window_display": false
  }
 },
 "nbformat": 4,
 "nbformat_minor": 2
}
