{
 "cells": [
  {
   "cell_type": "markdown",
   "metadata": {},
   "source": [
    "内容跳过。"
   ]
  },
  {
   "cell_type": "markdown",
   "metadata": {},
   "source": [
    "### 练习"
   ]
  },
  {
   "cell_type": "markdown",
   "metadata": {},
   "source": [
    "请使用 Pandas 中的 DataFrame 进行创建，并对数据进行清洗。同时新增一列“总和”计算每个人的三科成绩之和。\n",
    "![](https://static001.geekbang.org/resource/image/25/80/25b34b3f6227a945500074e05ea49e80.png)"
   ]
  },
  {
   "cell_type": "code",
   "execution_count": 7,
   "metadata": {
    "ExecuteTime": {
     "end_time": "2019-11-15T13:06:01.256520Z",
     "start_time": "2019-11-15T13:06:01.194064Z"
    }
   },
   "outputs": [
    {
     "data": {
      "text/html": [
       "<div>\n",
       "<style scoped>\n",
       "    .dataframe tbody tr th:only-of-type {\n",
       "        vertical-align: middle;\n",
       "    }\n",
       "\n",
       "    .dataframe tbody tr th {\n",
       "        vertical-align: top;\n",
       "    }\n",
       "\n",
       "    .dataframe thead th {\n",
       "        text-align: right;\n",
       "    }\n",
       "</style>\n",
       "<table border=\"1\" class=\"dataframe\">\n",
       "  <thead>\n",
       "    <tr style=\"text-align: right;\">\n",
       "      <th></th>\n",
       "      <th>姓名</th>\n",
       "      <th>语文</th>\n",
       "      <th>英语</th>\n",
       "      <th>数学</th>\n",
       "    </tr>\n",
       "  </thead>\n",
       "  <tbody>\n",
       "    <tr>\n",
       "      <td>0</td>\n",
       "      <td>张飞</td>\n",
       "      <td>66</td>\n",
       "      <td>65</td>\n",
       "      <td>NaN</td>\n",
       "    </tr>\n",
       "    <tr>\n",
       "      <td>1</td>\n",
       "      <td>关羽</td>\n",
       "      <td>95</td>\n",
       "      <td>85</td>\n",
       "      <td>98.0</td>\n",
       "    </tr>\n",
       "    <tr>\n",
       "      <td>2</td>\n",
       "      <td>赵云</td>\n",
       "      <td>95</td>\n",
       "      <td>92</td>\n",
       "      <td>96.0</td>\n",
       "    </tr>\n",
       "    <tr>\n",
       "      <td>3</td>\n",
       "      <td>黄忠</td>\n",
       "      <td>90</td>\n",
       "      <td>88</td>\n",
       "      <td>77.0</td>\n",
       "    </tr>\n",
       "    <tr>\n",
       "      <td>4</td>\n",
       "      <td>典韦</td>\n",
       "      <td>80</td>\n",
       "      <td>90</td>\n",
       "      <td>90.0</td>\n",
       "    </tr>\n",
       "    <tr>\n",
       "      <td>5</td>\n",
       "      <td>典韦</td>\n",
       "      <td>80</td>\n",
       "      <td>90</td>\n",
       "      <td>90.0</td>\n",
       "    </tr>\n",
       "  </tbody>\n",
       "</table>\n",
       "</div>"
      ],
      "text/plain": [
       "   姓名  语文  英语    数学\n",
       "0  张飞  66  65   NaN\n",
       "1  关羽  95  85  98.0\n",
       "2  赵云  95  92  96.0\n",
       "3  黄忠  90  88  77.0\n",
       "4  典韦  80  90  90.0\n",
       "5  典韦  80  90  90.0"
      ]
     },
     "execution_count": 7,
     "metadata": {},
     "output_type": "execute_result"
    }
   ],
   "source": [
    "import pandas as pd\n",
    "\n",
    "columns = [\"姓名\",\"语文\",\"英语\",\"数学\"]\n",
    "value_list = {\"姓名\":[\"张飞\",\"关羽\",\"赵云\",\"黄忠\",\"典韦\",\"典韦\"],\n",
    "             \"语文\":[66,95,95,90,80,80],\n",
    "             \"英语\":[65,85,92,88,90,90],\n",
    "             \"数学\":[None,98,96,77,90,90]}\n",
    "\n",
    "df = pd.DataFrame(value_list,columns=columns)\n",
    "\n",
    "df"
   ]
  },
  {
   "cell_type": "code",
   "execution_count": 9,
   "metadata": {
    "ExecuteTime": {
     "end_time": "2019-11-15T13:10:27.041230Z",
     "start_time": "2019-11-15T13:10:26.994352Z"
    }
   },
   "outputs": [],
   "source": [
    "# 填充空值\n",
    "df.fillna(df[\"数学\"].mean(),inplace=True)\n",
    "\n",
    "# 去重\n",
    "df.dropna(inplace=True)\n",
    "\n",
    "# 新增列\n",
    "df[\"总分数\"] = df.sum(axis=1)"
   ]
  },
  {
   "cell_type": "code",
   "execution_count": 10,
   "metadata": {
    "ExecuteTime": {
     "end_time": "2019-11-15T13:10:29.107282Z",
     "start_time": "2019-11-15T13:10:29.064694Z"
    }
   },
   "outputs": [
    {
     "data": {
      "text/html": [
       "<div>\n",
       "<style scoped>\n",
       "    .dataframe tbody tr th:only-of-type {\n",
       "        vertical-align: middle;\n",
       "    }\n",
       "\n",
       "    .dataframe tbody tr th {\n",
       "        vertical-align: top;\n",
       "    }\n",
       "\n",
       "    .dataframe thead th {\n",
       "        text-align: right;\n",
       "    }\n",
       "</style>\n",
       "<table border=\"1\" class=\"dataframe\">\n",
       "  <thead>\n",
       "    <tr style=\"text-align: right;\">\n",
       "      <th></th>\n",
       "      <th>姓名</th>\n",
       "      <th>语文</th>\n",
       "      <th>英语</th>\n",
       "      <th>数学</th>\n",
       "      <th>总分数</th>\n",
       "    </tr>\n",
       "  </thead>\n",
       "  <tbody>\n",
       "    <tr>\n",
       "      <td>0</td>\n",
       "      <td>张飞</td>\n",
       "      <td>66</td>\n",
       "      <td>65</td>\n",
       "      <td>90.2</td>\n",
       "      <td>221.2</td>\n",
       "    </tr>\n",
       "    <tr>\n",
       "      <td>1</td>\n",
       "      <td>关羽</td>\n",
       "      <td>95</td>\n",
       "      <td>85</td>\n",
       "      <td>98.0</td>\n",
       "      <td>278.0</td>\n",
       "    </tr>\n",
       "    <tr>\n",
       "      <td>2</td>\n",
       "      <td>赵云</td>\n",
       "      <td>95</td>\n",
       "      <td>92</td>\n",
       "      <td>96.0</td>\n",
       "      <td>283.0</td>\n",
       "    </tr>\n",
       "    <tr>\n",
       "      <td>3</td>\n",
       "      <td>黄忠</td>\n",
       "      <td>90</td>\n",
       "      <td>88</td>\n",
       "      <td>77.0</td>\n",
       "      <td>255.0</td>\n",
       "    </tr>\n",
       "    <tr>\n",
       "      <td>4</td>\n",
       "      <td>典韦</td>\n",
       "      <td>80</td>\n",
       "      <td>90</td>\n",
       "      <td>90.0</td>\n",
       "      <td>260.0</td>\n",
       "    </tr>\n",
       "    <tr>\n",
       "      <td>5</td>\n",
       "      <td>典韦</td>\n",
       "      <td>80</td>\n",
       "      <td>90</td>\n",
       "      <td>90.0</td>\n",
       "      <td>260.0</td>\n",
       "    </tr>\n",
       "  </tbody>\n",
       "</table>\n",
       "</div>"
      ],
      "text/plain": [
       "   姓名  语文  英语    数学    总分数\n",
       "0  张飞  66  65  90.2  221.2\n",
       "1  关羽  95  85  98.0  278.0\n",
       "2  赵云  95  92  96.0  283.0\n",
       "3  黄忠  90  88  77.0  255.0\n",
       "4  典韦  80  90  90.0  260.0\n",
       "5  典韦  80  90  90.0  260.0"
      ]
     },
     "execution_count": 10,
     "metadata": {},
     "output_type": "execute_result"
    }
   ],
   "source": [
    "df"
   ]
  },
  {
   "cell_type": "markdown",
   "metadata": {},
   "source": [
    "### 总结"
   ]
  },
  {
   "cell_type": "markdown",
   "metadata": {},
   "source": [
    "关于 Pandas ，个人的经验值已经在 70 分左右，因此这里的练习 naive 。\n",
    "\n",
    "不过这篇使用 Pandas 进行 SQL 式查询，的确有点意思。但是呢，如果不是数据库，还是使用 Pandas 自带的条件筛选或许会更好些。"
   ]
  }
 ],
 "metadata": {
  "kernelspec": {
   "display_name": "Python 3",
   "language": "python",
   "name": "python3"
  },
  "language_info": {
   "codemirror_mode": {
    "name": "ipython",
    "version": 3
   },
   "file_extension": ".py",
   "mimetype": "text/x-python",
   "name": "python",
   "nbconvert_exporter": "python",
   "pygments_lexer": "ipython3",
   "version": "3.7.4"
  },
  "toc": {
   "base_numbering": 1,
   "nav_menu": {},
   "number_sections": true,
   "sideBar": true,
   "skip_h1_title": false,
   "title_cell": "Table of Contents",
   "title_sidebar": "Contents",
   "toc_cell": false,
   "toc_position": {},
   "toc_section_display": true,
   "toc_window_display": true
  },
  "varInspector": {
   "cols": {
    "lenName": 16,
    "lenType": 16,
    "lenVar": 40
   },
   "kernels_config": {
    "python": {
     "delete_cmd_postfix": "",
     "delete_cmd_prefix": "del ",
     "library": "var_list.py",
     "varRefreshCmd": "print(var_dic_list())"
    },
    "r": {
     "delete_cmd_postfix": ") ",
     "delete_cmd_prefix": "rm(",
     "library": "var_list.r",
     "varRefreshCmd": "cat(var_dic_list()) "
    }
   },
   "types_to_exclude": [
    "module",
    "function",
    "builtin_function_or_method",
    "instance",
    "_Feature"
   ],
   "window_display": false
  }
 },
 "nbformat": 4,
 "nbformat_minor": 2
}
