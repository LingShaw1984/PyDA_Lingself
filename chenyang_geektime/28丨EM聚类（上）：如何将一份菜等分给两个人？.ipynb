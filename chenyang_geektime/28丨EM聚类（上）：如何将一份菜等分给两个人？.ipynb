{
 "cells": [
  {
   "cell_type": "markdown",
   "metadata": {
    "toc": true
   },
   "source": [
    "<h1>Table of Contents<span class=\"tocSkip\"></span></h1>\n",
    "<div class=\"toc\"><ul class=\"toc-item\"><li><span><a href=\"#基本概念\" data-toc-modified-id=\"基本概念-1\"><span class=\"toc-item-num\">1&nbsp;&nbsp;</span>基本概念</a></span></li><li><span><a href=\"#总结\" data-toc-modified-id=\"总结-2\"><span class=\"toc-item-num\">2&nbsp;&nbsp;</span>总结</a></span></li><li><span><a href=\"#练习\" data-toc-modified-id=\"练习-3\"><span class=\"toc-item-num\">3&nbsp;&nbsp;</span>练习</a></span></li></ul></div>"
   ]
  },
  {
   "cell_type": "markdown",
   "metadata": {},
   "source": [
    "## 基本概念"
   ]
  },
  {
   "cell_type": "markdown",
   "metadata": {},
   "source": [
    "EM 聚类：Expectation Maximization，最大期望算法。\n",
    "\n",
    "EM 算法的过程：<img src=\"https://static001.geekbang.org/resource/image/91/3c/91f617ac484a7de011108ae99bd8cb3c.jpg\" style=\"width:500px\">"
   ]
  },
  {
   "cell_type": "markdown",
   "metadata": {},
   "source": [
    "EM 算法的工作原理：假设一个概率，代入场景进行求解，根据求得的结果再次计算新概率...往返...直至事件发生的概率不再发生变化。（迭代法）\n",
    "\n",
    "最大似然：Maximum Likelihood，即最大可能性。\n",
    "\n",
    "最大似然估计：某事发生后，反推更有可能是何种因素导致，即通过已知结果来估计参数。\n",
    "\n",
    "EM 算法：求解最大似然估计，通过观测样本，找出样本的模型参数。"
   ]
  },
  {
   "cell_type": "markdown",
   "metadata": {},
   "source": [
    "## 总结"
   ]
  },
  {
   "cell_type": "markdown",
   "metadata": {},
   "source": [
    "![](https://static001.geekbang.org/resource/image/d8/80/d839e80d911add15add41163fa03ee80.png)"
   ]
  },
  {
   "cell_type": "markdown",
   "metadata": {},
   "source": [
    "## 练习"
   ]
  },
  {
   "cell_type": "markdown",
   "metadata": {},
   "source": [
    "1. EM 算法的原理；\n",
    "1. EM 聚类和 K-Means 聚类的相同与不同之处。"
   ]
  },
  {
   "cell_type": "markdown",
   "metadata": {},
   "source": [
    "EM 算法的原理：类似迭代法，假设一个概率，而后代入该值后计算新的值，不断迭代，直至概率值不再发生变化。\n",
    "***\n",
    "EM 聚类和 K-Means 聚类的相同与不同之处：\n",
    "- 相同之处：\n",
    "    1. 都是生成随机值，而后反复调整，获得最佳结果；\n",
    "    1. 都事先知道聚类的个数。\n",
    "- 不同之处：\n",
    "    1. EM 聚类计算的是概率，K-Means 计算的是距离；\n",
    "    1. EM 聚类算法的个体可能属于任何一类，K-Means 算法中个体只能属于某一类。"
   ]
  }
 ],
 "metadata": {
  "kernelspec": {
   "display_name": "Python 3",
   "language": "python",
   "name": "python3"
  },
  "language_info": {
   "codemirror_mode": {
    "name": "ipython",
    "version": 3
   },
   "file_extension": ".py",
   "mimetype": "text/x-python",
   "name": "python",
   "nbconvert_exporter": "python",
   "pygments_lexer": "ipython3",
   "version": "3.7.4"
  },
  "toc": {
   "base_numbering": 1,
   "nav_menu": {},
   "number_sections": true,
   "sideBar": true,
   "skip_h1_title": false,
   "title_cell": "Table of Contents",
   "title_sidebar": "Contents",
   "toc_cell": true,
   "toc_position": {},
   "toc_section_display": true,
   "toc_window_display": true
  },
  "varInspector": {
   "cols": {
    "lenName": 16,
    "lenType": 16,
    "lenVar": 40
   },
   "kernels_config": {
    "python": {
     "delete_cmd_postfix": "",
     "delete_cmd_prefix": "del ",
     "library": "var_list.py",
     "varRefreshCmd": "print(var_dic_list())"
    },
    "r": {
     "delete_cmd_postfix": ") ",
     "delete_cmd_prefix": "rm(",
     "library": "var_list.r",
     "varRefreshCmd": "cat(var_dic_list()) "
    }
   },
   "types_to_exclude": [
    "module",
    "function",
    "builtin_function_or_method",
    "instance",
    "_Feature"
   ],
   "window_display": false
  }
 },
 "nbformat": 4,
 "nbformat_minor": 2
}
