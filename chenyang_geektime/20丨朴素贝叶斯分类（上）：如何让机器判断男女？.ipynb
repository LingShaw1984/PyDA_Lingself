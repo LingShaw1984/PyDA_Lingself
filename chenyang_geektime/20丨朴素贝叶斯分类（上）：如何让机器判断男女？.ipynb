{
 "cells": [
  {
   "cell_type": "markdown",
   "metadata": {
    "toc": true
   },
   "source": [
    "<h1>Table of Contents<span class=\"tocSkip\"></span></h1>\n",
    "<div class=\"toc\"><ul class=\"toc-item\"><li><span><a href=\"#基本概念\" data-toc-modified-id=\"基本概念-1\"><span class=\"toc-item-num\">1&nbsp;&nbsp;</span>基本概念</a></span></li><li><span><a href=\"#练习\" data-toc-modified-id=\"练习-2\"><span class=\"toc-item-num\">2&nbsp;&nbsp;</span>练习</a></span></li></ul></div>"
   ]
  },
  {
   "cell_type": "markdown",
   "metadata": {},
   "source": [
    "## 基本概念"
   ]
  },
  {
   "cell_type": "markdown",
   "metadata": {},
   "source": [
    "“正向概率”：了解事情的全貌再做判断。已知袋子里面各色球的比例，求某色球的概率。\n",
    "\n",
    "“逆向概率”：事先不知晓具体情形。已知摸出来球的颜色，求袋子里面各色球的比例。\n",
    "\n",
    "先验概率：通过经验判断事情发生的概率。\n",
    "\n",
    "后验概率：通过结果推测原因的概率。\n",
    "\n",
    "条件概率：事件 A 在另外一个事件 B 已经发生条件下的发生概率，表示为 P(A|B)，读作“在 B 发生的条件下 A 发生的概率”。\n",
    "\n",
    "似然函数（likelihood function）：已知某些观测所得到的结果时，对有关事物之性质的参数进行估值。\n",
    "\n",
    "通用贝叶斯公式：![](https://static001.geekbang.org/resource/image/99/4b/99f0e50baffa2c572ea0db6c5df4474b.png)\n",
    "\n",
    "***\n",
    "\n",
    "朴素贝叶斯：假设每个输入变量互相独立。\n",
    "\n",
    "朴素贝叶斯模型的概率组成：类别概率 P(Cj) 和条件概率 P(Cj|Aj)。\n",
    "\n",
    "朴素贝叶斯分类器工作流程：![](https://static001.geekbang.org/resource/image/ac/3f/acd7a8e882bf0205f9b33c43fd61453f.jpg)"
   ]
  },
  {
   "cell_type": "markdown",
   "metadata": {},
   "source": [
    "***"
   ]
  },
  {
   "cell_type": "markdown",
   "metadata": {},
   "source": [
    "第一阶段：确定特征属性，并对每个特征属性进行划分，然后由人工对一部分数据进行分类，形成训练样本。分类器质量很大程度上由特征属性、特征属性划分及训练样本质量决定。\n",
    "\n",
    "第二阶段：生成分类器。输入**特征属性**和**训练样本**，输出**分类器**。\n",
    "\n",
    "第三阶段：使用分类器对新数据进行分类。输入**分类器**和**新数据**，输出**新数据的分类结果**。"
   ]
  },
  {
   "cell_type": "markdown",
   "metadata": {},
   "source": [
    "## 练习"
   ]
  },
  {
   "cell_type": "markdown",
   "metadata": {},
   "source": [
    "1. 离散型变量和连续变量在朴素贝模型中的处理，有何差别？\n",
    "\n",
    "1. 如果女朋友在手机里面发现你和其他女人的暧昧短信，请分别判断下面的 3 个概率分别属于哪种概率：\n",
    "    - 你在没有任何情况下，出轨的概率；\n",
    "    \n",
    "    - 如果你出轨了，那么你的手机里有暧昧短信的概率；\n",
    "    \n",
    "    - 在你的手机里面发现暧昧短信，认为你出轨的概率。"
   ]
  },
  {
   "cell_type": "markdown",
   "metadata": {},
   "source": [
    "***\n",
    "离散型变量和连续变量在朴素贝叶斯模型中的处理差别：\n",
    "\n",
    "朴素贝叶斯处理离散型变量：直接计算给类别的概率，从而计算出条件概率。\n",
    "\n",
    "朴素贝叶斯处理连续性变量：假设密度函数（正态分布），而后带入值计算某点的密度函数值。\n",
    "\n",
    "***\n",
    "答案分别是：先验概率、条件概率、后验概率。\n",
    "\n",
    "“暧昧短信”：拿出红球。\n",
    "\n",
    "“出轨”：属于 A 盒。"
   ]
  }
 ],
 "metadata": {
  "kernelspec": {
   "display_name": "Python 3",
   "language": "python",
   "name": "python3"
  },
  "language_info": {
   "codemirror_mode": {
    "name": "ipython",
    "version": 3
   },
   "file_extension": ".py",
   "mimetype": "text/x-python",
   "name": "python",
   "nbconvert_exporter": "python",
   "pygments_lexer": "ipython3",
   "version": "3.7.4"
  },
  "toc": {
   "base_numbering": 1,
   "nav_menu": {},
   "number_sections": true,
   "sideBar": true,
   "skip_h1_title": false,
   "title_cell": "Table of Contents",
   "title_sidebar": "Contents",
   "toc_cell": true,
   "toc_position": {},
   "toc_section_display": true,
   "toc_window_display": false
  },
  "varInspector": {
   "cols": {
    "lenName": 16,
    "lenType": 16,
    "lenVar": 40
   },
   "kernels_config": {
    "python": {
     "delete_cmd_postfix": "",
     "delete_cmd_prefix": "del ",
     "library": "var_list.py",
     "varRefreshCmd": "print(var_dic_list())"
    },
    "r": {
     "delete_cmd_postfix": ") ",
     "delete_cmd_prefix": "rm(",
     "library": "var_list.r",
     "varRefreshCmd": "cat(var_dic_list()) "
    }
   },
   "types_to_exclude": [
    "module",
    "function",
    "builtin_function_or_method",
    "instance",
    "_Feature"
   ],
   "window_display": false
  }
 },
 "nbformat": 4,
 "nbformat_minor": 2
}
