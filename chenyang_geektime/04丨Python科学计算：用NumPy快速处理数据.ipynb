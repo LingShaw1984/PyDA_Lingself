{
 "cells": [
  {
   "cell_type": "markdown",
   "metadata": {},
   "source": [
    "规则：避免采用隐式拷贝，而是采用就地操作的方式。\n",
    "\n",
    "例子：\n",
    "隐式拷贝：`y = x * 2`，\n",
    "就地操作：`x *= 2`"
   ]
  },
  {
   "cell_type": "markdown",
   "metadata": {},
   "source": [
    "### 练习"
   ]
  },
  {
   "cell_type": "markdown",
   "metadata": {},
   "source": [
    "<img src=\"https://static001.geekbang.org/resource/image/44/5c/442a89eed30c13b543e5f717c538325c.jpg\" style=\"zoom:10%;\" />"
   ]
  },
  {
   "cell_type": "markdown",
   "metadata": {},
   "source": [
    "假设一个团队里有 5 名学员，成绩如下表所示。用 NumPy 统计下这些人在语文、英语、数学中的平均成绩、最小成绩、最大成绩、方差、标准差。然后把这些人的总成绩排序，得出名次进行成绩输出。"
   ]
  },
  {
   "cell_type": "markdown",
   "metadata": {},
   "source": [
    "#### 使用 Numpy 实现"
   ]
  },
  {
   "cell_type": "code",
   "execution_count": 19,
   "metadata": {
    "ExecuteTime": {
     "end_time": "2019-11-15T12:16:35.319989Z",
     "start_time": "2019-11-15T12:16:35.288773Z"
    }
   },
   "outputs": [],
   "source": [
    "import numpy as np\n",
    "\n",
    "persontype = np.dtype({\n",
    "    'names':['name','chinese','english','math'],\n",
    "    'formats':['S32','i','i','i','i']\n",
    "})\n",
    "\n",
    "df = np.array([(\"zhangfei\",66,65,30),\n",
    "               (\"guanyu\",95,85,98),\n",
    "               (\"zhaoyun\",93,92,96),\n",
    "               (\"huangzhong\",90,88,77),\n",
    "               (\"dianwei\",80,90,90)],\n",
    "             dtype=persontype)\n",
    "\n",
    "name = df[:]['name']\n",
    "chineses = df[:]['chinese']\n",
    "englishs = df[:]['english']\n",
    "maths = df[:]['math']"
   ]
  },
  {
   "cell_type": "code",
   "execution_count": 20,
   "metadata": {
    "ExecuteTime": {
     "end_time": "2019-11-15T12:16:36.883295Z",
     "start_time": "2019-11-15T12:16:36.836413Z"
    }
   },
   "outputs": [
    {
     "name": "stdout",
     "output_type": "stream",
     "text": [
      "科目|平均成绩|最小成绩|最大成绩|方差|标准差\n",
      "语文|84.8|66|95|114.96000000000001|10.721940122944169\n",
      "数学|78.2|30|98|634.56|25.19047439013406\n",
      "英语|84.0|65|92|95.6|9.777525249264253\n",
      "成绩排名:\n"
     ]
    },
    {
     "data": {
      "text/plain": [
       "[(b'zhaoyun', 93, 92, 96),\n",
       " (b'guanyu', 95, 85, 98),\n",
       " (b'dianwei', 80, 90, 90),\n",
       " (b'huangzhong', 90, 88, 77),\n",
       " (b'zhangfei', 66, 65, 30)]"
      ]
     },
     "execution_count": 20,
     "metadata": {},
     "output_type": "execute_result"
    }
   ],
   "source": [
    "'''\n",
    "语文、英语、数学中的平均成绩、最小成绩、最大成绩、方差、标准差。\n",
    "然后把这些人的总成绩排序，得出名次进行成绩输出。\n",
    "'''\n",
    "# 这是个人写的，但是阅读体验感很差，于是看了下评论区，便决定参照评论区的答案盲写一个\n",
    "# def describe_01(course_name):\n",
    "#     print(\"平均成绩是：\")\n",
    "#     print(course_name.mean())\n",
    "#     print(\"最小成绩是：\")\n",
    "#     print(course_name.min())\n",
    "#     print(\"最大成绩是：\")\n",
    "#     print(course_name.max())\n",
    "#     print(\"方差是：\")\n",
    "#     print(course_name.var())\n",
    "#     print(\"标准差是：\")\n",
    "#     print(course_name.std())\n",
    "\n",
    "def describe_02(name,course_score):\n",
    "    print('{}|{}|{}|{}|{}|{}'.format(name,\n",
    "                               course_score.mean(),\n",
    "                               course_score.min(),\n",
    "                               course_score.max(),\n",
    "                               course_score.var(),\n",
    "                               course_score.std()))\n",
    "\n",
    "print(\"科目|平均成绩|最小成绩|最大成绩|方差|标准差\")\n",
    "describe_02(\"语文\",chineses)\n",
    "describe_02(\"数学\",maths)\n",
    "describe_02(\"英语\",englishs)\n",
    "\n",
    "\n",
    "\n",
    "print(\"成绩排名:\")\n",
    "sorted(df,key=lambda x:x[1]+x[2]+x[3],reverse=True)\n",
    "\n",
    "\n",
    "# print(\"语文成绩的情况如下：\")\n",
    "# describe(chineses)\n",
    "# print(\"\\n\")\n",
    "# print(\"数学成绩的情况如下：\")\n",
    "# describe(maths)\n",
    "# print(\"\\n\")\n",
    "# print(\"英语成绩的情况如下：\")\n",
    "# describe(englishs)"
   ]
  },
  {
   "cell_type": "markdown",
   "metadata": {},
   "source": [
    "#### 使用 Pandas 实现"
   ]
  },
  {
   "cell_type": "markdown",
   "metadata": {},
   "source": [
    "实际上用 Pandas 更快更简洁。具体实现如下："
   ]
  },
  {
   "cell_type": "code",
   "execution_count": 68,
   "metadata": {
    "ExecuteTime": {
     "end_time": "2019-11-15T12:50:46.232871Z",
     "start_time": "2019-11-15T12:50:46.186011Z"
    },
    "scrolled": true
   },
   "outputs": [
    {
     "data": {
      "text/html": [
       "<div>\n",
       "<style scoped>\n",
       "    .dataframe tbody tr th:only-of-type {\n",
       "        vertical-align: middle;\n",
       "    }\n",
       "\n",
       "    .dataframe tbody tr th {\n",
       "        vertical-align: top;\n",
       "    }\n",
       "\n",
       "    .dataframe thead th {\n",
       "        text-align: right;\n",
       "    }\n",
       "</style>\n",
       "<table border=\"1\" class=\"dataframe\">\n",
       "  <thead>\n",
       "    <tr style=\"text-align: right;\">\n",
       "      <th></th>\n",
       "      <th>姓名</th>\n",
       "      <th>语文</th>\n",
       "      <th>英语</th>\n",
       "      <th>数学</th>\n",
       "    </tr>\n",
       "  </thead>\n",
       "  <tbody>\n",
       "    <tr>\n",
       "      <td>0</td>\n",
       "      <td>张飞</td>\n",
       "      <td>66</td>\n",
       "      <td>65</td>\n",
       "      <td>30</td>\n",
       "    </tr>\n",
       "    <tr>\n",
       "      <td>1</td>\n",
       "      <td>关羽</td>\n",
       "      <td>95</td>\n",
       "      <td>85</td>\n",
       "      <td>98</td>\n",
       "    </tr>\n",
       "    <tr>\n",
       "      <td>2</td>\n",
       "      <td>赵云</td>\n",
       "      <td>93</td>\n",
       "      <td>92</td>\n",
       "      <td>96</td>\n",
       "    </tr>\n",
       "    <tr>\n",
       "      <td>3</td>\n",
       "      <td>黄忠</td>\n",
       "      <td>90</td>\n",
       "      <td>88</td>\n",
       "      <td>77</td>\n",
       "    </tr>\n",
       "    <tr>\n",
       "      <td>4</td>\n",
       "      <td>典韦</td>\n",
       "      <td>80</td>\n",
       "      <td>90</td>\n",
       "      <td>90</td>\n",
       "    </tr>\n",
       "  </tbody>\n",
       "</table>\n",
       "</div>"
      ],
      "text/plain": [
       "   姓名  语文  英语  数学\n",
       "0  张飞  66  65  30\n",
       "1  关羽  95  85  98\n",
       "2  赵云  93  92  96\n",
       "3  黄忠  90  88  77\n",
       "4  典韦  80  90  90"
      ]
     },
     "execution_count": 68,
     "metadata": {},
     "output_type": "execute_result"
    }
   ],
   "source": [
    "import pandas as pd\n",
    "from IPython.display import display\n",
    "\n",
    "columns = [\"姓名\", \"语文\", \"英语\", \"数学\"]\n",
    "value_dict = {\"姓名\": [\"张飞\", \"关羽\", \"赵云\", \"黄忠\", \"典韦\"],\n",
    "              \"语文\": [66, 95, 93, 90, 80],\n",
    "              \"英语\": [65, 85, 92, 88, 90],\n",
    "              \"数学\": [30, 98, 96, 77, 90]}\n",
    "\n",
    "df = pd.DataFrame(value_dict, columns=columns)\n",
    "\n",
    "df"
   ]
  },
  {
   "cell_type": "code",
   "execution_count": 74,
   "metadata": {
    "ExecuteTime": {
     "end_time": "2019-11-15T12:52:20.152806Z",
     "start_time": "2019-11-15T12:52:20.090358Z"
    }
   },
   "outputs": [
    {
     "data": {
      "text/html": [
       "<div>\n",
       "<style scoped>\n",
       "    .dataframe tbody tr th:only-of-type {\n",
       "        vertical-align: middle;\n",
       "    }\n",
       "\n",
       "    .dataframe tbody tr th {\n",
       "        vertical-align: top;\n",
       "    }\n",
       "\n",
       "    .dataframe thead th {\n",
       "        text-align: right;\n",
       "    }\n",
       "</style>\n",
       "<table border=\"1\" class=\"dataframe\">\n",
       "  <thead>\n",
       "    <tr style=\"text-align: right;\">\n",
       "      <th></th>\n",
       "      <th>语文</th>\n",
       "      <th>英语</th>\n",
       "      <th>数学</th>\n",
       "    </tr>\n",
       "  </thead>\n",
       "  <tbody>\n",
       "    <tr>\n",
       "      <td>mean</td>\n",
       "      <td>84.800000</td>\n",
       "      <td>84.000000</td>\n",
       "      <td>78.200000</td>\n",
       "    </tr>\n",
       "    <tr>\n",
       "      <td>min</td>\n",
       "      <td>66.000000</td>\n",
       "      <td>65.000000</td>\n",
       "      <td>30.000000</td>\n",
       "    </tr>\n",
       "    <tr>\n",
       "      <td>max</td>\n",
       "      <td>95.000000</td>\n",
       "      <td>92.000000</td>\n",
       "      <td>98.000000</td>\n",
       "    </tr>\n",
       "    <tr>\n",
       "      <td>std</td>\n",
       "      <td>11.987493</td>\n",
       "      <td>10.931606</td>\n",
       "      <td>28.163807</td>\n",
       "    </tr>\n",
       "  </tbody>\n",
       "</table>\n",
       "</div>"
      ],
      "text/plain": [
       "             语文         英语         数学\n",
       "mean  84.800000  84.000000  78.200000\n",
       "min   66.000000  65.000000  30.000000\n",
       "max   95.000000  92.000000  98.000000\n",
       "std   11.987493  10.931606  28.163807"
      ]
     },
     "metadata": {},
     "output_type": "display_data"
    },
    {
     "name": "stdout",
     "output_type": "stream",
     "text": [
      "方差是：\n"
     ]
    },
    {
     "data": {
      "text/plain": [
       "语文    114.96\n",
       "英语     95.60\n",
       "数学    634.56\n",
       "dtype: float64"
      ]
     },
     "metadata": {},
     "output_type": "display_data"
    }
   ],
   "source": [
    "# 如果无需注重输出效果的话，那么就下面这样即可\n",
    "display(df.describe().loc[['mean','min','max','std'],\"语文\":\"数学\"])\n",
    "print(\"方差是：\")\n",
    "display(df.var(ddof=0))"
   ]
  },
  {
   "cell_type": "code",
   "execution_count": 80,
   "metadata": {
    "ExecuteTime": {
     "end_time": "2019-11-15T12:53:56.460498Z",
     "start_time": "2019-11-15T12:53:56.413636Z"
    }
   },
   "outputs": [
    {
     "name": "stdout",
     "output_type": "stream",
     "text": [
      "科目|平均成绩|最小成绩|最大成绩|方差|标准差\n",
      "语文|84.8|66|95|114.96000000000001|11.987493482792807\n",
      "英语|84.0|65|92|95.6|10.931605554537724\n",
      "数学|78.2|30|98|634.56|28.16380656090366\n",
      "成绩排名：\n"
     ]
    },
    {
     "data": {
      "text/html": [
       "<div>\n",
       "<style scoped>\n",
       "    .dataframe tbody tr th:only-of-type {\n",
       "        vertical-align: middle;\n",
       "    }\n",
       "\n",
       "    .dataframe tbody tr th {\n",
       "        vertical-align: top;\n",
       "    }\n",
       "\n",
       "    .dataframe thead th {\n",
       "        text-align: right;\n",
       "    }\n",
       "</style>\n",
       "<table border=\"1\" class=\"dataframe\">\n",
       "  <thead>\n",
       "    <tr style=\"text-align: right;\">\n",
       "      <th></th>\n",
       "      <th>姓名</th>\n",
       "      <th>total_score</th>\n",
       "    </tr>\n",
       "  </thead>\n",
       "  <tbody>\n",
       "    <tr>\n",
       "      <td>2</td>\n",
       "      <td>赵云</td>\n",
       "      <td>1405</td>\n",
       "    </tr>\n",
       "    <tr>\n",
       "      <td>1</td>\n",
       "      <td>关羽</td>\n",
       "      <td>1390</td>\n",
       "    </tr>\n",
       "    <tr>\n",
       "      <td>4</td>\n",
       "      <td>典韦</td>\n",
       "      <td>1300</td>\n",
       "    </tr>\n",
       "    <tr>\n",
       "      <td>3</td>\n",
       "      <td>黄忠</td>\n",
       "      <td>1275</td>\n",
       "    </tr>\n",
       "    <tr>\n",
       "      <td>0</td>\n",
       "      <td>张飞</td>\n",
       "      <td>805</td>\n",
       "    </tr>\n",
       "  </tbody>\n",
       "</table>\n",
       "</div>"
      ],
      "text/plain": [
       "   姓名  total_score\n",
       "2  赵云         1405\n",
       "1  关羽         1390\n",
       "4  典韦         1300\n",
       "3  黄忠         1275\n",
       "0  张飞          805"
      ]
     },
     "execution_count": 80,
     "metadata": {},
     "output_type": "execute_result"
    }
   ],
   "source": [
    "'''\n",
    "语文、英语、数学中的平均成绩、最小成绩、最大成绩、方差、标准差。\n",
    "然后把这些人的总成绩排序，得出名次进行成绩输出。\n",
    "'''\n",
    "\n",
    "def describe_03(data):\n",
    "    for name in ['语文','英语','数学']:\n",
    "        print('{}|{}|{}|{}|{}|{}'.format(name,\n",
    "                             data[name].mean(),\n",
    "                             data[name].min(),\n",
    "                             data[name].max(),\n",
    "                             data[name].var(ddof=0),\n",
    "                             data[name].std()))\n",
    "    \n",
    "print(\"科目|平均成绩|最小成绩|最大成绩|方差|标准差\")\n",
    "describe_03(df)\n",
    "\n",
    "print(\"成绩排名：\")\n",
    "df[\"total_score\"] = df.sum(axis=1)\n",
    "df.sort_values(by='total_score',ascending=False,inplace=True)\n",
    "df.loc[:,[\"姓名\",\"total_score\"]]"
   ]
  },
  {
   "cell_type": "markdown",
   "metadata": {},
   "source": [
    "## 总结"
   ]
  },
  {
   "cell_type": "markdown",
   "metadata": {
    "ExecuteTime": {
     "end_time": "2019-11-15T11:34:31.622524Z",
     "start_time": "2019-11-15T11:34:31.609639Z"
    }
   },
   "source": [
    "使用 Numpy 实现需求，让我去官网彻底了解一下`sorted()`方法的使用。\n",
    "`sorted()`可以传入任何可迭代数据，返回一个排序好的列表。"
   ]
  }
 ],
 "metadata": {
  "kernelspec": {
   "display_name": "Python 3",
   "language": "python",
   "name": "python3"
  },
  "language_info": {
   "codemirror_mode": {
    "name": "ipython",
    "version": 3
   },
   "file_extension": ".py",
   "mimetype": "text/x-python",
   "name": "python",
   "nbconvert_exporter": "python",
   "pygments_lexer": "ipython3",
   "version": "3.7.4"
  },
  "latex_envs": {
   "LaTeX_envs_menu_present": true,
   "autoclose": true,
   "autocomplete": true,
   "bibliofile": "biblio.bib",
   "cite_by": "apalike",
   "current_citInitial": 1,
   "eqLabelWithNumbers": true,
   "eqNumInitial": 1,
   "hotkeys": {
    "equation": "Ctrl-E",
    "itemize": "Ctrl-I"
   },
   "labels_anchors": false,
   "latex_user_defs": false,
   "report_style_numbering": true,
   "user_envs_cfg": false
  },
  "toc": {
   "base_numbering": 1,
   "nav_menu": {},
   "number_sections": true,
   "sideBar": true,
   "skip_h1_title": false,
   "title_cell": "Table of Contents",
   "title_sidebar": "Contents",
   "toc_cell": false,
   "toc_position": {},
   "toc_section_display": true,
   "toc_window_display": false
  },
  "varInspector": {
   "cols": {
    "lenName": 16,
    "lenType": 16,
    "lenVar": 40
   },
   "kernels_config": {
    "python": {
     "delete_cmd_postfix": "",
     "delete_cmd_prefix": "del ",
     "library": "var_list.py",
     "varRefreshCmd": "print(var_dic_list())"
    },
    "r": {
     "delete_cmd_postfix": ") ",
     "delete_cmd_prefix": "rm(",
     "library": "var_list.r",
     "varRefreshCmd": "cat(var_dic_list()) "
    }
   },
   "types_to_exclude": [
    "module",
    "function",
    "builtin_function_or_method",
    "instance",
    "_Feature"
   ],
   "window_display": false
  }
 },
 "nbformat": 4,
 "nbformat_minor": 2
}
