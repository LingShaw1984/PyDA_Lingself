{
 "cells": [
  {
   "cell_type": "markdown",
   "metadata": {
    "toc": true
   },
   "source": [
    "<h1>Table of Contents<span class=\"tocSkip\"></span></h1>\n",
    "<div class=\"toc\"><ul class=\"toc-item\"><li><span><a href=\"#基本概念\" data-toc-modified-id=\"基本概念-1\"><span class=\"toc-item-num\">1&nbsp;&nbsp;</span>基本概念</a></span></li><li><span><a href=\"#实战\" data-toc-modified-id=\"实战-2\"><span class=\"toc-item-num\">2&nbsp;&nbsp;</span>实战</a></span><ul class=\"toc-item\"><li><span><a href=\"#将微信开屏封面进行分割\" data-toc-modified-id=\"将微信开屏封面进行分割-2.1\"><span class=\"toc-item-num\">2.1&nbsp;&nbsp;</span>将微信开屏封面进行分割</a></span></li></ul></li></ul></div>"
   ]
  },
  {
   "cell_type": "markdown",
   "metadata": {},
   "source": [
    "## 基本概念"
   ]
  },
  {
   "cell_type": "markdown",
   "metadata": {},
   "source": [
    "图像分割：利用图像自身的信息，比如颜色、纹理、形状等特征进行划分，将图像分割成不同区域，划分出来的，每个区域就相当于是对图像中的像素进行聚类。单个区域内的像素之间的相似度达，不同区域间的像素差异性大。除了聚类，还可以分割图像颜色的阈值、图像边缘的信息等等。"
   ]
  },
  {
   "cell_type": "markdown",
   "metadata": {},
   "source": [
    "## 实战"
   ]
  },
  {
   "cell_type": "markdown",
   "metadata": {},
   "source": [
    "### 将微信开屏封面进行分割"
   ]
  },
  {
   "cell_type": "markdown",
   "metadata": {},
   "source": [
    "聚类的流程：<img src=\"https://static001.geekbang.org/resource/image/8a/78/8af94562f6bd3ac42036ec47f5ad2578.jpg\" style=\"width:500px\">"
   ]
  },
  {
   "cell_type": "code",
   "execution_count": 6,
   "metadata": {
    "ExecuteTime": {
     "end_time": "2019-11-18T12:16:45.527156Z",
     "start_time": "2019-11-18T12:16:45.130820Z"
    }
   },
   "outputs": [],
   "source": [
    "from sklearn import preprocessing\n",
    "from sklearn.cluster import KMeans\n",
    "import PIL.Image as image\n",
    "import numpy as np\n",
    "\n",
    "def load_data(filePath):\n",
    "    f = open(filePath, 'rb')\n",
    "    data = []\n",
    "\n",
    "    img = image.open(f)\n",
    "\n",
    "    width, height = img.size\n",
    "    for x in range(width):\n",
    "        for y in range(height): # 根据图像尺寸获取每个单元尺寸的 RGB 值\n",
    "            c1, c2, c3 = img.getpixel((x, y)) # 获取图像 RGB 的值，该值即为特征值\n",
    "            data.append([c1, c2, c3])\n",
    "    f.close()\n",
    "\n",
    "    mm = preprocessing.MinMaxScaler() # 使用 Min-Max 规范化数据\n",
    "    data = mm.fit_transform(data)\n",
    "    return np.mat(data), width, height\n",
    "\n",
    "img, width, height = load_data(\"image/image_learn/weixin.jpg\")\n",
    "\n",
    "kmeans = KMeans(n_clusters = 2)\n",
    "kmeans.fit(img)\n",
    "label = kmeans.predict(img)\n",
    "\n",
    "label = label.reshape([width, height])\n",
    "\n",
    "pic_mark = image.new(\"L\", (width, height))\n",
    "for x in range(width):\n",
    "    for y in range(height):\n",
    "        # 根据类别设置图像灰度\n",
    "        # 类别 0 的灰度值为 256， 类别 1 的灰度值为 127\n",
    "        pic_mark.putpixel((x, y), int(256/(label[x][y]+1)) - 1) \n",
    "        \n",
    "pic_mark.save(\"image/image_output/weixin_mark.jpg\", 'JPEG')"
   ]
  }
 ],
 "metadata": {
  "kernelspec": {
   "display_name": "Python 3",
   "language": "python",
   "name": "python3"
  },
  "language_info": {
   "codemirror_mode": {
    "name": "ipython",
    "version": 3
   },
   "file_extension": ".py",
   "mimetype": "text/x-python",
   "name": "python",
   "nbconvert_exporter": "python",
   "pygments_lexer": "ipython3",
   "version": "3.7.4"
  },
  "toc": {
   "base_numbering": 1,
   "nav_menu": {},
   "number_sections": true,
   "sideBar": true,
   "skip_h1_title": false,
   "title_cell": "Table of Contents",
   "title_sidebar": "Contents",
   "toc_cell": true,
   "toc_position": {},
   "toc_section_display": true,
   "toc_window_display": true
  },
  "varInspector": {
   "cols": {
    "lenName": 16,
    "lenType": 16,
    "lenVar": 40
   },
   "kernels_config": {
    "python": {
     "delete_cmd_postfix": "",
     "delete_cmd_prefix": "del ",
     "library": "var_list.py",
     "varRefreshCmd": "print(var_dic_list())"
    },
    "r": {
     "delete_cmd_postfix": ") ",
     "delete_cmd_prefix": "rm(",
     "library": "var_list.r",
     "varRefreshCmd": "cat(var_dic_list()) "
    }
   },
   "types_to_exclude": [
    "module",
    "function",
    "builtin_function_or_method",
    "instance",
    "_Feature"
   ],
   "window_display": false
  }
 },
 "nbformat": 4,
 "nbformat_minor": 2
}
