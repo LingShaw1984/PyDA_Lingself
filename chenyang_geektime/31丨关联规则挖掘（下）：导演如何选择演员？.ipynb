{
 "cells": [
  {
   "cell_type": "markdown",
   "metadata": {
    "toc": true
   },
   "source": [
    "<h1>Table of Contents<span class=\"tocSkip\"></span></h1>\n",
    "<div class=\"toc\"><ul class=\"toc-item\"><li><span><a href=\"#基础-&amp;回顾\" data-toc-modified-id=\"基础-&amp;回顾-1\"><span class=\"toc-item-num\">1&nbsp;&nbsp;</span>基础 &amp;回顾</a></span></li><li><span><a href=\"#实战：挖掘导演如何选择演员\" data-toc-modified-id=\"实战：挖掘导演如何选择演员-2\"><span class=\"toc-item-num\">2&nbsp;&nbsp;</span>实战：挖掘导演如何选择演员</a></span></li><li><span><a href=\"#总结\" data-toc-modified-id=\"总结-3\"><span class=\"toc-item-num\">3&nbsp;&nbsp;</span>总结</a></span></li><li><span><a href=\"#练习\" data-toc-modified-id=\"练习-4\"><span class=\"toc-item-num\">4&nbsp;&nbsp;</span>练习</a></span></li><li><span><a href=\"#附\" data-toc-modified-id=\"附-5\"><span class=\"toc-item-num\">5&nbsp;&nbsp;</span>附</a></span></li></ul></div>"
   ]
  },
  {
   "cell_type": "markdown",
   "metadata": {},
   "source": [
    "## 基础 &回顾"
   ]
  },
  {
   "cell_type": "markdown",
   "metadata": {},
   "source": [
    "安装相关库：`pip install efficient-apriori`。\n",
    "\n",
    "参数：`itemsets, rules = apriori(data, min_support, min_confidence)`。\n",
    "\n",
    "data：数据集，list 类型；\n",
    "\n",
    "min_support：最小支持度，0~1 表示百分比；\n",
    "\n",
    "min_confidence：最小置信度，0~1 表示百分比。"
   ]
  },
  {
   "cell_type": "markdown",
   "metadata": {},
   "source": [
    "实例："
   ]
  },
  {
   "cell_type": "code",
   "execution_count": 1,
   "metadata": {
    "ExecuteTime": {
     "end_time": "2019-11-19T12:05:04.346035Z",
     "start_time": "2019-11-19T12:05:04.321198Z"
    }
   },
   "outputs": [
    {
     "name": "stdout",
     "output_type": "stream",
     "text": [
      "{1: {('啤酒',): 3, ('尿布',): 5, ('牛奶',): 4, ('面包',): 4}, 2: {('啤酒', '尿布'): 3, ('尿布', '牛奶'): 4, ('尿布', '面包'): 4, ('牛奶', '面包'): 3}, 3: {('尿布', '牛奶', '面包'): 3}}\n",
      "[{啤酒} -> {尿布}, {牛奶} -> {尿布}, {面包} -> {尿布}, {牛奶, 面包} -> {尿布}]\n"
     ]
    }
   ],
   "source": [
    "from efficient_apriori import apriori\n",
    "\n",
    "data = [('牛奶', '面包', '尿布'),\n",
    "        ('可乐', '面包', '尿布', '啤酒'),\n",
    "        ('牛奶', '尿布','啤酒', '鸡蛋'),\n",
    "        ('面包', '牛奶', '尿布', '啤酒'),\n",
    "        ('面包', '牛奶', '尿布', '可乐')]\n",
    "\n",
    "itemsets, rules = apriori(data, min_support=0.5, min_confidence=1)\n",
    "print(itemsets)\n",
    "print(rules)"
   ]
  },
  {
   "cell_type": "markdown",
   "metadata": {},
   "source": [
    "## 实战：挖掘导演如何选择演员"
   ]
  },
  {
   "cell_type": "markdown",
   "metadata": {},
   "source": [
    "原文使用 Python 爬虫爬取数据，且不分宁浩是否是电影导演。\n",
    "\n",
    "个人使用 Web Scraper 爬取数据，且只爬取宁浩作为导演的电影数据。因此，此处不再有 Python 爬虫代码，而是直接进行数据探索。\n",
    "\n",
    "且根据豆瓣电影显示，有些电影的数据其实应该清理，比如说群导电影《我和我的祖国》、《2008分之1》。"
   ]
  },
  {
   "cell_type": "code",
   "execution_count": 124,
   "metadata": {
    "ExecuteTime": {
     "end_time": "2019-11-19T15:10:36.087578Z",
     "start_time": "2019-11-19T15:10:36.058793Z"
    },
    "scrolled": false
   },
   "outputs": [
    {
     "name": "stdout",
     "output_type": "stream",
     "text": [
      "['关宇', '傅羽鸽', '常爱军', '郝宜珊']\n",
      "['李强']\n",
      "['达瓦', '毕力格', '戈利班']\n",
      "['郭涛', '刘桦', '连晋', '黄渤', '徐峥', '优恵', '罗兰 ', '王迅更多...']\n",
      "['黄渤', '王玮', '聂鑫', '王迅', '岳小军']\n",
      "['黄渤', '戎祥', '九孔', '徐峥', '王双宝', '巴多', '董立范', '高捷', '马少骅', '王迅', '刘刚', 'Worapoj Thuantanon', '赵奔', '李麒麟', '姜志刚', '王鹭', '宁浩更多...']\n",
      "['雷佳音', '陶虹', '程媛媛', '山崎敬一', '郭涛', '范伟', '孙淳', '刘桦', '黄渤', '岳小军', '傅亨', '王文', '杨新鸣更多...']\n",
      "['徐峥', '黄渤', '余男', '多布杰', '王双宝', '巴多', '杨新鸣', '郭虹', '陶虹', '黄精一', '赵虎', '王辉更多...']\n",
      "['黄渤', '徐峥', '袁泉', '周冬雨', '陶慧', '岳小军', '沈腾', '张俪', '马苏', '刘美含', '王砚辉', '焦俊艳', '郭涛', '李晨', '熊乃瑾', '夏雨', '刘仪伟', '雷佳音', '雍梦婷', '梁浩更多...']\n",
      "['黄渤', '沈腾', '汤姆·派福瑞', '马修·莫里森', '徐峥', '于和伟', '雷佳音', '刘桦', '邓飞', '蔡明凯', '王戈', '凯特·纳尔逊', '王砚伟', '呲路更多...']\n",
      "['葛优', '刘德华']\n"
     ]
    }
   ],
   "source": [
    "from efficient_apriori import apriori\n",
    "import pandas as pd\n",
    "\n",
    "data = pd.read_csv(\"./datasets/douban_ninghao.csv\",usecols=[4,5,6])\n",
    "\n",
    "drop_movie_index = data[data.movie_name.isin([\"我和我的祖国\",\"2008分之1\"])].index\n",
    "data.drop(index=drop_movie_index, inplace=True)\n",
    "\n",
    "data[\"new_actor\"] = data.movie_actor.str.split(\" / \")\n",
    "data_list = []\n",
    "for names in data.new_actor:\n",
    "    name_new = []\n",
    "    for name in names:\n",
    "        name_new.append(name)\n",
    "#     print(name_new)\n",
    "    data_list.append(name_new)\n",
    "# # print(data_list)\n",
    "# itemsets, rules = apriori(data_list, min_support=0.4, min_confidence=1)\n",
    "# print(itemsets)\n",
    "# print(rules)"
   ]
  },
  {
   "cell_type": "markdown",
   "metadata": {},
   "source": [
    "由于个人使用的数据和陈旸老师使用的数据不一样，因此，可能这影响到输出结果。但是，显而易见，有徐峥，则必有黄渤。宁浩也偏爱使用黄渤。"
   ]
  },
  {
   "cell_type": "markdown",
   "metadata": {},
   "source": [
    "## 总结"
   ]
  },
  {
   "cell_type": "markdown",
   "metadata": {},
   "source": [
    "![](https://static001.geekbang.org/resource/image/28/9d/282c25e8651b3e0b675be7267d13629d.png)"
   ]
  },
  {
   "cell_type": "markdown",
   "metadata": {},
   "source": [
    "## 练习"
   ]
  },
  {
   "cell_type": "markdown",
   "metadata": {},
   "source": [
    "1. 编写代码挖掘张艺谋导演使用演员的频繁项集和关联规则，最小支持度设置为 0.6 或 0.05；\n",
    "1. Apriori 算法中的最小支持度和最小置信度，一般设置为多少较为合理？"
   ]
  },
  {
   "cell_type": "markdown",
   "metadata": {},
   "source": [
    "Apriori 算法中的最小支持度和最小置信度:\n",
    "\n",
    "一般而言，最小支持度常见的取值有 0.5、0.1 和 0.05，最小置信度的常见取值有 1.0、0.9 和 0.8。\n",
    "\n",
    "然后，通过尝试一些取值，观察关联结果的方式来调整最小支持度和最小置信度。"
   ]
  },
  {
   "cell_type": "markdown",
   "metadata": {},
   "source": [
    "## 附"
   ]
  },
  {
   "cell_type": "markdown",
   "metadata": {},
   "source": [
    "Web Scraper 语法规则如下："
   ]
  },
  {
   "cell_type": "markdown",
   "metadata": {},
   "source": [
    "`{\"_id\":\"douban_movie_director\",\"startUrl\":[\"https://movie.douban.com/celebrity/1274265/movies?start=[0-13:10]&format=pic&sortby=time&role=D\"],\"selectors\":[{\"id\":\"element\",\"type\":\"SelectorElement\",\"parentSelectors\":[\"_root\"],\"selector\":\".grid_view > ul li\",\"multiple\":true,\"delay\":0},{\"id\":\"movie_link\",\"type\":\"SelectorLink\",\"parentSelectors\":[\"element\"],\"selector\":\"h6 a\",\"multiple\":false,\"delay\":0},{\"id\":\"movie_name\",\"type\":\"SelectorText\",\"parentSelectors\":[\"movie_link\"],\"selector\":\"h1 span[property]\",\"multiple\":false,\"regex\":\"\",\"delay\":0},{\"id\":\"movie_date\",\"type\":\"SelectorText\",\"parentSelectors\":[\"movie_link\"],\"selector\":\"span.year\",\"multiple\":false,\"regex\":\"[0-9]{4}\",\"delay\":0},{\"id\":\"movie_actor\",\"type\":\"SelectorText\",\"parentSelectors\":[\"movie_link\"],\"selector\":\".actor span.attrs\",\"multiple\":true,\"regex\":\"\",\"delay\":0},{\"id\":\"elemnet_click\",\"type\":\"SelectorElementClick\",\"parentSelectors\":[\"movie_link\"],\"selector\":\"div.subject\",\"multiple\":false,\"delay\":0,\"clickElementSelector\":\"a.more-actor\",\"clickType\":\"clickMore\",\"discardInitialElements\":\"do-not-discard\",\"clickElementUniquenessType\":\"uniqueText\"}]}`"
   ]
  }
 ],
 "metadata": {
  "kernelspec": {
   "display_name": "Python 3",
   "language": "python",
   "name": "python3"
  },
  "language_info": {
   "codemirror_mode": {
    "name": "ipython",
    "version": 3
   },
   "file_extension": ".py",
   "mimetype": "text/x-python",
   "name": "python",
   "nbconvert_exporter": "python",
   "pygments_lexer": "ipython3",
   "version": "3.7.4"
  },
  "toc": {
   "base_numbering": 1,
   "nav_menu": {},
   "number_sections": true,
   "sideBar": true,
   "skip_h1_title": false,
   "title_cell": "Table of Contents",
   "title_sidebar": "Contents",
   "toc_cell": true,
   "toc_position": {
    "height": "calc(100% - 180px)",
    "left": "10px",
    "top": "150px",
    "width": "194.2px"
   },
   "toc_section_display": true,
   "toc_window_display": true
  },
  "varInspector": {
   "cols": {
    "lenName": 16,
    "lenType": 16,
    "lenVar": 40
   },
   "kernels_config": {
    "python": {
     "delete_cmd_postfix": "",
     "delete_cmd_prefix": "del ",
     "library": "var_list.py",
     "varRefreshCmd": "print(var_dic_list())"
    },
    "r": {
     "delete_cmd_postfix": ") ",
     "delete_cmd_prefix": "rm(",
     "library": "var_list.r",
     "varRefreshCmd": "cat(var_dic_list()) "
    }
   },
   "types_to_exclude": [
    "module",
    "function",
    "builtin_function_or_method",
    "instance",
    "_Feature"
   ],
   "window_display": false
  }
 },
 "nbformat": 4,
 "nbformat_minor": 2
}
