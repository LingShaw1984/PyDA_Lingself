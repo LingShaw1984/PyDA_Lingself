{
 "cells": [
  {
   "cell_type": "markdown",
   "metadata": {
    "toc": true
   },
   "source": [
    "<h1>Table of Contents<span class=\"tocSkip\"></span></h1>\n",
    "<div class=\"toc\"><ul class=\"toc-item\"><li><span><a href=\"#一个关于生命线的游戏\" data-toc-modified-id=\"一个关于生命线的游戏-1\"><span class=\"toc-item-num\">1&nbsp;&nbsp;</span>一个关于生命线的游戏</a></span></li><li><span><a href=\"#提问是最好的老师\" data-toc-modified-id=\"提问是最好的老师-2\"><span class=\"toc-item-num\">2&nbsp;&nbsp;</span>提问是最好的老师</a></span></li><li><span><a href=\"#学会分享是最快的成长\" data-toc-modified-id=\"学会分享是最快的成长-3\"><span class=\"toc-item-num\">3&nbsp;&nbsp;</span>学会分享是最快的成长</a></span></li><li><span><a href=\"#培养数据分析思维是重要不紧急的事\" data-toc-modified-id=\"培养数据分析思维是重要不紧急的事-4\"><span class=\"toc-item-num\">4&nbsp;&nbsp;</span>培养数据分析思维是重要不紧急的事</a></span></li><li><span><a href=\"#总结\" data-toc-modified-id=\"总结-5\"><span class=\"toc-item-num\">5&nbsp;&nbsp;</span>总结</a></span></li></ul></div>"
   ]
  },
  {
   "cell_type": "markdown",
   "metadata": {},
   "source": [
    "## 一个关于生命线的游戏\n",
    "\n",
    "「当你对这些事件逐一分析打标签的时候，就有可能从更高的维度上观察到这些事件的规律。」\n",
    "\n",
    "「不相关的经历就是干扰数据…」\n",
    "\n",
    "首先需要有客观的记录数据，生命线就相当于数据可视化，以便于更容易找到规律，然后对不同事件打上标签。\n",
    "\n",
    "当对事件逐一分析打标签时，就有可能从更高的维度上观察到这些事件的规律。"
   ]
  },
  {
   "cell_type": "markdown",
   "metadata": {},
   "source": [
    "## 提问是最好的老师\n",
    "\n",
    "实际上这是数据分析的过程：\n",
    "\n",
    "- 数据分析的目的：我要解决什么问题？要分析什么规律？（注意不同维度、不同方向）\n",
    "- 获取数据源：从哪里去获取数据？如何获取？"
   ]
  },
  {
   "cell_type": "markdown",
   "metadata": {},
   "source": [
    "## 学会分享是最快的成长\n",
    "\n",
    "分享即学习，就像费曼说的，「教是最好的学。」\n",
    "\n",
    "这样，一是可以锻炼自己的逻辑性：即如何把事情讲清楚。二是可以获得反馈，从而改善自己对事物的认识和了解。"
   ]
  },
  {
   "cell_type": "markdown",
   "metadata": {},
   "source": [
    "## 培养数据分析思维是重要不紧急的事\n",
    "\n",
    "「 但是放长远来看重要性就很弱了。而拉开我们人生差距的，恰恰是那些重要不紧急的事情上，而不是在于我们每天处理了多少紧急的事。 」\n",
    "\n",
    "「但人生差距不是在于处理多少紧急的事，而是在于做过多少重要的事。从人性的角度来看，重要不紧急的事是容易被拖延的。 」"
   ]
  },
  {
   "cell_type": "markdown",
   "metadata": {},
   "source": [
    "## 总结"
   ]
  },
  {
   "cell_type": "markdown",
   "metadata": {},
   "source": [
    "![](https://static001.geekbang.org/resource/image/c5/9a/c5de624a6f0fe1b377582dc79f7baf9a.png)"
   ]
  }
 ],
 "metadata": {
  "kernelspec": {
   "display_name": "Python 3",
   "language": "python",
   "name": "python3"
  },
  "language_info": {
   "codemirror_mode": {
    "name": "ipython",
    "version": 3
   },
   "file_extension": ".py",
   "mimetype": "text/x-python",
   "name": "python",
   "nbconvert_exporter": "python",
   "pygments_lexer": "ipython3",
   "version": "3.7.4"
  },
  "toc": {
   "base_numbering": 1,
   "nav_menu": {},
   "number_sections": true,
   "sideBar": true,
   "skip_h1_title": false,
   "title_cell": "Table of Contents",
   "title_sidebar": "Contents",
   "toc_cell": true,
   "toc_position": {},
   "toc_section_display": true,
   "toc_window_display": true
  },
  "varInspector": {
   "cols": {
    "lenName": 16,
    "lenType": 16,
    "lenVar": 40
   },
   "kernels_config": {
    "python": {
     "delete_cmd_postfix": "",
     "delete_cmd_prefix": "del ",
     "library": "var_list.py",
     "varRefreshCmd": "print(var_dic_list())"
    },
    "r": {
     "delete_cmd_postfix": ") ",
     "delete_cmd_prefix": "rm(",
     "library": "var_list.r",
     "varRefreshCmd": "cat(var_dic_list()) "
    }
   },
   "types_to_exclude": [
    "module",
    "function",
    "builtin_function_or_method",
    "instance",
    "_Feature"
   ],
   "window_display": false
  }
 },
 "nbformat": 4,
 "nbformat_minor": 2
}
