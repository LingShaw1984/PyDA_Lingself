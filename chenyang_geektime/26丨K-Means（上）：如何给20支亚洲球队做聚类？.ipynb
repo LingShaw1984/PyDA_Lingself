{
 "cells": [
  {
   "cell_type": "markdown",
   "metadata": {
    "toc": true
   },
   "source": [
    "<h1>Table of Contents<span class=\"tocSkip\"></span></h1>\n",
    "<div class=\"toc\"><ul class=\"toc-item\"><li><span><a href=\"#基本概念\" data-toc-modified-id=\"基本概念-1\"><span class=\"toc-item-num\">1&nbsp;&nbsp;</span>基本概念</a></span><ul class=\"toc-item\"><li><span><a href=\"#参数\" data-toc-modified-id=\"参数-1.1\"><span class=\"toc-item-num\">1.1&nbsp;&nbsp;</span>参数</a></span></li></ul></li><li><span><a href=\"#实战\" data-toc-modified-id=\"实战-2\"><span class=\"toc-item-num\">2&nbsp;&nbsp;</span>实战</a></span></li><li><span><a href=\"#总结\" data-toc-modified-id=\"总结-3\"><span class=\"toc-item-num\">3&nbsp;&nbsp;</span>总结</a></span></li><li><span><a href=\"#练习\" data-toc-modified-id=\"练习-4\"><span class=\"toc-item-num\">4&nbsp;&nbsp;</span>练习</a></span></li></ul></div>"
   ]
  },
  {
   "cell_type": "markdown",
   "metadata": {},
   "source": [
    "## 基本概念"
   ]
  },
  {
   "cell_type": "markdown",
   "metadata": {},
   "source": [
    "K-Means 的工作原理：\n",
    "1. 从数据集中随机抽取 K 个点作为初始的类中心点；\n",
    "1. 将每个点分配到最近的类中心，这样就形成 K 个类，然后重新计算每个类的中心店；\n",
    "1. 重复第二步，直到类不发生变化；或者设置最大迭代数。"
   ]
  },
  {
   "cell_type": "markdown",
   "metadata": {},
   "source": [
    "### 参数"
   ]
  },
  {
   "cell_type": "code",
   "execution_count": null,
   "metadata": {},
   "outputs": [],
   "source": [
    "from sklearn.cluster import KMeans\n",
    "\n",
    "KMeans(n_clusters=8, init='k-means++', n_init=10,\n",
    "          max_iter=300, tol=0.0001, precompute_distance='auto',\n",
    "          verbose=0, random_state=None, copy_x=True, algorithm='auto')"
   ]
  },
  {
   "cell_type": "markdown",
   "metadata": {},
   "source": [
    "n_clusters：K 值，需要进行多次尝试才能得到更好的聚类效果；\n",
    "\n",
    "init：初始值选择的方式；\n",
    "\n",
    "n_init：初始化中心点的运算次数，默认是 10.\n",
    "\n",
    "max_iter：最大迭代次数；\n",
    "\n",
    "tol：Relative tolerance with regards to inertia to declare convergence\n",
    "\n",
    "precompute_distance：Precompute distances (faster but takes more memory).\n",
    "\n",
    "verbose：Verbosity mode.\n",
    "\n",
    "random_state：Determines random number generation for centroid initialization. Use an int to make the randomness deterministic.\n",
    "\n",
    "copy_x：When pre-computing distances it is more numerically accurate to center the data first. If copy_x is True (default), then the original data is not modified, ensuring X is C-contiguous. If False, the original data is modified, and put back before the function returns, but small numerical differences may be introduced by subtracting and then adding the data mean, in this case it will also not ensure that data is C-contiguous which may cause a significant slowdown.\n",
    "\n",
    "algorithm：K-Means 的实现算法：auto、full、elkan。"
   ]
  },
  {
   "cell_type": "markdown",
   "metadata": {},
   "source": [
    "## 实战"
   ]
  },
  {
   "cell_type": "code",
   "execution_count": 15,
   "metadata": {
    "ExecuteTime": {
     "end_time": "2019-11-18T07:38:59.681140Z",
     "start_time": "2019-11-18T07:38:59.534153Z"
    }
   },
   "outputs": [
    {
     "name": "stdout",
     "output_type": "stream",
     "text": [
      "        国家  2019年国际排名  2018世界杯  2015亚洲杯  聚类\n",
      "0       中国         73       40        7   2\n",
      "1       日本         60       15        5   1\n",
      "2       韩国         61       19        2   1\n",
      "3       伊朗         34       18        6   1\n",
      "4       沙特         67       26       10   1\n",
      "5      伊拉克         91       40        4   2\n",
      "6      卡塔尔        101       40       13   0\n",
      "7      阿联酋         81       40        6   2\n",
      "8   乌兹别克斯坦         88       40        8   2\n",
      "9       泰国        122       40       17   0\n",
      "10      越南        102       50       17   0\n",
      "11      阿曼         87       50       12   0\n",
      "12      巴林        116       50       11   0\n",
      "13      朝鲜        110       50       14   0\n",
      "14      印尼        164       50       17   0\n",
      "15      澳洲         40       30        1   1\n",
      "16     叙利亚         76       40       17   0\n",
      "17      约旦        118       50        9   0\n",
      "18     科威特        160       50       15   0\n",
      "19    巴勒斯坦         96       50       16   0\n"
     ]
    }
   ],
   "source": [
    "from sklearn.cluster import KMeans\n",
    "from sklearn import preprocessing\n",
    "import pandas as pd\n",
    "import numpy as np\n",
    "\n",
    "data = pd.read_csv(\"datasets/data_026.csv\", encoding=\"gbk\")\n",
    "# data.columns\n",
    "train_x = data[[\"2019年国际排名\", \"2018世界杯\", \"2015亚洲杯\"]]\n",
    "\n",
    "kmeans = KMeans(n_clusters=3)\n",
    "\n",
    "min_max_scaler = preprocessing.MinMaxScaler()\n",
    "train_x = min_max_scaler.fit_transform(train_x)\n",
    "\n",
    "kmeans.fit(train_x)\n",
    "predict_y = kmeans.predict(train_x)\n",
    "\n",
    "result = pd.concat((data, pd.DataFrame(predict_y)), axis=1)\n",
    "result.rename({0: u\"聚类\"}, axis=1, inplace=True)\n",
    "print(result)"
   ]
  },
  {
   "cell_type": "markdown",
   "metadata": {},
   "source": [
    "## 总结"
   ]
  },
  {
   "cell_type": "markdown",
   "metadata": {},
   "source": [
    "如何确定 K 类的中心？其中包括了初始的设置，以及中间迭代过程中中心点的计算。在初始设置中，会进行 n_init 次的选择，然后选择初始中心点效果最好的作为初始值。在每次分类更新后，都需要重新确认每一类的中心点，一般采用均值的方式进行确认。\n",
    "***\n",
    "如何将其他点划分到 K 类中？首先定义距离（欧氏距离、曼哈顿距离、切比雪夫距离、余弦距离等），而后看它离哪个类的中心点近，就划分为哪一类。\n",
    "***\n",
    "K-Means 和 KNN 的区别：\n",
    "1. K-Means 属于无监督学习，KNN 属于监督学习；\n",
    "1. K-Means 属于聚类算法，KNN 属于分类算法；\n",
    "1. K-Means 的 K 值代表 K 类，KNN 的 K 值代表 K 个最接近的邻居。\n",
    "***\n",
    "<img src=\"https://static001.geekbang.org/resource/image/eb/c5/eb60546c6a3d9bc6a1538049c26723c5.png\" style=\"width:500px\">"
   ]
  },
  {
   "cell_type": "markdown",
   "metadata": {},
   "source": [
    "## 练习"
   ]
  },
  {
   "cell_type": "markdown",
   "metadata": {},
   "source": [
    "尝试把实战中的球队划分为 5 类，在规范化数据时采用标准化的方式（即均值为 0，方差为 1）。"
   ]
  },
  {
   "cell_type": "code",
   "execution_count": 12,
   "metadata": {
    "ExecuteTime": {
     "end_time": "2019-11-18T07:35:18.316793Z",
     "start_time": "2019-11-18T07:35:18.128058Z"
    }
   },
   "outputs": [
    {
     "name": "stdout",
     "output_type": "stream",
     "text": [
      "        国家  2019年国际排名  2018世界杯  2015亚洲杯  聚类\n",
      "0       中国         73       40        7   2\n",
      "1       日本         60       15        5   1\n",
      "2       韩国         61       19        2   1\n",
      "3       伊朗         34       18        6   1\n",
      "4       沙特         67       26       10   1\n",
      "5      伊拉克         91       40        4   2\n",
      "6      卡塔尔        101       40       13   0\n",
      "7      阿联酋         81       40        6   2\n",
      "8   乌兹别克斯坦         88       40        8   2\n",
      "9       泰国        122       40       17   0\n",
      "10      越南        102       50       17   0\n",
      "11      阿曼         87       50       12   0\n",
      "12      巴林        116       50       11   4\n",
      "13      朝鲜        110       50       14   0\n",
      "14      印尼        164       50       17   3\n",
      "15      澳洲         40       30        1   1\n",
      "16     叙利亚         76       40       17   0\n",
      "17      约旦        118       50        9   4\n",
      "18     科威特        160       50       15   3\n",
      "19    巴勒斯坦         96       50       16   0\n"
     ]
    }
   ],
   "source": [
    "from sklearn.cluster import KMeans\n",
    "from sklearn import preprocessing\n",
    "import pandas as pd\n",
    "import numpy as np\n",
    "\n",
    "data = pd.read_csv(\"datasets/data_026.csv\", encoding=\"gbk\")\n",
    "\n",
    "train_x = data[[\"2019年国际排名\", \"2018世界杯\", \"2015亚洲杯\"]]\n",
    "\n",
    "kmeans = KMeans(n_clusters=5)\n",
    "\n",
    "standard_scaler = preprocessing.StandardScaler()\n",
    "train_x = standard_scaler.fit_transform(train_x)\n",
    "\n",
    "kmeans.fit(train_x)\n",
    "predict_y = kmeans.predict(train_x)\n",
    "\n",
    "result = pd.concat((data, pd.DataFrame(predict_y)), axis=1)\n",
    "result.rename({0: u\"聚类\"}, axis=1, inplace=True)\n",
    "print(result)"
   ]
  }
 ],
 "metadata": {
  "kernelspec": {
   "display_name": "Python 3",
   "language": "python",
   "name": "python3"
  },
  "language_info": {
   "codemirror_mode": {
    "name": "ipython",
    "version": 3
   },
   "file_extension": ".py",
   "mimetype": "text/x-python",
   "name": "python",
   "nbconvert_exporter": "python",
   "pygments_lexer": "ipython3",
   "version": "3.7.4"
  },
  "toc": {
   "base_numbering": 1,
   "nav_menu": {},
   "number_sections": true,
   "sideBar": true,
   "skip_h1_title": false,
   "title_cell": "Table of Contents",
   "title_sidebar": "Contents",
   "toc_cell": true,
   "toc_position": {
    "height": "calc(100% - 180px)",
    "left": "10px",
    "top": "150px",
    "width": "194.2px"
   },
   "toc_section_display": true,
   "toc_window_display": true
  },
  "varInspector": {
   "cols": {
    "lenName": 16,
    "lenType": 16,
    "lenVar": 40
   },
   "kernels_config": {
    "python": {
     "delete_cmd_postfix": "",
     "delete_cmd_prefix": "del ",
     "library": "var_list.py",
     "varRefreshCmd": "print(var_dic_list())"
    },
    "r": {
     "delete_cmd_postfix": ") ",
     "delete_cmd_prefix": "rm(",
     "library": "var_list.r",
     "varRefreshCmd": "cat(var_dic_list()) "
    }
   },
   "types_to_exclude": [
    "module",
    "function",
    "builtin_function_or_method",
    "instance",
    "_Feature"
   ],
   "window_display": false
  }
 },
 "nbformat": 4,
 "nbformat_minor": 2
}
