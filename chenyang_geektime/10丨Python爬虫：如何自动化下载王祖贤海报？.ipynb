{
 "cells": [
  {
   "cell_type": "markdown",
   "metadata": {},
   "source": [
    "# 爬虫的流程："
   ]
  },
  {
   "cell_type": "markdown",
   "metadata": {},
   "source": [
    "- 打开网页\n",
    "- 提取数据\n",
    "- 保存数据"
   ]
  },
  {
   "cell_type": "markdown",
   "metadata": {},
   "source": [
    "打开网页：\n",
    "\n",
    "使用 Request 访问页面，得到服务器返回的数据，其包括 HTML 页面和 JSON 数据。\n",
    "\n",
    "提取数据：\n",
    "\n",
    "- 针对 HTML 页面，使用 XPath 进行元素定位，提取数据；\n",
    "- 针对 JSON 数据，使用 JSON 进行解析。\n",
    "\n",
    "保存数据：\n",
    "\n",
    "使用 Pandas 保存数据，导出为 CSV 文件。"
   ]
  },
  {
   "cell_type": "markdown",
   "metadata": {},
   "source": [
    "## Request 访问页面"
   ]
  },
  {
   "cell_type": "markdown",
   "metadata": {},
   "source": [
    "Get: 把参数包含在 URL 中；\n",
    "\n",
    "Post: 明文传递参数，包括账户密码等。\n",
    "\n",
    "示例："
   ]
  },
  {
   "cell_type": "code",
   "execution_count": null,
   "metadata": {},
   "outputs": [],
   "source": [
    "r = requests.get('http://www.douban.com')"
   ]
  },
  {
   "cell_type": "code",
   "execution_count": null,
   "metadata": {},
   "outputs": [],
   "source": [
    "r = requests.post('http://xxx.com', data = {'key':'value'})"
   ]
  },
  {
   "cell_type": "markdown",
   "metadata": {},
   "source": [
    "## XPath 定位"
   ]
  },
  {
   "cell_type": "markdown",
   "metadata": {},
   "source": [
    "![XPath 路径常用表达方式](https://static001.geekbang.org/resource/image/3b/ea/3bcb311361c76bfbeb90d360b21195ea.jpg)"
   ]
  },
  {
   "cell_type": "markdown",
   "metadata": {},
   "source": [
    "示例：\n",
    "\n",
    "- xpath(‘node’) 选取了 node 节点的所有子节点；\n",
    "- xpath(’/div’) 从根节点上选取 div 节点；xpath(’//div’) 选取所有的 div 节点；\n",
    "- xpath(’./div’) 选取当前节点下的 div 节点；xpath(’…’) 回到上一个节点；xpath(’//@id’) 选取所有的 id 属性；\n",
    "- xpath(’//book[@id]’) 选取所有拥有名为 id 的属性的 book 元素；\n",
    "- xpath(’//book[@id=“abc”]’) 选取所有 book 元素，且这些 book 元素拥有 id= \"abc\"的属性；\n",
    "- xpath(’//book/title | //book/price’) 选取 book 元素的所有 title 和 price 元素"
   ]
  },
  {
   "cell_type": "code",
   "execution_count": null,
   "metadata": {},
   "outputs": [],
   "source": [
    "# 定位 HTML中的所有列表项目\n",
    "from lxml import etree\n",
    "html = etree.HTML(html)\n",
    "result = html.xpath('//li')"
   ]
  },
  {
   "cell_type": "markdown",
   "metadata": {},
   "source": [
    "## JSON 对象"
   ]
  },
  {
   "cell_type": "markdown",
   "metadata": {},
   "source": [
    "JSON 语法规则：\n",
    "- 数据 IN 名称/值\n",
    "- 数据由都好分隔\n",
    "- 花括号保存字典对象\n",
    "- 方括号保存数组"
   ]
  },
  {
   "cell_type": "markdown",
   "metadata": {},
   "source": [
    "![](https://static001.geekbang.org/resource/image/9a/43/9a6d6564a64cf2b1c256265eea78c543.png)"
   ]
  },
  {
   "cell_type": "code",
   "execution_count": null,
   "metadata": {},
   "outputs": [],
   "source": [
    "# 将 JSON 格式转换成 Python 格式\n",
    "import json\n",
    "jsonData = '{\"a\":1,\"b\":2,\"c\":3,\"d\":4,\"e\":5}';\n",
    "input = json.loads(jsonData)\n",
    "print(input)"
   ]
  },
  {
   "cell_type": "markdown",
   "metadata": {},
   "source": [
    "# 实战"
   ]
  },
  {
   "cell_type": "markdown",
   "metadata": {},
   "source": [
    "## 使用 JSON 爬取王祖贤的海报"
   ]
  },
  {
   "cell_type": "markdown",
   "metadata": {},
   "source": [
    "**注意**：如果爬取的页面是动态页面，就需要关注 XHR 数据。因为动态页面的原理就是通过原生的 XHR 数据对象发出 HTTP 请求，得到服务器返回的数据后，再进行处理。 XHR 会用于在后台与服务器交换数据。"
   ]
  },
  {
   "cell_type": "markdown",
   "metadata": {},
   "source": [
    "通过 Response 查找 JSON 文件"
   ]
  },
  {
   "cell_type": "code",
   "execution_count": null,
   "metadata": {},
   "outputs": [],
   "source": [
    "{\"images\":\n",
    " [{\"src\":\"https://img3.doubanio.com\\/view\\/photo\\/thumb\\/public\\/p637714342.jpg\",\"author\":\"華生\",\"url\":\"https:\\/\\/www.douban.com\\/link2\\/?url=http%3A%2F%2Fwww.douban.com%2Fphotos%2Fphoto%2F637714342%2F&query=%E7%8E%8B%E7%A5%96%E8%B4%A4&cat_id=1025&type=search\",\"id\":\"637714342\",\"title\":\"你以為你是王祖賢啊.\",\"width\":170,\"height\":121},\n",
    "  {\"src\":\"https://img1.doubanio.com\\/view\\/photo\\/photo\\/public\\/p637081759.jpg\",\"author\":\"華生\",\"url\":\"https:\\/\\/www.douban.com\\/link2\\/?url=http%3A%2F%2Fwww.douban.com%2Fphotos%2Fphoto%2F637081759%2F&query=%E7%8E%8B%E7%A5%96%E8%B4%A4&cat_id=1025&type=search\",\"id\":\"637081759\",\"title\":\"你以為你是王祖賢啊.\",\"width\":449,\"height\":600},\n",
    "  {\"src\":\"https://img9.doubanio.com\\/view\\/photo\\/thumb\\/public\\/p642504596.jpg\",\"author\":\"不要焦虑浣熊妹\",\"url\":\"https:\\/\\/www.douban.com\\/link2\\/?url=http%3A%2F%2Fwww.douban.com%2Fphotos%2Fphoto%2F642504596%2F&query=%E7%8E%8B%E7%A5%96%E8%B4%A4&cat_id=1025&type=search\",\"id\":\"642504596\",\"title\":\"【女神】王祖贤\",\"width\":170,\"height\":93},{\"src\":\"https://img3.doubanio.com\\/view\\/photo\\/thumb\\/public\\/p642504623.jpg\",\"author\":\"不要焦虑浣熊妹\",\"url\":\"https:\\/\\/www.douban.com\\/link2\\/?url=http%3A%2F%2Fwww.douban.com%2Fphotos%2Fphoto%2F642504623%2F&query=%E7%8E%8B%E7%A5%96%E8%B4%A4&cat_id=1025&type=search\",\"id\":\"642504623\",\"title\":\"【女神】王祖贤\",\"width\":170,\"height\":93},{\"src\":\"https://img1.doubanio.com\\/view\\/photo\\/thumb\\/public\\/p642504659.jpg\",\"author\":\"不要焦虑浣熊妹\",\"url\":\"https:\\/\\/www.douban.com\\/link2\\/?url=http%3A%2F%2Fwww.douban.com%2Fphotos%2Fphoto%2F642504659%2F&query=%E7%8E%8B%E7%A5%96%E8%B4%A4&cat_id=1025&type=search\",\"id\":\"642504659\",\"title\":\"【女神】王祖贤\",\"width\":170,\"height\":93},{\"src\":\"https://img3.doubanio.com\\/view\\/photo\\/thumb\\/public\\/p642504673.jpg\",\"author\":\"不要焦虑浣熊妹\",\"url\":\"https:\\/\\/www.douban.com\\/link2\\/?url=http%3A%2F%2Fwww.douban.com%2Fphotos%2Fphoto%2F642504673%2F&query=%E7%8E%8B%E7%A5%96%E8%B4%A4&cat_id=1025&type=search\",\"id\":\"642504673\",\"title\":\"【女神】王祖贤\",\"width\":170,\"height\":93},{\"src\":\"https://img3.doubanio.com\\/view\\/photo\\/thumb\\/public\\/p642504722.jpg\",\"author\":\"不要焦虑浣熊妹\",\"url\":\"https:\\/\\/www.douban.com\\/link2\\/?url=http%3A%2F%2Fwww.douban.com%2Fphotos%2Fphoto%2F642504722%2F&query=%E7%8E%8B%E7%A5%96%E8%B4%A4&cat_id=1025&type=search\",\"id\":\"642504722\",\"title\":\"【女神】王祖贤\",\"width\":170,\"height\":93},{\"src\":\"https://img3.doubanio.com\\/view\\/photo\\/thumb\\/public\\/p642507941.jpg\",\"author\":\"不要焦虑浣熊妹\",\"url\":\"https:\\/\\/www.douban.com\\/link2\\/?url=http%3A%2F%2Fwww.douban.com%2Fphotos%2Fphoto%2F642507941%2F&query=%E7%8E%8B%E7%A5%96%E8%B4%A4&cat_id=1025&type=search\",\"id\":\"642507941\",\"title\":\"【女神】王祖贤\",\"width\":170,\"height\":93},{\"src\":\"https://img3.doubanio.com\\/view\\/photo\\/thumb\\/public\\/p642507983.jpg\",\"author\":\"不要焦虑浣熊妹\",\"url\":\"https:\\/\\/www.douban.com\\/link2\\/?url=http%3A%2F%2Fwww.douban.com%2Fphotos%2Fphoto%2F642507983%2F&query=%E7%8E%8B%E7%A5%96%E8%B4%A4&cat_id=1025&type=search\",\"id\":\"642507983\",\"title\":\"【女神】王祖贤\",\"width\":170,\"height\":93},{\"src\":\"https://img3.doubanio.com\\/view\\/photo\\/thumb\\/public\\/p642508003.jpg\",\"author\":\"不要焦虑浣熊妹\",\"url\":\"https:\\/\\/www.douban.com\\/link2\\/?url=http%3A%2F%2Fwww.douban.com%2Fphotos%2Fphoto%2F642508003%2F&query=%E7%8E%8B%E7%A5%96%E8%B4%A4&cat_id=1025&type=search\",\"id\":\"642508003\",\"title\":\"【女神】王祖贤\",\"width\":170,\"height\":93},{\"src\":\"https://img9.doubanio.com\\/view\\/photo\\/thumb\\/public\\/p642508066.jpg\",\"author\":\"不要焦虑浣熊妹\",\"url\":\"https:\\/\\/www.douban.com\\/link2\\/?url=http%3A%2F%2Fwww.douban.com%2Fphotos%2Fphoto%2F642508066%2F&query=%E7%8E%8B%E7%A5%96%E8%B4%A4&cat_id=1025&type=search\",\"id\":\"642508066\",\"title\":\"【女神】王祖贤\",\"width\":170,\"height\":93},{\"src\":\"https://img1.doubanio.com\\/view\\/photo\\/thumb\\/public\\/p642508108.jpg\",\"author\":\"不要焦虑浣熊妹\",\"url\":\"https:\\/\\/www.douban.com\\/link2\\/?url=http%3A%2F%2Fwww.douban.com%2Fphotos%2Fphoto%2F642508108%2F&query=%E7%8E%8B%E7%A5%96%E8%B4%A4&cat_id=1025&type=search\",\"id\":\"642508108\",\"title\":\"【女神】王祖贤\",\"width\":170,\"height\":93},{\"src\":\"https://img3.doubanio.com\\/view\\/photo\\/thumb\\/public\\/p642510954.jpg\",\"author\":\"不要焦虑浣熊妹\",\"url\":\"https:\\/\\/www.douban.com\\/link2\\/?url=http%3A%2F%2Fwww.douban.com%2Fphotos%2Fphoto%2F642510954%2F&query=%E7%8E%8B%E7%A5%96%E8%B4%A4&cat_id=1025&type=search\",\"id\":\"642510954\",\"title\":\"【女神】王祖贤\",\"width\":170,\"height\":93},{\"src\":\"https://img1.doubanio.com\\/view\\/photo\\/thumb\\/public\\/p642511007.jpg\",\"author\":\"不要焦虑浣熊妹\",\"url\":\"https:\\/\\/www.douban.com\\/link2\\/?url=http%3A%2F%2Fwww.douban.com%2Fphotos%2Fphoto%2F642511007%2F&query=%E7%8E%8B%E7%A5%96%E8%B4%A4&cat_id=1025&type=search\",\"id\":\"642511007\",\"title\":\"【女神】王祖贤\",\"width\":170,\"height\":93},{\"src\":\"https://img3.doubanio.com\\/view\\/photo\\/thumb\\/public\\/p642511024.jpg\",\"author\":\"不要焦虑浣熊妹\",\"url\":\"https:\\/\\/www.douban.com\\/link2\\/?url=http%3A%2F%2Fwww.douban.com%2Fphotos%2Fphoto%2F642511024%2F&query=%E7%8E%8B%E7%A5%96%E8%B4%A4&cat_id=1025&type=search\",\"id\":\"642511024\",\"title\":\"【女神】王祖贤\",\"width\":170,\"height\":93},{\"src\":\"https://img3.doubanio.com\\/view\\/photo\\/thumb\\/public\\/p642511055.jpg\",\"author\":\"不要焦虑浣熊妹\",\"url\":\"https:\\/\\/www.douban.com\\/link2\\/?url=http%3A%2F%2Fwww.douban.com%2Fphotos%2Fphoto%2F642511055%2F&query=%E7%8E%8B%E7%A5%96%E8%B4%A4&cat_id=1025&type=search\",\"id\":\"642511055\",\"title\":\"【女神】王祖贤\",\"width\":170,\"height\":93},{\"src\":\"https://img9.doubanio.com\\/view\\/photo\\/thumb\\/public\\/p642511076.jpg\",\"author\":\"不要焦虑浣熊妹\",\"url\":\"https:\\/\\/www.douban.com\\/link2\\/?url=http%3A%2F%2Fwww.douban.com%2Fphotos%2Fphoto%2F642511076%2F&query=%E7%8E%8B%E7%A5%96%E8%B4%A4&cat_id=1025&type=search\",\"id\":\"642511076\",\"title\":\"【女神】王祖贤\",\"width\":170,\"height\":93},{\"src\":\"https://img3.doubanio.com\\/view\\/photo\\/thumb\\/public\\/p642514115.jpg\",\"author\":\"不要焦虑浣熊妹\",\"url\":\"https:\\/\\/www.douban.com\\/link2\\/?url=http%3A%2F%2Fwww.douban.com%2Fphotos%2Fphoto%2F642514115%2F&query=%E7%8E%8B%E7%A5%96%E8%B4%A4&cat_id=1025&type=search\",\"id\":\"642514115\",\"title\":\"【女神】王祖贤\",\"width\":170,\"height\":93},{\"src\":\"https://img3.doubanio.com\\/view\\/photo\\/thumb\\/public\\/p611791881.jpg\",\"author\":\"安\",\"url\":\"https:\\/\\/www.douban.com\\/link2\\/?url=http%3A%2F%2Fwww.douban.com%2Fphotos%2Fphoto%2F611791881%2F&query=%E7%8E%8B%E7%A5%96%E8%B4%A4&cat_id=1025&type=search\",\"id\":\"611791881\",\"title\":\"不染烟尘王祖贤。\",\"width\":170,\"height\":110},{\"src\":\"https://img3.doubanio.com\\/view\\/photo\\/thumb\\/public\\/p611791932.jpg\",\"author\":\"安\",\"url\":\"https:\\/\\/www.douban.com\\/link2\\/?url=http%3A%2F%2Fwww.douban.com%2Fphotos%2Fphoto%2F611791932%2F&query=%E7%8E%8B%E7%A5%96%E8%B4%A4&cat_id=1025&type=search\",\"id\":\"611791932\",\"title\":\"不染烟尘王祖贤。\",\"width\":170,\"height\":150}],\n",
    " \"total\":24958,\"limit\":20,\"more\":true}"
   ]
  },
  {
   "cell_type": "code",
   "execution_count": null,
   "metadata": {},
   "outputs": [],
   "source": [
    "\n",
    "{\"images\":\n",
    "       [{\"src\": …, \"author\": …, \"url\":…, \"id\": …, \"title\": …, \"width\":…, \"height\":…},\n",
    "    …\n",
    "   {\"src\": …, \"author\": …, \"url\":…, \"id\": …, \"title\": …, \"width\":…, \"height\":…}],\n",
    " \"total\":22471,\"limit\":20,\"more\":true}"
   ]
  },
  {
   "cell_type": "markdown",
   "metadata": {},
   "source": [
    "返回的字段包括：src、author、url、id、title、width、height。\n",
    "\n",
    "网址本身：\n",
    "`https://www.douban.com/j/search_photo?q=%E7%8E%8B%E7%A5%96%E8%B4%A4&limit=20&start=0`\n",
    "\n",
    "爬取代码如下："
   ]
  },
  {
   "cell_type": "code",
   "execution_count": 20,
   "metadata": {
    "ExecuteTime": {
     "end_time": "2019-11-15T16:42:29.690833Z",
     "start_time": "2019-11-15T16:41:29.969992Z"
    },
    "scrolled": true
   },
   "outputs": [
    {
     "name": "stdout",
     "output_type": "stream",
     "text": [
      "https://img3.doubanio.com/view/photo/l/public/p637714342.jpg\n",
      "https://img1.doubanio.com/view/photo/photo/public/p637081759.jpg\n",
      "https://img9.doubanio.com/view/photo/l/public/p642504596.jpg\n",
      "https://img3.doubanio.com/view/photo/l/public/p642504623.jpg\n",
      "https://img1.doubanio.com/view/photo/l/public/p642504659.jpg\n",
      "https://img3.doubanio.com/view/photo/l/public/p642504673.jpg\n",
      "https://img3.doubanio.com/view/photo/l/public/p642504722.jpg\n",
      "https://img3.doubanio.com/view/photo/l/public/p642507941.jpg\n",
      "https://img3.doubanio.com/view/photo/l/public/p642507983.jpg\n",
      "https://img3.doubanio.com/view/photo/l/public/p642508003.jpg\n",
      "https://img9.doubanio.com/view/photo/l/public/p642508066.jpg\n",
      "https://img1.doubanio.com/view/photo/l/public/p642508108.jpg\n",
      "https://img3.doubanio.com/view/photo/l/public/p642510954.jpg\n",
      "https://img1.doubanio.com/view/photo/l/public/p642511007.jpg\n",
      "https://img3.doubanio.com/view/photo/l/public/p642511024.jpg\n",
      "https://img3.doubanio.com/view/photo/l/public/p642511055.jpg\n",
      "https://img9.doubanio.com/view/photo/l/public/p642511076.jpg\n",
      "https://img3.doubanio.com/view/photo/l/public/p642514115.jpg\n",
      "https://img3.doubanio.com/view/photo/l/public/p611791881.jpg\n",
      "https://img3.doubanio.com/view/photo/l/public/p611791932.jpg\n"
     ]
    }
   ],
   "source": [
    "# coding:utf-8\n",
    "import requests\n",
    "import json\n",
    "import re\n",
    "\n",
    "query = '王祖贤'\n",
    "\n",
    "''' 下载图片 '''\n",
    "\n",
    "\n",
    "def download(src, id):\n",
    "    dir = './image/image_outpur/' + str(id) + '.jpg'\n",
    "    try:\n",
    "        pic = requests.get(src, timeout=10)\n",
    "        fp = open(dir, 'wb')\n",
    "        fp.write(pic.content)\n",
    "        fp.close()\n",
    "    except requests.exceptions.ConnectionError:\n",
    "        print('图片无法下载')\n",
    "\n",
    "\n",
    "''' for 循环 请求全部的 url '''\n",
    "for i in range(1):\n",
    "    url = 'https://www.douban.com/j/search_photo?q=' + \\\n",
    "        query+'&limit=20&start='+str(i)\n",
    "    html = requests.get(url).text    # 得到返回结果\n",
    "    response = json.loads(html, encoding='utf-8')  # 将 JSON 格式转换成 Python 对象\n",
    "    for image in response['images']:  # 读取对象中的 image 数据\n",
    "        image['src'] = image['src'].replace(\n",
    "            \"/thumb/\", \"/l/\").replace(\"/photo/pubic\", \"/l/pubic\")\n",
    "        print(image['src'])  # 查看当前下载的图片网址\n",
    "        download(image['src'], image['id'])  # 下载一张图片\n",
    "\n",
    "# 原代码下载的图片都是缩略图，个人这里做了改动，以便于能下载原图"
   ]
  },
  {
   "cell_type": "markdown",
   "metadata": {},
   "source": [
    "## 使用 XPath 爬取王祖贤的海报"
   ]
  },
  {
   "cell_type": "code",
   "execution_count": null,
   "metadata": {},
   "outputs": [],
   "source": [
    "from selenium import webdriver\n",
    "\n",
    "\n",
    "# 电影海报的 XPath\n",
    "src_xpath = \"//div[@class = 'item-root']/a[@class = 'cover-link']/img[@class = 'cover']/@src\"\n",
    "\n",
    "# 电影名称的 XPath\n",
    "title_xpath = \"//div[@class = 'item-root']/div[@class = 'detail']/div[@class = 'title']/a[@class = 'title-text']\"\n",
    "\n",
    "driver = webdriver.Chrome()\n",
    "driver.get(request_url)\n",
    "\n",
    "srcs = html.xpath(src_xpath)\n",
    "titles = html.xpath(title_path)\n",
    "for src, title in zip(srcs, titles):\n",
    "    download(src, title.text)"
   ]
  },
  {
   "cell_type": "markdown",
   "metadata": {},
   "source": [
    "# 总结"
   ]
  },
  {
   "cell_type": "markdown",
   "metadata": {},
   "source": [
    "![](https://static001.geekbang.org/resource/image/eb/ab/eb3e48f714ca857a79948d831de521ab.jpg)"
   ]
  },
  {
   "cell_type": "markdown",
   "metadata": {},
   "source": [
    "实则这种简单的数据爬取，使用第三方工具就可以轻松实现，比如浏览器插件 Webscraper。这里还是能看懂爬虫程序的写法，只是不能自己单独写出来。鉴于自己主攻方向不是爬虫，因此，这个方面的知识点暂不做深入。（爬虫可不是这么简单，还要考虑到反爬机制。）"
   ]
  }
 ],
 "metadata": {
  "kernelspec": {
   "display_name": "Python 3",
   "language": "python",
   "name": "python3"
  },
  "language_info": {
   "codemirror_mode": {
    "name": "ipython",
    "version": 3
   },
   "file_extension": ".py",
   "mimetype": "text/x-python",
   "name": "python",
   "nbconvert_exporter": "python",
   "pygments_lexer": "ipython3",
   "version": "3.7.4"
  },
  "latex_envs": {
   "LaTeX_envs_menu_present": true,
   "autoclose": true,
   "autocomplete": true,
   "bibliofile": "biblio.bib",
   "cite_by": "apalike",
   "current_citInitial": 1,
   "eqLabelWithNumbers": true,
   "eqNumInitial": 1,
   "hotkeys": {
    "equation": "Ctrl-E",
    "itemize": "Ctrl-I"
   },
   "labels_anchors": false,
   "latex_user_defs": false,
   "report_style_numbering": true,
   "user_envs_cfg": false
  },
  "toc": {
   "base_numbering": 1,
   "nav_menu": {},
   "number_sections": true,
   "sideBar": true,
   "skip_h1_title": false,
   "title_cell": "Table of Contents",
   "title_sidebar": "Contents",
   "toc_cell": false,
   "toc_position": {
    "height": "calc(100% - 180px)",
    "left": "10px",
    "top": "150px",
    "width": "215px"
   },
   "toc_section_display": true,
   "toc_window_display": true
  },
  "varInspector": {
   "cols": {
    "lenName": 16,
    "lenType": 16,
    "lenVar": 40
   },
   "kernels_config": {
    "python": {
     "delete_cmd_postfix": "",
     "delete_cmd_prefix": "del ",
     "library": "var_list.py",
     "varRefreshCmd": "print(var_dic_list())"
    },
    "r": {
     "delete_cmd_postfix": ") ",
     "delete_cmd_prefix": "rm(",
     "library": "var_list.r",
     "varRefreshCmd": "cat(var_dic_list()) "
    }
   },
   "types_to_exclude": [
    "module",
    "function",
    "builtin_function_or_method",
    "instance",
    "_Feature"
   ],
   "window_display": false
  }
 },
 "nbformat": 4,
 "nbformat_minor": 2
}
