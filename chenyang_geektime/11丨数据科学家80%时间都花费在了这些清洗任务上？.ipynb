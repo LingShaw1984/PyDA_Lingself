{
 "cells": [
  {
   "cell_type": "markdown",
   "metadata": {},
   "source": [
    "「好的数据分析师必定是一名数据清洗高手，要知道在整个数据分析过程中，不论是在时间还是功夫上，数据清洗大概都占到了 80%。」\n",
    "\n",
    "「注意做数据标注。」"
   ]
  },
  {
   "cell_type": "markdown",
   "metadata": {},
   "source": [
    "数据质量的准则：“完全合一”。\n",
    "\n",
    "- 完：完整性，数据是否存在空值、统计字段是否完善等等；\n",
    "\n",
    "- 全：全面性，根据常识判断数据定义、单位标识、数值本身等等；\n",
    "\n",
    "- 合：合法性，数据类型、内容、大小的合法性，比如说非 ASCII 字符等等；\n",
    "\n",
    "- 一：数据是否存在重复记录。\n",
    "\n",
    "![](https://static001.geekbang.org/resource/image/87/dd/87c0f81b493e99e715e9129cd3134bdd.jpg)"
   ]
  },
  {
   "cell_type": "markdown",
   "metadata": {},
   "source": [
    "### 练习"
   ]
  },
  {
   "cell_type": "markdown",
   "metadata": {},
   "source": [
    "![](https://static001.geekbang.org/resource/image/34/fd/347fcfd86d83ff92923cbd01707a35fd.png)"
   ]
  },
  {
   "cell_type": "code",
   "execution_count": 14,
   "metadata": {
    "ExecuteTime": {
     "end_time": "2019-11-16T01:41:52.181734Z",
     "start_time": "2019-11-16T01:41:52.167853Z"
    }
   },
   "outputs": [],
   "source": [
    "import pandas as pd\n",
    "\n",
    "columns = [\"food\",\"ounces\",\"animal\"]\n",
    "\n",
    "value = {\"food\":[\"bacon\",\"pulled pork\",\"bacon\",\"Pastrami\",\"corned beef\",\"Bacon\",\"pastrami\",\"honey ham\",\"nova lox\"],\n",
    "        \"ounces\":[4.0,3.0,None,6.0,7.5,8.0,-3.0,5.0,6.0],\n",
    "        \"animal\":[\"pig\",\"pig\",\"pig\",\"cow\",\"cow\",\"pig\",\"cow\",\"pig\",\"salmon\"]}\n",
    "\n",
    "df = pd.DataFrame(value,columns=columns)\n",
    "\n"
   ]
  },
  {
   "cell_type": "markdown",
   "metadata": {},
   "source": [
    "初步观察数据，按照“完全合一”准则，需要做以下处理：\n",
    "- 完：ounces 列出现 NaN 值，需要处理。初步观察，数据分布大致合理，决定使用均值填充；\n",
    "\n",
    "- 全：food 列名称大小写混杂，需统一转化为首字母大写（市场上，大写才常见）；\n",
    "\n",
    "- 合：ounces 列出现负值，暂时决定删除；\n",
    "\n",
    "- 一：暂时没法看出是否存在重复值，先进行前三步操作，之后若出现重复值，只能删除。"
   ]
  },
  {
   "cell_type": "code",
   "execution_count": 10,
   "metadata": {
    "ExecuteTime": {
     "end_time": "2019-11-16T01:40:59.315424Z",
     "start_time": "2019-11-16T01:40:59.303526Z"
    }
   },
   "outputs": [],
   "source": [
    "# 删除负值\n",
    "df = df[df[\"ounces\"] > 0]\n",
    "\n",
    "# 使用均值填充空值\n",
    "df.fillna(df.ounces.mean())\n",
    "\n",
    "# food 列进行大小写转化\n",
    "df.food = df.food.str.title()"
   ]
  },
  {
   "cell_type": "code",
   "execution_count": 11,
   "metadata": {
    "ExecuteTime": {
     "end_time": "2019-11-16T01:41:02.447501Z",
     "start_time": "2019-11-16T01:41:02.432621Z"
    }
   },
   "outputs": [
    {
     "data": {
      "text/html": [
       "<div>\n",
       "<style scoped>\n",
       "    .dataframe tbody tr th:only-of-type {\n",
       "        vertical-align: middle;\n",
       "    }\n",
       "\n",
       "    .dataframe tbody tr th {\n",
       "        vertical-align: top;\n",
       "    }\n",
       "\n",
       "    .dataframe thead th {\n",
       "        text-align: right;\n",
       "    }\n",
       "</style>\n",
       "<table border=\"1\" class=\"dataframe\">\n",
       "  <thead>\n",
       "    <tr style=\"text-align: right;\">\n",
       "      <th></th>\n",
       "      <th>food</th>\n",
       "      <th>ounces</th>\n",
       "      <th>animal</th>\n",
       "    </tr>\n",
       "  </thead>\n",
       "  <tbody>\n",
       "    <tr>\n",
       "      <td>0</td>\n",
       "      <td>Bacon</td>\n",
       "      <td>4.0</td>\n",
       "      <td>pig</td>\n",
       "    </tr>\n",
       "    <tr>\n",
       "      <td>1</td>\n",
       "      <td>Pulled Pork</td>\n",
       "      <td>3.0</td>\n",
       "      <td>pig</td>\n",
       "    </tr>\n",
       "    <tr>\n",
       "      <td>3</td>\n",
       "      <td>Pastrami</td>\n",
       "      <td>6.0</td>\n",
       "      <td>cow</td>\n",
       "    </tr>\n",
       "    <tr>\n",
       "      <td>4</td>\n",
       "      <td>Corned Beef</td>\n",
       "      <td>7.5</td>\n",
       "      <td>cow</td>\n",
       "    </tr>\n",
       "    <tr>\n",
       "      <td>5</td>\n",
       "      <td>Bacon</td>\n",
       "      <td>8.0</td>\n",
       "      <td>pig</td>\n",
       "    </tr>\n",
       "    <tr>\n",
       "      <td>7</td>\n",
       "      <td>Honey Ham</td>\n",
       "      <td>5.0</td>\n",
       "      <td>pig</td>\n",
       "    </tr>\n",
       "    <tr>\n",
       "      <td>8</td>\n",
       "      <td>Nova Lox</td>\n",
       "      <td>6.0</td>\n",
       "      <td>salmon</td>\n",
       "    </tr>\n",
       "  </tbody>\n",
       "</table>\n",
       "</div>"
      ],
      "text/plain": [
       "          food  ounces  animal\n",
       "0        Bacon     4.0     pig\n",
       "1  Pulled Pork     3.0     pig\n",
       "3     Pastrami     6.0     cow\n",
       "4  Corned Beef     7.5     cow\n",
       "5        Bacon     8.0     pig\n",
       "7    Honey Ham     5.0     pig\n",
       "8     Nova Lox     6.0  salmon"
      ]
     },
     "execution_count": 11,
     "metadata": {},
     "output_type": "execute_result"
    }
   ],
   "source": [
    "df"
   ]
  },
  {
   "cell_type": "markdown",
   "metadata": {},
   "source": [
    "进行前三步转化之后，发现有 food 和 animal 重复的数据。对这些数据做合并处理。"
   ]
  },
  {
   "cell_type": "code",
   "execution_count": 12,
   "metadata": {
    "ExecuteTime": {
     "end_time": "2019-11-16T01:41:07.481368Z",
     "start_time": "2019-11-16T01:41:07.469467Z"
    }
   },
   "outputs": [],
   "source": [
    "df = pd.DataFrame(df.groupby(by=[\"food\",\"animal\"])[\"ounces\"].sum())"
   ]
  },
  {
   "cell_type": "code",
   "execution_count": 13,
   "metadata": {
    "ExecuteTime": {
     "end_time": "2019-11-16T01:41:09.721660Z",
     "start_time": "2019-11-16T01:41:09.707773Z"
    },
    "scrolled": true
   },
   "outputs": [
    {
     "data": {
      "text/html": [
       "<div>\n",
       "<style scoped>\n",
       "    .dataframe tbody tr th:only-of-type {\n",
       "        vertical-align: middle;\n",
       "    }\n",
       "\n",
       "    .dataframe tbody tr th {\n",
       "        vertical-align: top;\n",
       "    }\n",
       "\n",
       "    .dataframe thead th {\n",
       "        text-align: right;\n",
       "    }\n",
       "</style>\n",
       "<table border=\"1\" class=\"dataframe\">\n",
       "  <thead>\n",
       "    <tr style=\"text-align: right;\">\n",
       "      <th></th>\n",
       "      <th></th>\n",
       "      <th>ounces</th>\n",
       "    </tr>\n",
       "    <tr>\n",
       "      <th>food</th>\n",
       "      <th>animal</th>\n",
       "      <th></th>\n",
       "    </tr>\n",
       "  </thead>\n",
       "  <tbody>\n",
       "    <tr>\n",
       "      <td>Bacon</td>\n",
       "      <td>pig</td>\n",
       "      <td>12.0</td>\n",
       "    </tr>\n",
       "    <tr>\n",
       "      <td>Corned Beef</td>\n",
       "      <td>cow</td>\n",
       "      <td>7.5</td>\n",
       "    </tr>\n",
       "    <tr>\n",
       "      <td>Honey Ham</td>\n",
       "      <td>pig</td>\n",
       "      <td>5.0</td>\n",
       "    </tr>\n",
       "    <tr>\n",
       "      <td>Nova Lox</td>\n",
       "      <td>salmon</td>\n",
       "      <td>6.0</td>\n",
       "    </tr>\n",
       "    <tr>\n",
       "      <td>Pastrami</td>\n",
       "      <td>cow</td>\n",
       "      <td>6.0</td>\n",
       "    </tr>\n",
       "    <tr>\n",
       "      <td>Pulled Pork</td>\n",
       "      <td>pig</td>\n",
       "      <td>3.0</td>\n",
       "    </tr>\n",
       "  </tbody>\n",
       "</table>\n",
       "</div>"
      ],
      "text/plain": [
       "                    ounces\n",
       "food        animal        \n",
       "Bacon       pig       12.0\n",
       "Corned Beef cow        7.5\n",
       "Honey Ham   pig        5.0\n",
       "Nova Lox    salmon     6.0\n",
       "Pastrami    cow        6.0\n",
       "Pulled Pork pig        3.0"
      ]
     },
     "execution_count": 13,
     "metadata": {},
     "output_type": "execute_result"
    }
   ],
   "source": [
    "df"
   ]
  }
 ],
 "metadata": {
  "kernelspec": {
   "display_name": "Python 3",
   "language": "python",
   "name": "python3"
  },
  "language_info": {
   "codemirror_mode": {
    "name": "ipython",
    "version": 3
   },
   "file_extension": ".py",
   "mimetype": "text/x-python",
   "name": "python",
   "nbconvert_exporter": "python",
   "pygments_lexer": "ipython3",
   "version": "3.7.4"
  },
  "toc": {
   "base_numbering": 1,
   "nav_menu": {},
   "number_sections": true,
   "sideBar": true,
   "skip_h1_title": false,
   "title_cell": "Table of Contents",
   "title_sidebar": "Contents",
   "toc_cell": false,
   "toc_position": {},
   "toc_section_display": true,
   "toc_window_display": false
  },
  "varInspector": {
   "cols": {
    "lenName": 16,
    "lenType": 16,
    "lenVar": 40
   },
   "kernels_config": {
    "python": {
     "delete_cmd_postfix": "",
     "delete_cmd_prefix": "del ",
     "library": "var_list.py",
     "varRefreshCmd": "print(var_dic_list())"
    },
    "r": {
     "delete_cmd_postfix": ") ",
     "delete_cmd_prefix": "rm(",
     "library": "var_list.r",
     "varRefreshCmd": "cat(var_dic_list()) "
    }
   },
   "types_to_exclude": [
    "module",
    "function",
    "builtin_function_or_method",
    "instance",
    "_Feature"
   ],
   "window_display": false
  }
 },
 "nbformat": 4,
 "nbformat_minor": 2
}
