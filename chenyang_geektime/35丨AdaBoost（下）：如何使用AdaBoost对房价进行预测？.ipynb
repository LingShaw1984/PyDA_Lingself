{
 "cells": [
  {
   "cell_type": "markdown",
   "metadata": {
    "toc": true
   },
   "source": [
    "<h1>Table of Contents<span class=\"tocSkip\"></span></h1>\n",
    "<div class=\"toc\"><ul class=\"toc-item\"><li><span><a href=\"#使用-AdaBoost-工具\" data-toc-modified-id=\"使用-AdaBoost-工具-1\"><span class=\"toc-item-num\">1&nbsp;&nbsp;</span>使用 AdaBoost 工具</a></span></li><li><span><a href=\"#预测房价\" data-toc-modified-id=\"预测房价-2\"><span class=\"toc-item-num\">2&nbsp;&nbsp;</span>预测房价</a></span></li><li><span><a href=\"#AdaBoost-与决策树模型的比较\" data-toc-modified-id=\"AdaBoost-与决策树模型的比较-3\"><span class=\"toc-item-num\">3&nbsp;&nbsp;</span>AdaBoost 与决策树模型的比较</a></span></li><li><span><a href=\"#总结\" data-toc-modified-id=\"总结-4\"><span class=\"toc-item-num\">4&nbsp;&nbsp;</span>总结</a></span></li><li><span><a href=\"#练习\" data-toc-modified-id=\"练习-5\"><span class=\"toc-item-num\">5&nbsp;&nbsp;</span>练习</a></span></li></ul></div>"
   ]
  },
  {
   "cell_type": "markdown",
   "metadata": {},
   "source": [
    "1. AdaBoost 工具的使用，包括使用 AdaBoost 进行分类、回归。\n",
    "1. 使用其他回归工具，比如决策树回归，对比 AdaBoost 回归和决策树回归的结果。"
   ]
  },
  {
   "cell_type": "markdown",
   "metadata": {},
   "source": [
    "## 使用 AdaBoost 工具"
   ]
  },
  {
   "cell_type": "markdown",
   "metadata": {},
   "source": [
    "使用 AdaBoost 做分类："
   ]
  },
  {
   "cell_type": "code",
   "execution_count": null,
   "metadata": {},
   "outputs": [],
   "source": [
    "from sklearn.ensemble import AdaBoostClassifier\n",
    "\n",
    "AdaBoostClassifier(base_estimator=None, n_estimators=50,\n",
    "                   learning_rate=1.0, algorithm='SAMME.R',\n",
    "                   random_state=None)"
   ]
  },
  {
   "cell_type": "markdown",
   "metadata": {},
   "source": [
    "base_estimator：代表弱分类器，默认使用决策树；\n",
    "\n",
    "n_estimators：算法的最大迭代次数，每次迭代都会引入一个新的弱分类器来增加原有分类器的组合能力，默认是 50；\n",
    "\n",
    "learning_rate：学习率，取值在 0~1 之间，默认是 1。如果学习率比较小，那么迭代次数要比较多才能收敛；\n",
    "\n",
    "algorithm：boosting 算法，可选值包括 SAMME 和 SAMME.R，默认是 SAMME.R。两者的区别在于对弱分类权重的计算方式不同。\n",
    "\n",
    "random_state：随机数种子。\n",
    "***"
   ]
  },
  {
   "cell_type": "markdown",
   "metadata": {},
   "source": [
    "使用 AdaBoost 做回归："
   ]
  },
  {
   "cell_type": "code",
   "execution_count": null,
   "metadata": {
    "ExecuteTime": {
     "end_time": "2019-11-21T07:15:27.272291Z",
     "start_time": "2019-11-21T07:15:27.247309Z"
    }
   },
   "outputs": [],
   "source": [
    "from sklearn.ensemble import AdaBoostRegressor\n",
    "\n",
    "AdaBoostRegressor(base_estimator=None, n_estimators=50,\n",
    "                  learning_rate=1.0, loss=\"linear\", random_state=None)"
   ]
  },
  {
   "cell_type": "markdown",
   "metadata": {},
   "source": [
    "loss：损失函数。\n",
    " - liner：线性（默认）；\n",
    " - square：平方；\n",
    " - exponential：指数。"
   ]
  },
  {
   "cell_type": "markdown",
   "metadata": {},
   "source": [
    "## 预测房价"
   ]
  },
  {
   "cell_type": "markdown",
   "metadata": {},
   "source": [
    "数据集中各指标的含义：<img src=\"https://static001.geekbang.org/resource/image/42/b7/426dec532f34d7f458e36ee59a6617b7.png\" style=\"width:350px\">"
   ]
  },
  {
   "cell_type": "markdown",
   "metadata": {},
   "source": [
    "使用 AdaBoost 回归模型："
   ]
  },
  {
   "cell_type": "code",
   "execution_count": 3,
   "metadata": {
    "ExecuteTime": {
     "end_time": "2019-11-21T07:53:07.713580Z",
     "start_time": "2019-11-21T07:53:07.474613Z"
    }
   },
   "outputs": [
    {
     "name": "stdout",
     "output_type": "stream",
     "text": [
      "房价预测结果  [19.69701493 11.2        13.52142857 16.90862944 25.77254902 22.82413793\n",
      " 28.92777778 17.78918919 28.52857143 20.1        27.92293578 31.73956044\n",
      " 12.53559322 23.55247525 13.31774194 25.33630573 17.20526316 16.4890411\n",
      " 27.93116279 25.52112676 17.00416667 17.956      17.29166667 20.22264151\n",
      " 31.84545455 17.35945946 22.75714286 25.33630573 12.53559322 31.37011494\n",
      " 16.90666667 25.77254902 10.71875    21.55       26.27878788 31.73956044\n",
      " 26.27878788 11.91315789 13.9546875  23.85555556 15.06860465 12.74025974\n",
      " 30.23663366 17.22195122 26.27878788 18.772      18.772      19.39642857\n",
      " 26.66011236 19.69701493 17.00416667 33.05833333 15.61666667 17.20526316\n",
      " 25.77254902 21.13555556 25.33630573 16.90862944 25.52112676 23.21190476\n",
      " 19.06111111 16.1097561  44.6125     21.54166667 17.00416667 26.21531532\n",
      " 26.21531532 11.62666667 17.476      27.93116279 23.08395722 18.43842795\n",
      " 17.00416667 27.21285714 19.39642857 45.91428571 16.1097561  10.81875\n",
      " 17.35945946 23.85555556 20.744      14.1        12.53559322 26.21531532\n",
      " 21.07777778 21.54166667 47.74444444 16.73636364 46.44090909 31.84545455\n",
      " 27.74784946 19.24603175 18.49565217 16.1097561  14.25714286 32.48846154\n",
      " 23.49508197 23.49508197 18.29787234 17.476      14.76285714 20.62803738\n",
      " 27.1        25.33630573 11.6925     16.1097561  11.6925     26.40208333\n",
      " 12.53559322 26.5699187  47.31917808 13.31774194 16.90666667 26.20701754\n",
      " 31.8        23.85555556 21.57631579 21.57631579 27.1        20.75357143\n",
      " 19.69701493 17.476      13.31774194 21.075      22.17647059 17.35945946\n",
      " 42.74666667]\n",
      "------------------------------\n",
      "均方误差 =  17.73\n"
     ]
    }
   ],
   "source": [
    "from sklearn.model_selection import train_test_split\n",
    "from sklearn.metrics import mean_squared_error\n",
    "from sklearn.datasets import load_boston\n",
    "from sklearn.ensemble import AdaBoostRegressor\n",
    "\n",
    "data = load_boston()\n",
    "\n",
    "train_x, test_x, train_y, test_y = train_test_split(\n",
    "    data.data, data.target, test_size=0.25, random_state=33)\n",
    "\n",
    "regressor = AdaBoostRegressor()\n",
    "regressor.fit(train_x, train_y)\n",
    "pred_y = regressor.predict(test_x)\n",
    "mse = mean_squared_error(test_y, pred_y)\n",
    "print(\"房价预测结果 \", pred_y)\n",
    "print(\"-\" * 30)\n",
    "print(\"均方误差 = \", round(mse, 2))"
   ]
  },
  {
   "cell_type": "markdown",
   "metadata": {},
   "source": [
    "***\n",
    "使用决策树回归模型和 KNN 回归模型："
   ]
  },
  {
   "cell_type": "code",
   "execution_count": 7,
   "metadata": {
    "ExecuteTime": {
     "end_time": "2019-11-21T08:02:11.449613Z",
     "start_time": "2019-11-21T08:02:11.387614Z"
    }
   },
   "outputs": [
    {
     "name": "stdout",
     "output_type": "stream",
     "text": [
      "决策树均方误差 =  37.45\n",
      "KNN 均方误差 =  27.87\n"
     ]
    }
   ],
   "source": [
    "# 使用决策树回归模型\n",
    "from sklearn.tree import DecisionTreeRegressor\n",
    "dec_regressor=DecisionTreeRegressor()\n",
    "dec_regressor.fit(train_x,train_y)\n",
    "pred_y = dec_regressor.predict(test_x)\n",
    "mse = mean_squared_error(test_y, pred_y)\n",
    "print(\"决策树均方误差 = \",round(mse,2))\n",
    "\n",
    "\n",
    "# 使用KNN回归模型\n",
    "from sklearn.neighbors import KNeighborsRegressor\n",
    "knn_regressor=KNeighborsRegressor()\n",
    "knn_regressor.fit(train_x,train_y)\n",
    "pred_y = knn_regressor.predict(test_x)\n",
    "mse = mean_squared_error(test_y, pred_y)\n",
    "print(\"KNN 均方误差 = \",round(mse,2))"
   ]
  },
  {
   "cell_type": "markdown",
   "metadata": {},
   "source": [
    "## AdaBoost 与决策树模型的比较"
   ]
  },
  {
   "cell_type": "markdown",
   "metadata": {},
   "source": [
    "使用 sklearn 中的 make_hastie_10_2 函数生成二分类数据。假设生成 12000 个数据，提取前 2000 个作为测试集，其余作为训练集。而后编写代码如下："
   ]
  },
  {
   "cell_type": "code",
   "execution_count": 16,
   "metadata": {
    "ExecuteTime": {
     "end_time": "2019-11-21T08:48:58.720552Z",
     "start_time": "2019-11-21T08:48:52.255544Z"
    }
   },
   "outputs": [
    {
     "data": {
      "image/png": "[encoded data removed]",
      "text/plain": [
       "<Figure size 432x288 with 1 Axes>"
      ]
     },
     "metadata": {
      "needs_background": "light"
     },
     "output_type": "display_data"
    }
   ],
   "source": [
    "import numpy as np\n",
    "import matplotlib.pyplot as plt\n",
    "from sklearn import datasets\n",
    "from sklearn.metrics import zero_one_loss\n",
    "from sklearn.tree import DecisionTreeClassifier\n",
    "from sklearn.ensemble import AdaBoostClassifier\n",
    "\n",
    "X, y = datasets.make_hastie_10_2(n_samples=12000, random_state=1)\n",
    "\n",
    "train_x, train_y = X[2000:], y[2000:]\n",
    "test_x, test_y = X[:2000], y[:2000]\n",
    "\n",
    "# 弱分类器\n",
    "dt_stump = DecisionTreeClassifier(max_depth=1, min_samples_leaf=1)\n",
    "dt_stump.fit(train_x, train_y)\n",
    "dt_stump_err = 1.0 - dt_stump.score(test_x, test_y)\n",
    "\n",
    "# 决策树\n",
    "dt = DecisionTreeClassifier()\n",
    "dt.fit(train_x, train_y)\n",
    "dt_err = 1.0 - dt.score(test_x, test_y)\n",
    "\n",
    "# AdaBoost 分类器\n",
    "n_estimators = 200\n",
    "ada = AdaBoostClassifier(base_estimator=dt_stump, n_estimators=n_estimators)\n",
    "ada.fit(train_x, train_y)\n",
    "\n",
    "# 可视化\n",
    "fig = plt.figure()\n",
    "plt.rcParams['font.sans-serif'] = ['SimHei']\n",
    "ax = fig.add_subplot(111)\n",
    "ax.plot([1, n_estimators], [dt_stump_err] * 2, 'k-', label=u\"决策树弱分类器 错误率\")\n",
    "ax.plot([1, n_estimators], [dt_err] * 2, 'k--', label=u\"决策树模型 错误率\")\n",
    "ada_err = np.zeros((n_estimators,))\n",
    "\n",
    "for i, pred_y in enumerate(ada.staged_predict(test_x)):\n",
    "    ada_err[i] = zero_one_loss(pred_y, test_y)\n",
    "\n",
    "ax.plot(np.arange(n_estimators)+1, ada_err,\n",
    "        label='AdaBoost Test 错误率', color='orange')\n",
    "ax.set_xlabel('迭代次数')\n",
    "ax.set_ylabel('错误率')\n",
    "leg = ax.legend(loc='upper right', fancybox=True)\n",
    "plt.show()"
   ]
  },
  {
   "cell_type": "markdown",
   "metadata": {},
   "source": [
    "## 总结"
   ]
  },
  {
   "cell_type": "markdown",
   "metadata": {},
   "source": [
    "![](https://static001.geekbang.org/resource/image/6c/17/6c4fcd75a65dc354bc65590c18e77d17.png)"
   ]
  },
  {
   "cell_type": "markdown",
   "metadata": {},
   "source": [
    "## 练习"
   ]
  },
  {
   "cell_type": "markdown",
   "metadata": {},
   "source": [
    "使用 AdaBoost 算法对第十九篇的泰坦尼克号的生存做预测，看看它和决策树模型，谁的准确率更高。"
   ]
  },
  {
   "cell_type": "code",
   "execution_count": 18,
   "metadata": {
    "ExecuteTime": {
     "end_time": "2019-11-21T08:56:07.574774Z",
     "start_time": "2019-11-21T08:56:01.512767Z"
    }
   },
   "outputs": [
    {
     "name": "stdout",
     "output_type": "stream",
     "text": [
      "决策树弱分类器准确率为 0.7867\n",
      "决策树分类器准确率为 0.7779\n",
      "AdaBoost 分类器准确率为 0.8138\n"
     ]
    }
   ],
   "source": [
    "import numpy as np\n",
    "import pandas as pd\n",
    "from sklearn.model_selection import cross_val_score\n",
    "from sklearn.tree import DecisionTreeClassifier\n",
    "from sklearn.ensemble import AdaBoostClassifier\n",
    "from sklearn.feature_extraction import DictVectorizer\n",
    "\n",
    "train_data = pd.read_csv('./datasets/train.csv')\n",
    "test_data = pd.read_csv('./datasets/test.csv')\n",
    "\n",
    "train_data['Age'].fillna(train_data['Age'].mean(), inplace=True)\n",
    "test_data['Age'].fillna(test_data['Age'].mean(), inplace=True)\n",
    "\n",
    "train_data['Fare'].fillna(train_data['Fare'].mean(), inplace=True)\n",
    "test_data['Fare'].fillna(test_data['Fare'].mean(), inplace=True)\n",
    "\n",
    "train_data['Embarked'].fillna('S', inplace=True)\n",
    "test_data['Embarked'].fillna('S', inplace=True)\n",
    "\n",
    "features = ['Pclass', 'Sex', 'Age', 'SibSp', 'Parch', 'Fare', 'Embarked']\n",
    "train_features = train_data[features]\n",
    "train_labels = train_data['Survived']\n",
    "test_features = test_data[features]\n",
    "\n",
    "dvec = DictVectorizer(sparse=False)\n",
    "train_features = dvec.fit_transform(train_features.to_dict(orient='record'))\n",
    "test_features = dvec.transform(test_features.to_dict(orient='record'))\n",
    "\n",
    "# 决策树弱分类器\n",
    "dt_stump = DecisionTreeClassifier(max_depth=1, min_samples_leaf=1)\n",
    "dt_stump.fit(train_features, train_labels)\n",
    "\n",
    "print(u'决策树弱分类器准确率为 %.4lf' % np.mean(cross_val_score(\n",
    "    dt_stump, train_features, train_labels, cv=10)))\n",
    "\n",
    "# 决策树分类器\n",
    "dt = DecisionTreeClassifier()\n",
    "dt.fit(train_features, train_labels)\n",
    "\n",
    "print(u'决策树分类器准确率为 %.4lf' %\n",
    "      np.mean(cross_val_score(dt, train_features, train_labels, cv=10)))\n",
    "\n",
    "# AdaBoost 分类器\n",
    "ada = AdaBoostClassifier(base_estimator=dt_stump, n_estimators=200)\n",
    "ada.fit(train_features, train_labels)\n",
    "\n",
    "print(u'AdaBoost 分类器准确率为 %.4lf' %\n",
    "      np.mean(cross_val_score(ada, train_features, train_labels, cv=10)))"
   ]
  }
 ],
 "metadata": {
  "kernelspec": {
   "display_name": "Python 3",
   "language": "python",
   "name": "python3"
  },
  "language_info": {
   "codemirror_mode": {
    "name": "ipython",
    "version": 3
   },
   "file_extension": ".py",
   "mimetype": "text/x-python",
   "name": "python",
   "nbconvert_exporter": "python",
   "pygments_lexer": "ipython3",
   "version": "3.7.4"
  },
  "toc": {
   "base_numbering": 1,
   "nav_menu": {},
   "number_sections": true,
   "sideBar": true,
   "skip_h1_title": false,
   "title_cell": "Table of Contents",
   "title_sidebar": "Contents",
   "toc_cell": true,
   "toc_position": {},
   "toc_section_display": true,
   "toc_window_display": true
  },
  "varInspector": {
   "cols": {
    "lenName": 16,
    "lenType": 16,
    "lenVar": 40
   },
   "kernels_config": {
    "python": {
     "delete_cmd_postfix": "",
     "delete_cmd_prefix": "del ",
     "library": "var_list.py",
     "varRefreshCmd": "print(var_dic_list())"
    },
    "r": {
     "delete_cmd_postfix": ") ",
     "delete_cmd_prefix": "rm(",
     "library": "var_list.r",
     "varRefreshCmd": "cat(var_dic_list()) "
    }
   },
   "types_to_exclude": [
    "module",
    "function",
    "builtin_function_or_method",
    "instance",
    "_Feature"
   ],
   "window_display": false
  }
 },
 "nbformat": 4,
 "nbformat_minor": 2
}
