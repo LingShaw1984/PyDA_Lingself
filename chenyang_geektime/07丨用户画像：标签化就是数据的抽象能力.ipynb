{
 "cells": [
  {
   "cell_type": "markdown",
   "metadata": {},
   "source": [
    "用户画像建模的过程："
   ]
  },
  {
   "cell_type": "markdown",
   "metadata": {},
   "source": [
    "![](https://static001.geekbang.org/resource/image/0f/f4/0ff019f3f87f627dd5522411f67a45f4.jpg)"
   ]
  },
  {
   "cell_type": "markdown",
   "metadata": {},
   "source": [
    "### 统一化"
   ]
  },
  {
   "cell_type": "markdown",
   "metadata": {},
   "source": [
    "用户唯一标识是整个用户画像的核心。\n",
    "\n",
    "其可选项包括：用户名、注册手机号、联系人手机号、邮箱、设备号、CookieID 等。"
   ]
  },
  {
   "cell_type": "markdown",
   "metadata": {},
   "source": [
    "### 标签化"
   ]
  },
  {
   "cell_type": "markdown",
   "metadata": {},
   "source": [
    "“用户-消费-行为-分析”：\n",
    "\n",
    "- 用户标签：用户的基础属性，其包括性别、年龄、地域、学历等等；\n",
    "\n",
    "- 消费标签：消费习惯、购买意向、是否对促销敏感等等；\n",
    "\n",
    "- 行为标签：时间段、时长、访问频次、访问路径等等；\n",
    "\n",
    "- 内容标签：用户平时浏览的内容等等。\n",
    "\n",
    "将海量数据进行标签化，来得到精准的用户画像，从而为企业更精准地解决问题。"
   ]
  },
  {
   "cell_type": "markdown",
   "metadata": {
    "cell_style": "center"
   },
   "source": [
    "### 业务化"
   ]
  },
  {
   "cell_type": "markdown",
   "metadata": {},
   "source": [
    "业务价值：\n",
    "\n",
    "- 获客：拉新，精准营销获取客户；\n",
    "\n",
    "- 粘客：个性化推荐等等；\n",
    "\n",
    "- 留客：流失率预测、分析关键点降低流失率等等。\n",
    "\n",
    "（不留存就死！）"
   ]
  },
  {
   "cell_type": "markdown",
   "metadata": {},
   "source": [
    "### 按照数据处理的阶段来划分用户画像建模的过程"
   ]
  },
  {
   "cell_type": "markdown",
   "metadata": {},
   "source": [
    "![](https://static001.geekbang.org/resource/image/f0/2f/f0e94ab9319dc561df3cdd781526c22f.jpg)"
   ]
  }
 ],
 "metadata": {
  "kernelspec": {
   "display_name": "Python 3",
   "language": "python",
   "name": "python3"
  },
  "language_info": {
   "codemirror_mode": {
    "name": "ipython",
    "version": 3
   },
   "file_extension": ".py",
   "mimetype": "text/x-python",
   "name": "python",
   "nbconvert_exporter": "python",
   "pygments_lexer": "ipython3",
   "version": "3.7.4"
  },
  "toc": {
   "base_numbering": 1,
   "nav_menu": {},
   "number_sections": true,
   "sideBar": true,
   "skip_h1_title": false,
   "title_cell": "Table of Contents",
   "title_sidebar": "Contents",
   "toc_cell": false,
   "toc_position": {},
   "toc_section_display": true,
   "toc_window_display": true
  },
  "varInspector": {
   "cols": {
    "lenName": 16,
    "lenType": 16,
    "lenVar": 40
   },
   "kernels_config": {
    "python": {
     "delete_cmd_postfix": "",
     "delete_cmd_prefix": "del ",
     "library": "var_list.py",
     "varRefreshCmd": "print(var_dic_list())"
    },
    "r": {
     "delete_cmd_postfix": ") ",
     "delete_cmd_prefix": "rm(",
     "library": "var_list.r",
     "varRefreshCmd": "cat(var_dic_list()) "
    }
   },
   "types_to_exclude": [
    "module",
    "function",
    "builtin_function_or_method",
    "instance",
    "_Feature"
   ],
   "window_display": false
  }
 },
 "nbformat": 4,
 "nbformat_minor": 2
}
