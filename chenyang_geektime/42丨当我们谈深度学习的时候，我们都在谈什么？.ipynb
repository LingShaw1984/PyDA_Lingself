{
 "cells": [
  {
   "cell_type": "markdown",
   "metadata": {
    "toc": true
   },
   "source": [
    "<h1>Table of Contents<span class=\"tocSkip\"></span></h1>\n",
    "<div class=\"toc\"><ul class=\"toc-item\"><li><span><a href=\"#数据挖掘、机器学习和深度学习的区别\" data-toc-modified-id=\"数据挖掘、机器学习和深度学习的区别-1\"><span class=\"toc-item-num\">1&nbsp;&nbsp;</span>数据挖掘、机器学习和深度学习的区别</a></span></li><li><span><a href=\"#神经网络是如何工作的\" data-toc-modified-id=\"神经网络是如何工作的-2\"><span class=\"toc-item-num\">2&nbsp;&nbsp;</span>神经网络是如何工作的</a></span></li><li><span><a href=\"#常用的神经网络\" data-toc-modified-id=\"常用的神经网络-3\"><span class=\"toc-item-num\">3&nbsp;&nbsp;</span>常用的神经网络</a></span></li><li><span><a href=\"#深度学习的领域\" data-toc-modified-id=\"深度学习的领域-4\"><span class=\"toc-item-num\">4&nbsp;&nbsp;</span>深度学习的领域</a></span></li><li><span><a href=\"#总结\" data-toc-modified-id=\"总结-5\"><span class=\"toc-item-num\">5&nbsp;&nbsp;</span>总结</a></span></li></ul></div>"
   ]
  },
  {
   "cell_type": "markdown",
   "metadata": {},
   "source": [
    "1. 数据挖掘、机器学习和深度学习的区别是什么？这些概念都代表什么？\n",
    "1. 深度学习的大脑，神经网络是如何工作的？\n",
    "1. 有哪些常用的网络模型？\n",
    "1. 深度学习有三个重要的应用领域，这三个重要的应用领域分别是什么？"
   ]
  },
  {
   "cell_type": "markdown",
   "metadata": {},
   "source": [
    "## 数据挖掘、机器学习和深度学习的区别"
   ]
  },
  {
   "cell_type": "markdown",
   "metadata": {},
   "source": [
    "数据挖掘：通常是从现有数据中提取规律模式（pattern）以及使用算法模型（model），更强调的是从数据中挖掘价值。\n",
    "    - 核心：使用工具（数据可视化、算法模型）找到数据变量之间的关系，但并不清楚具体是什么关系。\n",
    "<br>\n",
    "机器学习：人工智能的一部分，指的是通过训练数据和算法模型，让机器具有一定的智能。一般是指通过已有数据来学习知识，并通过各种算法模型形成一定的数据处理能力，比如分类、聚类、预测、推荐能力等。当有新数据进来时，可通过训练好的模型对新数据进行处理，从而完成某些特定任务。\n",
    "<br>\n",
    "深度学习：属于机器学习的一部分，不过是通过神经网络来实现。在训练过程中，只需告诉神经网络输入数据和输出数据，通过多次训练，网络中的多层神经网络的参数就会自动化，从而得到一个适应于训练数据的模型。\n",
    "<br>\n",
    "机器学习和深度学习的区别：\n",
    "    - 机器学习：人来告诉机器采用何种模型算法；\n",
    "    - 深度学习：通过数据自己找到数据的特征规律。"
   ]
  },
  {
   "cell_type": "markdown",
   "metadata": {},
   "source": [
    "## 神经网络是如何工作的"
   ]
  },
  {
   "cell_type": "markdown",
   "metadata": {},
   "source": [
    "节点：神经元；\n",
    "\n",
    "输入层：负责接收信号，并分发到隐藏层；\n",
    "\n",
    "输出层：负责输出计算结果。一般而言，输出层节点数等于要分类的个数；\n",
    "\n",
    "隐藏层：除输入层和输出层以外的神经网络都是隐藏层，可以是一层或多层。每个隐藏层都会计算前一层节点传输出来的数据，以便于更好地提取和计算数据的特征。\n",
    "\n",
    "工作原理：黑盒子。只需要把输入数据和输出数据输入黑盒子，黑盒子会自我训练。训练好后，输入新数据，黑盒子会输出对应的新数据。在训练过程中，神经网络主要是通过**前向传播**和**反向传播**机制运作。\n",
    "\n",
    "前向传播：数据从输入层传递到输出层的过程。该过程的计算结果通常是通过上一层神经元的输出经过矩阵运算和激活函数得到的。这样，就完成每层之间的神经元数据传输。\n",
    "\n",
    "反向传播：当前向传播作用到输出层得到分类结果后，需要与实际值进行对比，从而得到误差。核心原理是通过**代价函数**对网络中的参数进行修正，这样就更容易让网络参数得到收敛。\n",
    "\n",
    "过程：不断前向-反向传播迭代，直到达到指定迭代次数或收敛标准时停止训练，而后输入新数据进行预测。一般深度神经网络有 5 层以上。"
   ]
  },
  {
   "cell_type": "markdown",
   "metadata": {},
   "source": [
    "## 常用的神经网络"
   ]
  },
  {
   "cell_type": "markdown",
   "metadata": {},
   "source": [
    "FNN（Fully-connected Neural Network）：全连接神经网络，指的是每一层的神经元都与上一层的所有神经元相连接。在实际使用中，全连接的参数会过多，导致计算量大，因此用的少。\n",
    "\n",
    "CNN，卷积神经网络，在图像处理中有广泛应用。<br>\n",
    "CNN 网络中，包括卷积层、池化层和全连接层。<br>\n",
    "卷积层：把图像进行分块，对每一层的图像进行变换操作；\n",
    "池化层：对神经元的数据进行降维处理；\n",
    "全连接层：通常是输出层的上一层，将上一层神经元输出的数据转换变成一维的向量。\n",
    "\n",
    "RNN，循环神经网络，特点是神经元的输出可在下一时刻作用到自身，多应用在语音识别、自然语言处理上。\n",
    "\n",
    "深度学习常用的神经网络：![](https://static001.geekbang.org/resource/image/49/9f/490ced74dc6cf70403e73c05f302449f.png)"
   ]
  },
  {
   "cell_type": "markdown",
   "metadata": {},
   "source": [
    "## 深度学习的领域"
   ]
  },
  {
   "cell_type": "markdown",
   "metadata": {},
   "source": [
    "图像识别、语音识别与自然语言处理：都来自于信号处理。"
   ]
  },
  {
   "cell_type": "markdown",
   "metadata": {},
   "source": [
    "## 总结"
   ]
  },
  {
   "cell_type": "markdown",
   "metadata": {},
   "source": [
    "![](https://static001.geekbang.org/resource/image/e8/b9/e88beadebefd5789efb08284193f65b9.png)"
   ]
  }
 ],
 "metadata": {
  "kernelspec": {
   "display_name": "Python 3",
   "language": "python",
   "name": "python3"
  },
  "language_info": {
   "codemirror_mode": {
    "name": "ipython",
    "version": 3
   },
   "file_extension": ".py",
   "mimetype": "text/x-python",
   "name": "python",
   "nbconvert_exporter": "python",
   "pygments_lexer": "ipython3",
   "version": "3.7.4"
  },
  "toc": {
   "base_numbering": 1,
   "nav_menu": {},
   "number_sections": true,
   "sideBar": true,
   "skip_h1_title": false,
   "title_cell": "Table of Contents",
   "title_sidebar": "Contents",
   "toc_cell": true,
   "toc_position": {},
   "toc_section_display": true,
   "toc_window_display": true
  },
  "varInspector": {
   "cols": {
    "lenName": 16,
    "lenType": 16,
    "lenVar": 40
   },
   "kernels_config": {
    "python": {
     "delete_cmd_postfix": "",
     "delete_cmd_prefix": "del ",
     "library": "var_list.py",
     "varRefreshCmd": "print(var_dic_list())"
    },
    "r": {
     "delete_cmd_postfix": ") ",
     "delete_cmd_prefix": "rm(",
     "library": "var_list.r",
     "varRefreshCmd": "cat(var_dic_list()) "
    }
   },
   "types_to_exclude": [
    "module",
    "function",
    "builtin_function_or_method",
    "instance",
    "_Feature"
   ],
   "window_display": false
  }
 },
 "nbformat": 4,
 "nbformat_minor": 2
}
