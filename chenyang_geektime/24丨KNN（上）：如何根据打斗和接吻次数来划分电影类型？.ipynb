{
 "cells": [
  {
   "cell_type": "markdown",
   "metadata": {
    "toc": true
   },
   "source": [
    "<h1>Table of Contents<span class=\"tocSkip\"></span></h1>\n",
    "<div class=\"toc\"><ul class=\"toc-item\"><li><span><a href=\"#基本概念\" data-toc-modified-id=\"基本概念-1\"><span class=\"toc-item-num\">1&nbsp;&nbsp;</span>基本概念</a></span></li><li><span><a href=\"#总结\" data-toc-modified-id=\"总结-2\"><span class=\"toc-item-num\">2&nbsp;&nbsp;</span>总结</a></span></li></ul></div>"
   ]
  },
  {
   "cell_type": "markdown",
   "metadata": {},
   "source": [
    "## 基本概念"
   ]
  },
  {
   "cell_type": "markdown",
   "metadata": {},
   "source": [
    "KNN：K-Nearest Neighbor，K 临近算法。\n",
    "\n",
    "KNN 算法工作原理：\n",
    "1. 计算待分类物体与其他物体之间的距离；\n",
    "1. 统计距离最近的 K 个邻居；\n",
    "1. 对于 K 个最近的邻居，属于哪个分类最多，待分类物体就属于哪一类。\n",
    "\n",
    "（近朱者赤近墨者黑，人以群分。）\n",
    "\n",
    "选择 K 值：使用**交叉验证**的方式选取 K 值。其思路是，把样本集中的大部分样本作为训练集，剩余的小部分用于预测，来验证分类模型的准确性。因此，在 KNN 算法中，一般将 K 值选取在较小的范围中，同时验证集上准确率最高的那一个最终确定为 K 值。\n",
    "\n",
    "K 值太大，容易过拟合。\n",
    "\n",
    "K 值太小，容易欠拟合。\n",
    "\n",
    "计算距离的方式：\n",
    "1. 欧式距离；\n",
    "1. 曼哈顿距离；\n",
    "1. 闵可夫斯基距离；\n",
    "1. 切比雪夫距离；\n",
    "1. 余弦距离。\n",
    "***\n",
    "欧氏距离：\n",
    "![](https://static001.geekbang.org/resource/image/40/6a/40efe7cb4a2571e55438b55f8d37366a.png)"
   ]
  },
  {
   "cell_type": "markdown",
   "metadata": {},
   "source": [
    "<img src=\"https://static001.geekbang.org/resource/image/dd/43/dd19ca4f0be3f60b526e9ea0b7d13543.jpg\" style=\"width:500px\">\n",
    "\n",
    "绿色线是欧式距离，红色和黄色线是曼哈顿距离。"
   ]
  },
  {
   "cell_type": "markdown",
   "metadata": {},
   "source": [
    "***\n",
    "曼哈顿距离：两个点在坐标系上绝对轴距的总和。公式如下：![](https://static001.geekbang.org/resource/image/bd/aa/bda520e8ee34ea19df8dbad3da85faaa.png)\n",
    "\n",
    "***\n",
    "闵可夫斯基距离：![](https://static001.geekbang.org/resource/image/4d/c5/4d614c3d6722c02e4ea03cb1e6653dc5.png)\n",
    "\n",
    "其中：p 代表空间的维数。\n",
    "\n",
    "当 p=1 时，公式表示曼哈顿距离；\n",
    "\n",
    "当 p=2 时，公式表示欧氏距离；\n",
    "\n",
    "当 p→∞ 时，公式表示为切比雪夫距离。\n",
    "\n",
    "***\n",
    "切比雪夫距离：两个点坐标数值差的绝对值的最大值，用数学表示是：max(|x1-y1|,|x2-y2|)。\n",
    "\n",
    "***\n",
    "余弦距离：计算两个向量之间的夹角，在方向上计算两者之间的差异，对绝对数值不敏感。多用在兴趣相关性比较上。"
   ]
  },
  {
   "cell_type": "markdown",
   "metadata": {},
   "source": [
    "KD 树（K-Dimensional）是对数据点在 K 维空间中划分的一种数据结构。在 KD 树的构造中，每个节点都是 k 维数值点的二叉树。"
   ]
  },
  {
   "cell_type": "markdown",
   "metadata": {},
   "source": [
    "## 总结"
   ]
  },
  {
   "cell_type": "markdown",
   "metadata": {},
   "source": [
    "kaggle 项目学习：\n",
    "比特币趋势分析：https://www.kaggle.com/mczielinski/bitcoin-historical-data\n",
    "\n",
    "宇宙中的脉冲星预测：https://www.kaggle.com/pavanraj159/predicting-a-pulsar-star\n",
    "\n",
    "西班牙高铁票价：https://www.kaggle.com/thegurus/spanish-high-speed-rail-system-ticket-pricing\n",
    "\n",
    "按照标签寻找项目：beginner、tutorial、SVM、decision tree。"
   ]
  }
 ],
 "metadata": {
  "kernelspec": {
   "display_name": "Python 3",
   "language": "python",
   "name": "python3"
  },
  "language_info": {
   "codemirror_mode": {
    "name": "ipython",
    "version": 3
   },
   "file_extension": ".py",
   "mimetype": "text/x-python",
   "name": "python",
   "nbconvert_exporter": "python",
   "pygments_lexer": "ipython3",
   "version": "3.7.4"
  },
  "toc": {
   "base_numbering": 1,
   "nav_menu": {},
   "number_sections": true,
   "sideBar": true,
   "skip_h1_title": false,
   "title_cell": "Table of Contents",
   "title_sidebar": "Contents",
   "toc_cell": true,
   "toc_position": {
    "height": "calc(100% - 180px)",
    "left": "10px",
    "top": "150px",
    "width": "165px"
   },
   "toc_section_display": true,
   "toc_window_display": true
  },
  "varInspector": {
   "cols": {
    "lenName": 16,
    "lenType": 16,
    "lenVar": 40
   },
   "kernels_config": {
    "python": {
     "delete_cmd_postfix": "",
     "delete_cmd_prefix": "del ",
     "library": "var_list.py",
     "varRefreshCmd": "print(var_dic_list())"
    },
    "r": {
     "delete_cmd_postfix": ") ",
     "delete_cmd_prefix": "rm(",
     "library": "var_list.r",
     "varRefreshCmd": "cat(var_dic_list()) "
    }
   },
   "types_to_exclude": [
    "module",
    "function",
    "builtin_function_or_method",
    "instance",
    "_Feature"
   ],
   "window_display": false
  }
 },
 "nbformat": 4,
 "nbformat_minor": 2
}
