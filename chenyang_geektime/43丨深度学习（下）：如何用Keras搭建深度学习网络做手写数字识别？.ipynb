{
 "cells": [
  {
   "cell_type": "markdown",
   "metadata": {
    "toc": true
   },
   "source": [
    "<h1>Table of Contents<span class=\"tocSkip\"></span></h1>\n",
    "<div class=\"toc\"><ul class=\"toc-item\"><li><span><a href=\"#CNN-网络\" data-toc-modified-id=\"CNN-网络-1\"><span class=\"toc-item-num\">1&nbsp;&nbsp;</span>CNN 网络</a></span></li></ul></div>"
   ]
  },
  {
   "cell_type": "markdown",
   "metadata": {},
   "source": [
    "1. 进一步了解 CNN 网络，尤其是卷积的原理；\n",
    "1. 初步了解 LeNet 和 AlexNet；\n",
    "1. 选择学习深度学习框架；\n",
    "1. 使用 Keras 深度学习框架完成第一个深度学习任务。"
   ]
  },
  {
   "cell_type": "markdown",
   "metadata": {},
   "source": [
    "## CNN 网络"
   ]
  },
  {
   "cell_type": "markdown",
   "metadata": {},
   "source": [
    "卷积：<img src=\"https://static001.geekbang.org/resource/image/9d/cf/9d1bb65b30517775b632c10c1cb1c0cf.jpg\" style=\"width:500px\">"
   ]
  },
  {
   "cell_type": "markdown",
   "metadata": {},
   "source": [
    "1. 卷积核翻转 180 度，得到：<img src=\"https://static001.geekbang.org/resource/image/cb/33/cb755c0cf5868c39d71e0392146c4833.jpg\" style=\"width:200px\"><br><br>\n",
    "1. 将卷积核的第一个元素对准矩阵 X 左上角的第一个元素，对应元素相乘，然后再相加，得到：10*1+10*1+10*0+10*1+5*0+5*-1+10*0+5*-1+5*-1=15<br><br><img src=\"https://static001.geekbang.org/resource/image/90/11/90a3bbabba732a2a7ad97a24f3587411.jpg\" style=\"width:300px\"><br><br>\n",
    "1. 重复第二步，得到最终结果：<img src=\"https://static001.geekbang.org/resource/image/b8/6c/b824778383e3a898fe2399fb2eb8846c.jpg\" style=\"width:200px\">"
   ]
  },
  {
   "cell_type": "markdown",
   "metadata": {},
   "source": [
    "代码演示如下："
   ]
  },
  {
   "cell_type": "code",
   "execution_count": 1,
   "metadata": {
    "ExecuteTime": {
     "end_time": "2019-11-24T15:32:47.340324Z",
     "start_time": "2019-11-24T15:32:45.045151Z"
    }
   },
   "outputs": [
    {
     "name": "stdout",
     "output_type": "stream",
     "text": [
      "[[ 15  10   0]\n",
      " [ 10   0 -10]\n",
      " [  0 -10 -15]]\n"
     ]
    }
   ],
   "source": [
    "import numpy as np\n",
    "import pylab  # numpy 交互式运行\n",
    "from scipy import signal\n",
    "# 设置原图像\n",
    "img = np.array([[10, 10, 10, 10, 10], \n",
    "                [10, 5, 5, 5, 10], \n",
    "                [10, 5, 5, 5, 10], \n",
    "                [10, 5, 5, 5, 10], \n",
    "                [10, 10, 10, 10, 10]])\n",
    "# 定义卷积核\n",
    "fil = np.array([[ -1,-1, 0], \n",
    "                [ -1, 0, 1], \n",
    "                [ 0, 1, 1]])\n",
    "# 对原图像进行卷积操作\n",
    "res = signal.convolve2d(img, fil, mode='valid')\n",
    "# 输出卷积结果\n",
    "print(res)"
   ]
  },
  {
   "cell_type": "markdown",
   "metadata": {},
   "source": [
    "***"
   ]
  },
  {
   "cell_type": "markdown",
   "metadata": {
    "ExecuteTime": {
     "end_time": "2019-11-24T15:34:07.816347Z",
     "start_time": "2019-11-24T15:34:07.803370Z"
    }
   },
   "source": [
    "对图像进行卷积操作的原因："
   ]
  },
  {
   "cell_type": "code",
   "execution_count": 3,
   "metadata": {
    "ExecuteTime": {
     "end_time": "2019-11-24T15:40:55.623396Z",
     "start_time": "2019-11-24T15:40:55.381396Z"
    },
    "scrolled": true
   },
   "outputs": [
    {
     "ename": "ModuleNotFoundError",
     "evalue": "No module named 'cv2'",
     "output_type": "error",
     "traceback": [
      "\u001b[1;31m---------------------------------------------------------------------------\u001b[0m",
      "\u001b[1;31mModuleNotFoundError\u001b[0m                       Traceback (most recent call last)",
      "\u001b[1;32m<ipython-input-3-d7982a5e5384>\u001b[0m in \u001b[0;36m<module>\u001b[1;34m\u001b[0m\n\u001b[0;32m      1\u001b[0m \u001b[1;32mimport\u001b[0m \u001b[0mmatplotlib\u001b[0m\u001b[1;33m.\u001b[0m\u001b[0mpyplot\u001b[0m \u001b[1;32mas\u001b[0m \u001b[0mplt\u001b[0m\u001b[1;33m\u001b[0m\u001b[1;33m\u001b[0m\u001b[0m\n\u001b[0;32m      2\u001b[0m \u001b[1;32mimport\u001b[0m \u001b[0mpylab\u001b[0m\u001b[1;33m\u001b[0m\u001b[1;33m\u001b[0m\u001b[0m\n\u001b[1;32m----> 3\u001b[1;33m \u001b[1;32mimport\u001b[0m \u001b[0mcv2\u001b[0m\u001b[1;33m\u001b[0m\u001b[1;33m\u001b[0m\u001b[0m\n\u001b[0m\u001b[0;32m      4\u001b[0m \u001b[1;32mimport\u001b[0m \u001b[0mnumpy\u001b[0m \u001b[1;32mas\u001b[0m \u001b[0mnp\u001b[0m\u001b[1;33m\u001b[0m\u001b[1;33m\u001b[0m\u001b[0m\n\u001b[0;32m      5\u001b[0m \u001b[1;32mfrom\u001b[0m \u001b[0mscipy\u001b[0m \u001b[1;32mimport\u001b[0m \u001b[0msignal\u001b[0m\u001b[1;33m\u001b[0m\u001b[1;33m\u001b[0m\u001b[0m\n",
      "\u001b[1;31mModuleNotFoundError\u001b[0m: No module named 'cv2'"
     ]
    }
   ],
   "source": [
    "\n",
    "import matplotlib.pyplot as plt\n",
    "import pylab\n",
    "import cv2\n",
    "import numpy as np\n",
    "from scipy import signal\n",
    "# 读取灰度图像\n",
    "img = cv2.imread(\"./image/image_learn/haibao.jpg\", 0)\n",
    "# 显示灰度图像\n",
    "plt.imshow(img,cmap=\"gray\")\n",
    "pylab.show()\n",
    "# 设置卷积核\n",
    "fil = np.array([[ -1,-1, 0],\n",
    "                [ -1, 0, 1],\n",
    "                [  0, 1, 1]])\n",
    "# 卷积操作\n",
    "res = signal.convolve2d(img, fil, mode='valid')\n",
    "print(res)\n",
    "#显示卷积后的图片\n",
    "plt.imshow(res,cmap=\"gray\")\n",
    "pylab.show()"
   ]
  },
  {
   "cell_type": "code",
   "execution_count": null,
   "metadata": {},
   "outputs": [],
   "source": []
  }
 ],
 "metadata": {
  "kernelspec": {
   "display_name": "Python 3",
   "language": "python",
   "name": "python3"
  },
  "language_info": {
   "codemirror_mode": {
    "name": "ipython",
    "version": 3
   },
   "file_extension": ".py",
   "mimetype": "text/x-python",
   "name": "python",
   "nbconvert_exporter": "python",
   "pygments_lexer": "ipython3",
   "version": "3.7.4"
  },
  "toc": {
   "base_numbering": 1,
   "nav_menu": {},
   "number_sections": true,
   "sideBar": true,
   "skip_h1_title": false,
   "title_cell": "Table of Contents",
   "title_sidebar": "Contents",
   "toc_cell": true,
   "toc_position": {
    "height": "calc(100% - 180px)",
    "left": "10px",
    "top": "150px",
    "width": "165px"
   },
   "toc_section_display": true,
   "toc_window_display": true
  },
  "varInspector": {
   "cols": {
    "lenName": 16,
    "lenType": 16,
    "lenVar": 40
   },
   "kernels_config": {
    "python": {
     "delete_cmd_postfix": "",
     "delete_cmd_prefix": "del ",
     "library": "var_list.py",
     "varRefreshCmd": "print(var_dic_list())"
    },
    "r": {
     "delete_cmd_postfix": ") ",
     "delete_cmd_prefix": "rm(",
     "library": "var_list.r",
     "varRefreshCmd": "cat(var_dic_list()) "
    }
   },
   "types_to_exclude": [
    "module",
    "function",
    "builtin_function_or_method",
    "instance",
    "_Feature"
   ],
   "window_display": false
  }
 },
 "nbformat": 4,
 "nbformat_minor": 2
}
