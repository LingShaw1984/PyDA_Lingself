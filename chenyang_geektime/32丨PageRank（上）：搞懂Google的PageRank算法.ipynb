{
 "cells": [
  {
   "cell_type": "markdown",
   "metadata": {
    "toc": true
   },
   "source": [
    "<h1>Table of Contents<span class=\"tocSkip\"></span></h1>\n",
    "<div class=\"toc\"><ul class=\"toc-item\"><li><span><a href=\"#基本概念\" data-toc-modified-id=\"基本概念-1\"><span class=\"toc-item-num\">1&nbsp;&nbsp;</span>基本概念</a></span><ul class=\"toc-item\"><li><span><a href=\"#例子\" data-toc-modified-id=\"例子-1.1\"><span class=\"toc-item-num\">1.1&nbsp;&nbsp;</span>例子</a></span></li><li><span><a href=\"#实际问题\" data-toc-modified-id=\"实际问题-1.2\"><span class=\"toc-item-num\">1.2&nbsp;&nbsp;</span>实际问题</a></span></li><li><span><a href=\"#PageRank-的随机浏览模型\" data-toc-modified-id=\"PageRank-的随机浏览模型-1.3\"><span class=\"toc-item-num\">1.3&nbsp;&nbsp;</span>PageRank 的随机浏览模型</a></span></li></ul></li><li><span><a href=\"#总结\" data-toc-modified-id=\"总结-2\"><span class=\"toc-item-num\">2&nbsp;&nbsp;</span>总结</a></span></li><li><span><a href=\"#练习\" data-toc-modified-id=\"练习-3\"><span class=\"toc-item-num\">3&nbsp;&nbsp;</span>练习</a></span></li></ul></div>"
   ]
  },
  {
   "cell_type": "markdown",
   "metadata": {},
   "source": [
    "## 基本概念"
   ]
  },
  {
   "cell_type": "markdown",
   "metadata": {},
   "source": [
    "出链：链接出去的链接。\n",
    "\n",
    "入链：链接进来的链接。\n",
    "\n",
    "网页影响力的数学公式：![](https://static001.geekbang.org/resource/image/70/0c/70104ab44fa1d9d690f99dc328d8af0c.png)"
   ]
  },
  {
   "cell_type": "markdown",
   "metadata": {},
   "source": [
    "其中：\n",
    "- u：待评估页面；\n",
    "- Bu：页面 u 的入链集合。\n",
    "\n",
    "针对入链集合中的任意页面 v，它能给 u 带来的影响力是其自身的影响力 PR(v) 除以 v 页面的出链数量，即页面 v 把影响力 PR(v) 平均分配给了它的出链，这样能统计所有能给 u 带来链接的页面 v，得到的总和就是网页 u 的影响力，即为 PR(u)。"
   ]
  },
  {
   "cell_type": "markdown",
   "metadata": {},
   "source": [
    "### 例子"
   ]
  },
  {
   "cell_type": "markdown",
   "metadata": {},
   "source": [
    "<img src=\"https://static001.geekbang.org/resource/image/81/36/814d53ff8d73113631482e71b7c53636.png\" style=\"width:400px\">"
   ]
  },
  {
   "cell_type": "markdown",
   "metadata": {},
   "source": [
    "A：出链包括 B、C、D，则各链的跳转概率均为 1/3。\n",
    "\n",
    "B：出链包括 A、D，则各链的跳转概率为 1/2。\n",
    "\n",
    "同理可得，各网页的转移矩阵：![](https://static001.geekbang.org/resource/image/20/d4/204b0934f166d6945a90185aa2c95dd4.png)"
   ]
  },
  {
   "cell_type": "markdown",
   "metadata": {},
   "source": [
    "假设：A、B、C、D 四个页面的初始影响力都相同，则：![](https://static001.geekbang.org/resource/image/a8/b8/a8eb12b5242e082b5d2281300c326bb8.png)\n",
    "\n",
    "\n",
    "进行第一次转移后，各页面的影响力为：![](https://static001.geekbang.org/resource/image/fc/8c/fcbcdd8e96384f855b4f7c842627ff8c.png)\n",
    "\n",
    "再使用转移矩阵（？）乘以 w1 得到 w2...不断迭代，直到 wn 影响力不再发生变化，可以收敛到（0.3333, 0.2222, 0.2222, 0.2222），也就是对应着 A、B、C、D 四个页面最终平衡状态下的影响力。"
   ]
  },
  {
   "cell_type": "markdown",
   "metadata": {},
   "source": [
    "### 实际问题"
   ]
  },
  {
   "cell_type": "markdown",
   "metadata": {},
   "source": [
    "1. 等级泄露（Rank Leak）：如果某网页没有出链，则会导致其他网页的 PR 值为0；\n",
    "<img src=\"https://static001.geekbang.org/resource/image/77/62/77336108b0233638a35bfd7450438162.png\" style=\"width:400px\"><br><br>\n",
    "1. 等级沉没（Rank Sink）：如果某网页只有出链，则会导致自身的 PR 值为0。\n",
    "<br><br><img src=\"https://static001.geekbang.org/resource/image/0d/e6/0d113854fb56116d79efe7f0e0374fe6.png\" style=\"width:400px\">"
   ]
  },
  {
   "cell_type": "markdown",
   "metadata": {},
   "source": [
    "### PageRank 的随机浏览模型"
   ]
  },
  {
   "cell_type": "markdown",
   "metadata": {},
   "source": [
    "拉里·佩奇假设了这样的场景：用户并不都是按照跳转链接的方式来上网，还有可能是不论处于哪个页面都有概率访问到其他任意的页面，比如说用户就是要直接输入网址访问其他页面。因此，他定义了一个阻尼因子 d，其代表用户按照跳转链接来上网的概率，通常取值为 0.85。数学公式如下：![](https://static001.geekbang.org/resource/image/5f/8f/5f40c980c2f728f12159058ea19a4d8f.png)"
   ]
  },
  {
   "cell_type": "markdown",
   "metadata": {},
   "source": [
    "其中：\n",
    "- 1-d=0.15：代表用户不是通过跳转链接的方式来访问网页。\n",
    "- N：总网页数。"
   ]
  },
  {
   "cell_type": "markdown",
   "metadata": {},
   "source": [
    "## 总结"
   ]
  },
  {
   "cell_type": "markdown",
   "metadata": {},
   "source": [
    "![](https://static001.geekbang.org/resource/image/f9/7d/f936296fed70f27ba23064ec14a7e37d.png)"
   ]
  },
  {
   "cell_type": "markdown",
   "metadata": {},
   "source": [
    "## 练习"
   ]
  },
  {
   "cell_type": "markdown",
   "metadata": {},
   "source": [
    "1. PageRank 的算法原理；\n",
    "1. 生活中有哪些应用 PageRank 的场景。"
   ]
  },
  {
   "cell_type": "markdown",
   "metadata": {},
   "source": [
    "PageRank 的算法原理：避免网页只存在出链（等级沉没）或没有出链（等级沉没），提出阻尼系数，即某网页还是有一定概率被直接访问。因此，该网页尽管不存在出链或只有出链，还是有一定影响力，比如 hao123 网页导航页、谷歌搜索网页等等。"
   ]
  }
 ],
 "metadata": {
  "kernelspec": {
   "display_name": "Python 3",
   "language": "python",
   "name": "python3"
  },
  "language_info": {
   "codemirror_mode": {
    "name": "ipython",
    "version": 3
   },
   "file_extension": ".py",
   "mimetype": "text/x-python",
   "name": "python",
   "nbconvert_exporter": "python",
   "pygments_lexer": "ipython3",
   "version": "3.7.4"
  },
  "toc": {
   "base_numbering": 1,
   "nav_menu": {},
   "number_sections": true,
   "sideBar": true,
   "skip_h1_title": false,
   "title_cell": "Table of Contents",
   "title_sidebar": "Contents",
   "toc_cell": true,
   "toc_position": {},
   "toc_section_display": true,
   "toc_window_display": true
  },
  "varInspector": {
   "cols": {
    "lenName": 16,
    "lenType": 16,
    "lenVar": 40
   },
   "kernels_config": {
    "python": {
     "delete_cmd_postfix": "",
     "delete_cmd_prefix": "del ",
     "library": "var_list.py",
     "varRefreshCmd": "print(var_dic_list())"
    },
    "r": {
     "delete_cmd_postfix": ") ",
     "delete_cmd_prefix": "rm(",
     "library": "var_list.r",
     "varRefreshCmd": "cat(var_dic_list()) "
    }
   },
   "types_to_exclude": [
    "module",
    "function",
    "builtin_function_or_method",
    "instance",
    "_Feature"
   ],
   "window_display": false
  }
 },
 "nbformat": 4,
 "nbformat_minor": 2
}
