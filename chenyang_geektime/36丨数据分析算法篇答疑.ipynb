{
 "cells": [
  {
   "cell_type": "markdown",
   "metadata": {
    "toc": true
   },
   "source": [
    "<h1>Table of Contents<span class=\"tocSkip\"></span></h1>\n",
    "<div class=\"toc\"><ul class=\"toc-item\"><li><span><a href=\"#答疑内容\" data-toc-modified-id=\"答疑内容-1\"><span class=\"toc-item-num\">1&nbsp;&nbsp;</span>答疑内容</a></span><ul class=\"toc-item\"><li><span><a href=\"#17-19-篇：决策树\" data-toc-modified-id=\"17-19-篇：决策树-1.1\"><span class=\"toc-item-num\">1.1&nbsp;&nbsp;</span>17-19 篇：决策树</a></span></li><li><span><a href=\"#20-21-篇：朴素贝叶斯\" data-toc-modified-id=\"20-21-篇：朴素贝叶斯-1.2\"><span class=\"toc-item-num\">1.2&nbsp;&nbsp;</span>20-21 篇：朴素贝叶斯</a></span></li><li><span><a href=\"#22-23-篇：SVM-算法\" data-toc-modified-id=\"22-23-篇：SVM-算法-1.3\"><span class=\"toc-item-num\">1.3&nbsp;&nbsp;</span>22-23 篇：SVM 算法</a></span></li><li><span><a href=\"#26-27-篇：K-Means\" data-toc-modified-id=\"26-27-篇：K-Means-1.4\"><span class=\"toc-item-num\">1.4&nbsp;&nbsp;</span>26-27 篇：K-Means</a></span></li><li><span><a href=\"#28-29-篇：EM-聚类\" data-toc-modified-id=\"28-29-篇：EM-聚类-1.5\"><span class=\"toc-item-num\">1.5&nbsp;&nbsp;</span>28-29 篇：EM 聚类</a></span></li><li><span><a href=\"#30-31-篇：关联规则挖掘\" data-toc-modified-id=\"30-31-篇：关联规则挖掘-1.6\"><span class=\"toc-item-num\">1.6&nbsp;&nbsp;</span>30-31 篇：关联规则挖掘</a></span></li><li><span><a href=\"#34-35-篇：AdaBoost-算法\" data-toc-modified-id=\"34-35-篇：AdaBoost-算法-1.7\"><span class=\"toc-item-num\">1.7&nbsp;&nbsp;</span>34-35 篇：AdaBoost 算法</a></span></li></ul></li><li><span><a href=\"#练习\" data-toc-modified-id=\"练习-2\"><span class=\"toc-item-num\">2&nbsp;&nbsp;</span>练习</a></span><ul class=\"toc-item\"><li><span><a href=\"#sklearn-自带集\" data-toc-modified-id=\"sklearn-自带集-2.1\"><span class=\"toc-item-num\">2.1&nbsp;&nbsp;</span>sklearn 自带集</a></span></li><li><span><a href=\"#Kaggle-相关\" data-toc-modified-id=\"Kaggle-相关-2.2\"><span class=\"toc-item-num\">2.2&nbsp;&nbsp;</span>Kaggle 相关</a></span></li></ul></li></ul></div>"
   ]
  },
  {
   "cell_type": "markdown",
   "metadata": {},
   "source": [
    "## 答疑内容"
   ]
  },
  {
   "cell_type": "markdown",
   "metadata": {},
   "source": [
    "### 17-19 篇：决策树"
   ]
  },
  {
   "cell_type": "markdown",
   "metadata": {},
   "source": [
    "1. 在探索数据的代码中，print(boston.feature_names) 有什么作用？\n",
    "<br>\n",
    "boston 数据集中有 5 个 keys：data、target、feature_names、DESCR、filename。\n",
    "<br>\n",
    "<br>\n",
    "1. 决策树的剪枝在 sklearn 中是如何实现的？\n",
    "<br>\n",
    "<br>\n",
    "一般对决策树进行缩减，常用方法是在构造 DecisionTreeClassifier 类时，对参数进行设置，比如 max_depth 表示树的最大深度、max_leaf_nodes 表示最大的叶子节点数。\n",
    "<br>\n",
    "<br>\n",
    "1. 对泰坦尼克号的乘客做生存预测的时候，Carbin 字段缺失率分别为 77% 和 78%，Age 和 Fare 字段有缺失值，是如何判断出来的？\n",
    "<br>\n",
    "略。\n",
    "<br>\n",
    "<br>\n",
    "1. 在用 pd.read_csv 时报错“UnicodeDecodeError utf-8 codec can’t decode byte 0xcf in position 15: invalid continuation byte”是什么问题？\n",
    "<br>\n",
    "略。"
   ]
  },
  {
   "cell_type": "markdown",
   "metadata": {},
   "source": [
    "### 20-21 篇：朴素贝叶斯"
   ]
  },
  {
   "cell_type": "markdown",
   "metadata": {},
   "source": [
    "1. 在朴素贝叶斯中，我们要统计的是属性的条件概率，也就是假设取出来的是白色的棋子，那么它属于盒子 A 的概率是 2/3。这个我算的是 3/5，跟老师的不一样，老师可以给一下详细步骤吗？\n",
    "<br>\n",
    "略。\n",
    "<br>\n",
    "<br>"
   ]
  },
  {
   "cell_type": "markdown",
   "metadata": {},
   "source": [
    "### 22-23 篇：SVM 算法"
   ]
  },
  {
   "cell_type": "markdown",
   "metadata": {},
   "source": [
    "1. 答疑 1：SVM 多分类器是集成算法么？\n",
    "<br>\n",
    "略。\n",
    "<br><br>"
   ]
  },
  {
   "cell_type": "markdown",
   "metadata": {},
   "source": [
    "### 26-27 篇：K-Means"
   ]
  },
  {
   "cell_type": "markdown",
   "metadata": {},
   "source": [
    "1. 我在给 20 支亚洲球队做聚类模拟的时候，使用 K-Means 算法需要重新计算这三个类的中心点，最简单的方式就是取平均值，然后根据新的中心点按照距离远近重新分配球队的分类。对中心点的重新计算不太理解。\n",
    "<br>\n",
    "略。\n",
    "<br><br>"
   ]
  },
  {
   "cell_type": "markdown",
   "metadata": {},
   "source": [
    "### 28-29 篇：EM 聚类"
   ]
  },
  {
   "cell_type": "markdown",
   "metadata": {},
   "source": [
    "1. 关于 EM 聚类初始参数设置的问题，初始参数随机设置会影响聚类的效果吗。会不会初始参数不对，聚类就出错了呢？\n",
    "<br>\n",
    "不会。其实只是增加其迭代次数。EM 聚类其实就是从错误值开始不断迭代，逐渐接近正确值，最终得到错误值。"
   ]
  },
  {
   "cell_type": "markdown",
   "metadata": {},
   "source": [
    "### 30-31 篇：关联规则挖掘"
   ]
  },
  {
   "cell_type": "markdown",
   "metadata": {},
   "source": [
    "1. 看不懂构造 FP 树的过程，面包和啤酒为什么会拆分呢？\n",
    "<br>\n",
    "略。\n",
    "<br><br>\n",
    "1. 不怎么会找元素的 XPath 路径。\n",
    "<br>\n",
    "略。\n",
    "<br><br>\n",
    "1. 最小支持度可以设置小一些，如果最小支持度小，那么置信度就要设置得相对大一点，不然即使提升度高，也有可能是巧合。这个参数跟数据量以及项的数量有关。理解对吗？\n",
    "<br>\n",
    "一般来说，最小置信度都会大一些，比如 1.0、0.9 或者 0.8.最小支持度和数据及大小和特点有关，可以尝试一些数值来观察结果，比如 0.1、0.5。"
   ]
  },
  {
   "cell_type": "markdown",
   "metadata": {},
   "source": [
    "### 34-35 篇：AdaBoost 算法"
   ]
  },
  {
   "cell_type": "markdown",
   "metadata": {},
   "source": [
    "1. 关于 $Z_k$ 和 $y_i$ 的含义。\n",
    "<br>\n",
    "<img src=\"https://static001.geekbang.org/resource/image/1c/cd/1c812efcf6173652cf152f2ad25987cd.png\">\n",
    "<br><br>\n",
    "$Z_k$ 代表规范化因子：<img src=\"https://static001.geekbang.org/resource/image/94/58/940d9b4b8889c668074e1dbaac275f58.png\">\n",
    "<br>\n",
    "$y_i$ 代表的是目标的结果。"
   ]
  },
  {
   "cell_type": "markdown",
   "metadata": {},
   "source": [
    "## 练习"
   ]
  },
  {
   "cell_type": "markdown",
   "metadata": {},
   "source": [
    "1. 列举 sklearn 自带的数据集并查看其他数据集的特征名称；1~2 个即可。\n",
    "1. Kaggle 网站的使用经验。"
   ]
  },
  {
   "cell_type": "markdown",
   "metadata": {},
   "source": [
    "### sklearn 自带集"
   ]
  },
  {
   "cell_type": "markdown",
   "metadata": {},
   "source": [
    "1)鸢尾花数据集：load_iris（）：用于分类任务的数据集；\n",
    "\n",
    "2)手写数字数据集：load_digits（）:用于分类任务或者降维任务的数据集；\n",
    "\n",
    "3)乳腺癌数据集load_breast_cancer（）：简单经典的用于二分类任务的数据集；\n",
    "\n",
    "4)糖尿病数据集：load_diabetes（）：经典的用于回归认为的数据集，值得注意的是，这10个特征中的每个特征都已经被处理成0均值，方差归一化的特征值。；\n",
    "\n",
    "5)波士顿房价数据集：load_boston（）：经典的用于回归任务的数据集；\n",
    "\n",
    "6)体能训练数据集：load_linnerud（）：经典的用于多变量回归任务的数据集。"
   ]
  },
  {
   "cell_type": "markdown",
   "metadata": {},
   "source": [
    "### Kaggle 相关"
   ]
  },
  {
   "cell_type": "markdown",
   "metadata": {},
   "source": [
    "查找数据集：https://www.kaggle.com/datasets\n",
    "\n",
    "Titanic: Machine Learning from Disaster\n",
    "Titanic乘客生存预测\n",
    "https://www.kaggle.com/c/titanic\n",
    "\n",
    "House Prices-Advanced Regression Techniques\n",
    "预测房价\n",
    "https://www.kaggle.com/c/house-prices-advanced-regression-techniques\n",
    "\n",
    "MNIST手写数字识别\n",
    "https://www.kaggle.com/scolianni/mnistasjpg\n",
    "\n",
    "Passenger Satisfaction\n",
    "乘客满意度，提供了美国航空公司US Airline乘客满意度数据\n",
    "https://www.kaggle.com/johndddddd/customer-satisfaction\n",
    "\n",
    "Bike Sharing Demand\n",
    "自行车共享数据库，用于预测自行车的共享需求\n",
    "https://www.kaggle.com/lakshmi25npathi/bike-sharing-dataset\n",
    "\n",
    "San Francisco Building Permits\n",
    "5年时间，三藩市20万的建筑许可\n",
    "https://www.kaggle.com/aparnashastry/building-permit-applications-data\n",
    "\n",
    "San Francisco Crime Classification\n",
    "12年时间的三藩市的犯罪记录\n",
    "https://www.kaggle.com/kaggle/san-francisco-crime-classification"
   ]
  }
 ],
 "metadata": {
  "kernelspec": {
   "display_name": "Python 3",
   "language": "python",
   "name": "python3"
  },
  "language_info": {
   "codemirror_mode": {
    "name": "ipython",
    "version": 3
   },
   "file_extension": ".py",
   "mimetype": "text/x-python",
   "name": "python",
   "nbconvert_exporter": "python",
   "pygments_lexer": "ipython3",
   "version": "3.7.4"
  },
  "toc": {
   "base_numbering": 1,
   "nav_menu": {},
   "number_sections": true,
   "sideBar": true,
   "skip_h1_title": false,
   "title_cell": "Table of Contents",
   "title_sidebar": "Contents",
   "toc_cell": true,
   "toc_position": {
    "height": "calc(100% - 180px)",
    "left": "10px",
    "top": "150px",
    "width": "165px"
   },
   "toc_section_display": true,
   "toc_window_display": true
  },
  "varInspector": {
   "cols": {
    "lenName": 16,
    "lenType": 16,
    "lenVar": 40
   },
   "kernels_config": {
    "python": {
     "delete_cmd_postfix": "",
     "delete_cmd_prefix": "del ",
     "library": "var_list.py",
     "varRefreshCmd": "print(var_dic_list())"
    },
    "r": {
     "delete_cmd_postfix": ") ",
     "delete_cmd_prefix": "rm(",
     "library": "var_list.r",
     "varRefreshCmd": "cat(var_dic_list()) "
    }
   },
   "types_to_exclude": [
    "module",
    "function",
    "builtin_function_or_method",
    "instance",
    "_Feature"
   ],
   "window_display": false
  }
 },
 "nbformat": 4,
 "nbformat_minor": 2
}
