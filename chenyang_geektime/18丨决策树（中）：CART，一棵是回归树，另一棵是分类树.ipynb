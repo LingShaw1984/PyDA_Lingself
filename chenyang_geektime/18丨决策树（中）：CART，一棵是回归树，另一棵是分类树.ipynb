{
 "cells": [
  {
   "cell_type": "markdown",
   "metadata": {},
   "source": [
    "CART 算法，英文全称叫做 Classification And Regression Tree，中文叫做分类回归树。\n",
    "\n",
    "分类树：处理离散数据，即定性数据，输出样本的类别；\n",
    "\n",
    "回归树：处理定量数据，主要是对连续性数据进行预测，输出数值。"
   ]
  },
  {
   "cell_type": "markdown",
   "metadata": {},
   "source": [
    "## CART 算法构造分类树"
   ]
  },
  {
   "cell_type": "markdown",
   "metadata": {},
   "source": [
    "基尼系数：反应样本的不确定度。基尼系数越小，样本之间的差异越小，不确定度越低。因此，CART 算法在构造分类树时，会选择基尼系数最小的属性作为属性划分。\n",
    "\n",
    "计算公式：![](https://static001.geekbang.org/resource/image/f9/89/f9bb4cce5b895499cabc714eb372b089.png)\n",
    "\n",
    "其中：\n",
    "\n",
    "- p(Ck|t)：节点 t 属于类别 Ck 的概率；\n",
    "\n",
    "节点 t 的基尼系数为 1 减去各类别 Ck 概率平方和。"
   ]
  },
  {
   "cell_type": "markdown",
   "metadata": {},
   "source": [
    "### 示例"
   ]
  },
  {
   "cell_type": "code",
   "execution_count": 2,
   "metadata": {
    "ExecuteTime": {
     "end_time": "2019-11-16T11:27:18.990288Z",
     "start_time": "2019-11-16T11:27:18.954553Z"
    },
    "scrolled": true
   },
   "outputs": [
    {
     "name": "stdout",
     "output_type": "stream",
     "text": [
      "CART 分类树准确率 0.9600\n"
     ]
    }
   ],
   "source": [
    "from sklearn.model_selection import train_test_split  # 构建训练、测试数据\n",
    "from sklearn.metrics import accuracy_score  # 计算准确率\n",
    "from sklearn.tree import DecisionTreeClassifier  # 用于创建 CART 分类树\n",
    "from sklearn.datasets import load_iris  # 导入数据集\n",
    "\n",
    "iris = load_iris()  # 准备数据集\n",
    "\n",
    "features = iris.data  # 获取特征\n",
    "labels = iris.target  # 获取标识\n",
    "\n",
    "# 创建训练集和测试集， 33% 的数据为测试集，其余为训练集\n",
    "train_features, test_features, train_labels, test_labels = train_test_split(\n",
    "    features, labels, test_size=0.33, random_state=0)\n",
    "\n",
    "# 创建CART 分类树\n",
    "clf = DecisionTreeClassifier(criterion='gini')\n",
    "\n",
    "# 拟合 CART 分类树\n",
    "clf = clf.fit(train_features, train_labels)\n",
    "\n",
    "# 预测\n",
    "test_predict = clf.predict(test_features)\n",
    "\n",
    "# 评价模型\n",
    "score = accuracy_score(test_labels, test_predict)\n",
    "print(\"CART 分类树准确率 %.4lf\" % score)"
   ]
  },
  {
   "cell_type": "markdown",
   "metadata": {},
   "source": [
    "## CART 算法构造回归树"
   ]
  },
  {
   "cell_type": "markdown",
   "metadata": {},
   "source": [
    "与分类树不同的是，回归树划分节点的方法是**最小绝对偏差（LAD）、最小二乘偏差（LSD）**。"
   ]
  },
  {
   "cell_type": "markdown",
   "metadata": {},
   "source": [
    "### 示例"
   ]
  },
  {
   "cell_type": "code",
   "execution_count": 7,
   "metadata": {
    "ExecuteTime": {
     "end_time": "2019-11-16T12:01:58.659793Z",
     "start_time": "2019-11-16T12:01:58.619070Z"
    }
   },
   "outputs": [
    {
     "name": "stdout",
     "output_type": "stream",
     "text": [
      "['CRIM' 'ZN' 'INDUS' 'CHAS' 'NOX' 'RM' 'AGE' 'DIS' 'RAD' 'TAX' 'PTRATIO'\n",
      " 'B' 'LSTAT']\n",
      "回归树二乘偏差均值： 34.552095808383235\n",
      "回归树绝对值偏差均值： 3.330538922155689\n"
     ]
    }
   ],
   "source": [
    "from sklearn.metrics import mean_squared_error # 导入二乘偏差均值包\n",
    "from sklearn.model_selection import train_test_split # 导入训练、测试集\n",
    "from sklearn.datasets import load_boston # 导入数据集\n",
    "from sklearn.metrics import mean_absolute_error # 导入绝对值偏差均值\n",
    "from sklearn.tree import DecisionTreeRegressor # 导入回归树\n",
    "\n",
    "boston = load_boston() # 加载数据\n",
    "\n",
    "print(boston.feature_names)\n",
    "\n",
    "features = boston.data # 特征值\n",
    "prices = boston.target # 定量数据\n",
    "\n",
    "train_features, test_features, train_prices, test_prices = train_test_split(\n",
    "    features, prices, test_size=0.33)\n",
    "\n",
    "dtf = DecisionTreeRegressor() # 初始化一颗回归树\n",
    "\n",
    "dtf.fit(train_features, train_prices) # 拟合回归树\n",
    "\n",
    "predict_price = dtf.predict(test_features) # 预测\n",
    "\n",
    "print(\"回归树二乘偏差均值：\", mean_squared_error(test_prices,predict_price)) # 求二乘偏差均值\n",
    "print(\"回归树绝对值偏差均值：\", mean_absolute_error(test_prices,predict_price)) # 求绝对值偏差均值"
   ]
  },
  {
   "cell_type": "markdown",
   "metadata": {},
   "source": [
    "## CART 决策树的剪枝"
   ]
  },
  {
   "cell_type": "markdown",
   "metadata": {},
   "source": [
    "CCP(cost-complexity-prune)，代价复杂度。指标：节点的表面误差率增益值。公式如下：![](https://static001.geekbang.org/resource/image/6b/95/6b9735123d45e58f0b0afc7c3f68cd95.png)"
   ]
  },
  {
   "cell_type": "markdown",
   "metadata": {},
   "source": [
    "其中：\n",
    "- Tt：以 t 为根节点的子树；\n",
    "\n",
    "- C(Tt)：节点 t 的子树未被裁剪时，子树 Tt 的误差；\n",
    "\n",
    "- C(t)：节点 t 的子树被剪枝后节点 t 的误差；\n",
    "\n",
    "- |Tt|：子树 Tt 的叶子数，剪枝后，T 的叶子数减少了 |Tt|-1。\n",
    "\n",
    "节点的表面误差率增益值 = 节点 t 的子树被剪枝后的误差变化 / 剪掉的叶子数量"
   ]
  },
  {
   "cell_type": "markdown",
   "metadata": {},
   "source": [
    "## 思考题"
   ]
  },
  {
   "cell_type": "markdown",
   "metadata": {},
   "source": [
    "- ID3、C4.5、CART 分类树在做节点划分时的区别；\n",
    "\n",
    "\n",
    "- 对 sklearn 中的数据集 load_digits() 创建一个分类树，并且选取一部分测试集，统计分类树的准确率。"
   ]
  },
  {
   "cell_type": "markdown",
   "metadata": {},
   "source": [
    "ID3、C4.5、CART 分类树在做节点划分时的区别:\n",
    "\n",
    "- ID3 ：选取信息增益大的作为节点，因此容易倾向选择值多的属性；\n",
    "\n",
    "- C4.5：选取信息增益率最大的作为节点；\n",
    "\n",
    "- CART 分类树：选取基尼系数小的作为节点；\n",
    "\n",
    "- CART 回归树：选取二乘偏差或绝对值偏差小的作为节点。"
   ]
  },
  {
   "cell_type": "markdown",
   "metadata": {},
   "source": [
    "load_digits():"
   ]
  },
  {
   "cell_type": "code",
   "execution_count": null,
   "metadata": {},
   "outputs": [],
   "source": []
  }
 ],
 "metadata": {
  "kernelspec": {
   "display_name": "Python 3",
   "language": "python",
   "name": "python3"
  },
  "language_info": {
   "codemirror_mode": {
    "name": "ipython",
    "version": 3
   },
   "file_extension": ".py",
   "mimetype": "text/x-python",
   "name": "python",
   "nbconvert_exporter": "python",
   "pygments_lexer": "ipython3",
   "version": "3.7.4"
  },
  "toc": {
   "base_numbering": 1,
   "nav_menu": {},
   "number_sections": true,
   "sideBar": true,
   "skip_h1_title": false,
   "title_cell": "Table of Contents",
   "title_sidebar": "Contents",
   "toc_cell": false,
   "toc_position": {},
   "toc_section_display": true,
   "toc_window_display": true
  },
  "varInspector": {
   "cols": {
    "lenName": 16,
    "lenType": 16,
    "lenVar": 40
   },
   "kernels_config": {
    "python": {
     "delete_cmd_postfix": "",
     "delete_cmd_prefix": "del ",
     "library": "var_list.py",
     "varRefreshCmd": "print(var_dic_list())"
    },
    "r": {
     "delete_cmd_postfix": ") ",
     "delete_cmd_prefix": "rm(",
     "library": "var_list.r",
     "varRefreshCmd": "cat(var_dic_list()) "
    }
   },
   "types_to_exclude": [
    "module",
    "function",
    "builtin_function_or_method",
    "instance",
    "_Feature"
   ],
   "window_display": false
  }
 },
 "nbformat": 4,
 "nbformat_minor": 2
}
