{
 "cells": [
  {
   "cell_type": "markdown",
   "metadata": {},
   "source": [
    "## 爬取豆瓣电影"
   ]
  },
  {
   "cell_type": "markdown",
   "metadata": {},
   "source": [
    "### 爬取步骤\n",
    "1、发送请求：Request\n",
    "\n",
    "2、获取数据：Response\n",
    "\n",
    "3、解析数据\n",
    "\n",
    "4、分析数据"
   ]
  },
  {
   "cell_type": "markdown",
   "metadata": {},
   "source": [
    "### 代码内容"
   ]
  },
  {
   "cell_type": "code",
   "execution_count": 46,
   "metadata": {},
   "outputs": [
    {
     "name": "stdout",
     "output_type": "stream",
     "text": [
      "['1']\n",
      "['1', '肖申克的救赎']\n",
      "['2']\n",
      "['2', '霸王别姬']\n",
      "['3']\n",
      "['3', '阿甘正传']\n",
      "['4']\n",
      "['4', '这个杀手不太冷']\n",
      "['5']\n",
      "['5', '美丽人生']\n",
      "['6']\n",
      "['6', '泰坦尼克号']\n",
      "['7']\n",
      "['7', '千与千寻']\n",
      "['8']\n",
      "['8', '辛德勒的名单']\n",
      "['9']\n",
      "['9', '盗梦空间']\n",
      "['10']\n",
      "['10', '忠犬八公的故事']\n",
      "['11']\n",
      "['11', '机器人总动员']\n",
      "['12']\n",
      "['12', '三傻大闹宝莱坞']\n",
      "['13']\n",
      "['13', '放牛班的春天']\n",
      "['14']\n",
      "['14', '楚门的世界']\n",
      "['15']\n",
      "['15', '海上钢琴师']\n",
      "['16']\n",
      "['16', '星际穿越']\n",
      "['17']\n",
      "['17', '大话西游之大圣娶亲']\n",
      "['18']\n",
      "['18', '龙猫']\n",
      "['19']\n",
      "['19', '熔炉']\n",
      "['20']\n",
      "['20', '教父']\n",
      "['21']\n",
      "['21', '无间道']\n",
      "['22']\n",
      "['22', '疯狂动物城']\n",
      "['23']\n",
      "['23', '当幸福来敲门']\n",
      "['24']\n",
      "['24', '怦然心动']\n",
      "['25']\n",
      "['25', '触不可及']\n"
     ]
    }
   ],
   "source": [
    "import requests\n",
    "import re\n",
    "\n",
    "class scrapeDoubanMovies(object):\n",
    "    \n",
    "    def __init__(self, url, headers):\n",
    "        self.url = url\n",
    "        self.headers = headers\n",
    "        \n",
    "    def getOnePage(self, start_num):\n",
    "        url = self.url.format(start_num)\n",
    "        response = requests.get(url=url, headers=self.headers)\n",
    "        \n",
    "        if response.status_code == 200:\n",
    "            return response.content.decode('utf-8')\n",
    "        else:\n",
    "            return None\n",
    "        \n",
    "    def parse_Data(self,html):\n",
    "        pattern = re.compile('<em class=\"\">(\\d+)</em>.*?alt=\"(.+?)\"\\ssrc=', re.S)\n",
    "#         print(re.findall(pattern,html))\n",
    "        return re.findall(pattern,html)\n",
    "    \n",
    "    def save_Data(self,data):\n",
    "        for valueList in data:\n",
    "            list_01 = []\n",
    "            for value in valueList:\n",
    "                list_01.append(value)\n",
    "                \n",
    "                print(list_01)\n",
    "                splitStr = \"\".join(list_01) + \"\\n\"\n",
    "#                 print(splitStr)\n",
    "                with open(\"splitStr.txt\", \"a\", encoding=\"utf-8\") as f:\n",
    "                    f.write(splitStr)\n",
    "                    \n",
    "if __name__ == \"__main__\":\n",
    "    url = \"https://movie.douban.com/top250?start={}&filter=\"\n",
    "    headers = {\n",
    "        'User-Agent':\n",
    "        'Mozilla/5.0 (Windows NT 10.0; Win64; x64; rv:69.0) Gecko/20100101 Firefox/69.0'\n",
    "    }\n",
    "    \n",
    "    my_spider = scrapeDoubanMovies(url, headers)\n",
    "    \n",
    "    for i in range(0,2, 25):\n",
    "        html = my_spider.getOnePage(i)\n",
    "        \n",
    "        result = my_spider.parse_Data(html)\n",
    "        \n",
    "        my_spider.save_Data(result)"
   ]
  },
  {
   "cell_type": "code",
   "execution_count": null,
   "metadata": {},
   "outputs": [],
   "source": []
  }
 ],
 "metadata": {
  "kernelspec": {
   "display_name": "Python 3",
   "language": "python",
   "name": "python3"
  },
  "language_info": {
   "codemirror_mode": {
    "name": "ipython",
    "version": 3
   },
   "file_extension": ".py",
   "mimetype": "text/x-python",
   "name": "python",
   "nbconvert_exporter": "python",
   "pygments_lexer": "ipython3",
   "version": "3.6.5"
  },
  "toc": {
   "base_numbering": 1,
   "nav_menu": {},
   "number_sections": true,
   "sideBar": true,
   "skip_h1_title": false,
   "title_cell": "Table of Contents",
   "title_sidebar": "Contents",
   "toc_cell": false,
   "toc_position": {},
   "toc_section_display": true,
   "toc_window_display": false
  },
  "varInspector": {
   "cols": {
    "lenName": 16,
    "lenType": 16,
    "lenVar": 40
   },
   "kernels_config": {
    "python": {
     "delete_cmd_postfix": "",
     "delete_cmd_prefix": "del ",
     "library": "var_list.py",
     "varRefreshCmd": "print(var_dic_list())"
    },
    "r": {
     "delete_cmd_postfix": ") ",
     "delete_cmd_prefix": "rm(",
     "library": "var_list.r",
     "varRefreshCmd": "cat(var_dic_list()) "
    }
   },
   "types_to_exclude": [
    "module",
    "function",
    "builtin_function_or_method",
    "instance",
    "_Feature"
   ],
   "window_display": false
  }
 },
 "nbformat": 4,
 "nbformat_minor": 2
}
