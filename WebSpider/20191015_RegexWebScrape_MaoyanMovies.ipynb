{
 "cells": [
  {
   "cell_type": "markdown",
   "metadata": {},
   "source": [
    "## 爬取猫眼电影"
   ]
  },
  {
   "cell_type": "markdown",
   "metadata": {},
   "source": [
    "### 爬取步骤\n",
    "1、发送请求：Request\n",
    "\n",
    "2、获取数据：Response\n",
    "\n",
    "3、解析数据\n",
    "\n",
    "4、分析数据"
   ]
  },
  {
   "cell_type": "markdown",
   "metadata": {},
   "source": [
    "### 代码内容"
   ]
  },
  {
   "cell_type": "code",
   "execution_count": 8,
   "metadata": {},
   "outputs": [
    {
     "name": "stdout",
     "output_type": "stream",
     "text": [
      "1 :霸王别姬\n",
      "\n",
      "2 :肖申克的救赎\n",
      "\n",
      "3 :罗马假日\n",
      "\n",
      "4 :这个杀手不太冷\n",
      "\n",
      "5 :泰坦尼克号\n",
      "\n",
      "6 :唐伯虎点秋香\n",
      "\n",
      "7 :魂断蓝桥\n",
      "\n",
      "8 :乱世佳人\n",
      "\n",
      "9 :天空之城\n",
      "\n",
      "10 :辛德勒的名单\n",
      "\n",
      "11 :喜剧之王\n",
      "\n",
      "12 :音乐之声\n",
      "\n",
      "13 :大闹天宫\n",
      "\n",
      "14 :春光乍泄\n",
      "\n",
      "15 :剪刀手爱德华\n",
      "\n",
      "16 :海上钢琴师\n",
      "\n",
      "17 :美丽人生\n",
      "\n",
      "18 :黑客帝国\n",
      "\n",
      "19 :哈利·波特与魔法石\n",
      "\n",
      "20 :指环王3：王者无敌\n",
      "\n"
     ]
    }
   ],
   "source": [
    "import re\n",
    "import requests\n",
    "\n",
    "\n",
    "class MySpider(object):\n",
    "    def __init__(self, base_url, headers):\n",
    "        self.base_url = base_url\n",
    "        self.headers = headers\n",
    "\n",
    "    # 获取一页网页数据\n",
    "    def getOnePage(self, start_num):\n",
    "        # .format 格式化函数，对应后文的 base_url = \"https://maoyan.com/board/4?offset=0{}\"\n",
    "        url = self.base_url.format(start_num)\n",
    "        response = requests.get(url=url, headers=self.headers)\n",
    "\n",
    "        # 如果成功获得请求，则使用 utf-8 解码\n",
    "        if response.status_code == 200:\n",
    "            return response.content.decode('utf-8')\n",
    "        else:\n",
    "            return None\n",
    "\n",
    "    # 解析数据\n",
    "    def parse_onePage(self, html):\n",
    "        # 获取排名\n",
    "        # 根据页面元素的源代码结构获取目标结果\n",
    "        #         pattern = re.compile('<dd>.*?board-index.*?>(\\d+)</i>.*?</dd>', re.S)\n",
    "        # <i class=\"board-index board-index-2\">2</i>\n",
    "        #         print(re.findall(pattern,html))\n",
    "\n",
    "        # 获取排名和名字\n",
    "        pattern_02 = re.compile(\n",
    "            '<dd>.*?board-index.*?>(\\d+)</i>.*?movie-item-info.*?>.*?<a' +\n",
    "            '.*?title=\"(.*?)\".*?>.*?</dd>', re.S)\n",
    "        #         print(re.findall(pattern_02,html))\n",
    "\n",
    "        # 返回解析获得的数据\n",
    "        return re.findall(pattern_02, html)\n",
    "\n",
    "    # 保存数据\n",
    "    def save_data(self, data):\n",
    "        for value in data:\n",
    "            list1 = []\n",
    "            for valueData in value:\n",
    "                list1.append(valueData)\n",
    "\n",
    "            # 将列表的内容转换为字符串\n",
    "            movieStr = \" :\".join(list1) + \"\\n\"\n",
    "            print(movieStr)\n",
    "            with open(\"movieStr.txt\", \"a\", encoding=\"utf-8\") as f:\n",
    "                f.write(movieStr)\n",
    "\n",
    "\n",
    "if __name__ == \"__main__\":\n",
    "    base_url = \"https://maoyan.com/board/4?offset={}\"\n",
    "    headers = {\n",
    "        'User-Agent':\n",
    "        'Mozilla/5.0 (Windows NT 10.0; Win64; x64; rv:69.0) Gecko/20100101 Firefox/69.0'\n",
    "    }\n",
    "\n",
    "    my_spider = MySpider(base_url, headers)\n",
    "\n",
    "    # 发起请求并获取数据\n",
    "    for i in range(0, 11, 10):\n",
    "        html = my_spider.getOnePage(i)\n",
    "\n",
    "        # 解析数据\n",
    "        result_data = my_spider.parse_onePage(html)\n",
    "\n",
    "        # 保存数据\n",
    "        my_spider.save_data(result_data)"
   ]
  },
  {
   "cell_type": "code",
   "execution_count": null,
   "metadata": {},
   "outputs": [],
   "source": []
  }
 ],
 "metadata": {
  "kernelspec": {
   "display_name": "Python 3",
   "language": "python",
   "name": "python3"
  },
  "language_info": {
   "codemirror_mode": {
    "name": "ipython",
    "version": 3
   },
   "file_extension": ".py",
   "mimetype": "text/x-python",
   "name": "python",
   "nbconvert_exporter": "python",
   "pygments_lexer": "ipython3",
   "version": "3.6.5"
  },
  "toc": {
   "base_numbering": 1,
   "nav_menu": {},
   "number_sections": true,
   "sideBar": true,
   "skip_h1_title": false,
   "title_cell": "Table of Contents",
   "title_sidebar": "Contents",
   "toc_cell": false,
   "toc_position": {},
   "toc_section_display": true,
   "toc_window_display": false
  },
  "varInspector": {
   "cols": {
    "lenName": 16,
    "lenType": 16,
    "lenVar": 40
   },
   "kernels_config": {
    "python": {
     "delete_cmd_postfix": "",
     "delete_cmd_prefix": "del ",
     "library": "var_list.py",
     "varRefreshCmd": "print(var_dic_list())"
    },
    "r": {
     "delete_cmd_postfix": ") ",
     "delete_cmd_prefix": "rm(",
     "library": "var_list.r",
     "varRefreshCmd": "cat(var_dic_list()) "
    }
   },
   "types_to_exclude": [
    "module",
    "function",
    "builtin_function_or_method",
    "instance",
    "_Feature"
   ],
   "window_display": false
  }
 },
 "nbformat": 4,
 "nbformat_minor": 2
}
